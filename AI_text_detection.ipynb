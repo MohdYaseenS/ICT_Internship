{
  "nbformat": 4,
  "nbformat_minor": 0,
  "metadata": {
    "colab": {
      "provenance": [],
      "gpuType": "V28"
    },
    "kernelspec": {
      "name": "python3",
      "display_name": "Python 3"
    },
    "language_info": {
      "name": "python"
    },
    "accelerator": "TPU",
    "widgets": {
      "application/vnd.jupyter.widget-state+json": {
        "f7aaf3ab3ec243ed9edb0b8540f889f3": {
          "model_module": "@jupyter-widgets/controls",
          "model_name": "HBoxModel",
          "model_module_version": "1.5.0",
          "state": {
            "_dom_classes": [],
            "_model_module": "@jupyter-widgets/controls",
            "_model_module_version": "1.5.0",
            "_model_name": "HBoxModel",
            "_view_count": null,
            "_view_module": "@jupyter-widgets/controls",
            "_view_module_version": "1.5.0",
            "_view_name": "HBoxView",
            "box_style": "",
            "children": [
              "IPY_MODEL_ee25e950f6f54a69b87ac6eb34dacce0",
              "IPY_MODEL_fc23dcf98b4f407a90a655f7ea8ff9b5",
              "IPY_MODEL_9d99568c49d04b4183931d20b8552261"
            ],
            "layout": "IPY_MODEL_5d6c5c396adc44b8883f525887f79491"
          }
        },
        "ee25e950f6f54a69b87ac6eb34dacce0": {
          "model_module": "@jupyter-widgets/controls",
          "model_name": "HTMLModel",
          "model_module_version": "1.5.0",
          "state": {
            "_dom_classes": [],
            "_model_module": "@jupyter-widgets/controls",
            "_model_module_version": "1.5.0",
            "_model_name": "HTMLModel",
            "_view_count": null,
            "_view_module": "@jupyter-widgets/controls",
            "_view_module_version": "1.5.0",
            "_view_name": "HTMLView",
            "description": "",
            "description_tooltip": null,
            "layout": "IPY_MODEL_269d94b7a2ae4b18b5316a7f9e39a1fb",
            "placeholder": "​",
            "style": "IPY_MODEL_949161665cca44c595303e0990681524",
            "value": "tokenizer_config.json: 100%"
          }
        },
        "fc23dcf98b4f407a90a655f7ea8ff9b5": {
          "model_module": "@jupyter-widgets/controls",
          "model_name": "FloatProgressModel",
          "model_module_version": "1.5.0",
          "state": {
            "_dom_classes": [],
            "_model_module": "@jupyter-widgets/controls",
            "_model_module_version": "1.5.0",
            "_model_name": "FloatProgressModel",
            "_view_count": null,
            "_view_module": "@jupyter-widgets/controls",
            "_view_module_version": "1.5.0",
            "_view_name": "ProgressView",
            "bar_style": "success",
            "description": "",
            "description_tooltip": null,
            "layout": "IPY_MODEL_00b0e89e9c9a4fc8a66a76422327e50a",
            "max": 26,
            "min": 0,
            "orientation": "horizontal",
            "style": "IPY_MODEL_9ed7e32b0bbf42acbbde2a49a33c5417",
            "value": 26
          }
        },
        "9d99568c49d04b4183931d20b8552261": {
          "model_module": "@jupyter-widgets/controls",
          "model_name": "HTMLModel",
          "model_module_version": "1.5.0",
          "state": {
            "_dom_classes": [],
            "_model_module": "@jupyter-widgets/controls",
            "_model_module_version": "1.5.0",
            "_model_name": "HTMLModel",
            "_view_count": null,
            "_view_module": "@jupyter-widgets/controls",
            "_view_module_version": "1.5.0",
            "_view_name": "HTMLView",
            "description": "",
            "description_tooltip": null,
            "layout": "IPY_MODEL_9f9d6cd7550c4546b44a2e07f50d7da2",
            "placeholder": "​",
            "style": "IPY_MODEL_a548fe1bbc6c42a59fdf8dc66eea37de",
            "value": " 26.0/26.0 [00:00&lt;00:00, 361B/s]"
          }
        },
        "5d6c5c396adc44b8883f525887f79491": {
          "model_module": "@jupyter-widgets/base",
          "model_name": "LayoutModel",
          "model_module_version": "1.2.0",
          "state": {
            "_model_module": "@jupyter-widgets/base",
            "_model_module_version": "1.2.0",
            "_model_name": "LayoutModel",
            "_view_count": null,
            "_view_module": "@jupyter-widgets/base",
            "_view_module_version": "1.2.0",
            "_view_name": "LayoutView",
            "align_content": null,
            "align_items": null,
            "align_self": null,
            "border": null,
            "bottom": null,
            "display": null,
            "flex": null,
            "flex_flow": null,
            "grid_area": null,
            "grid_auto_columns": null,
            "grid_auto_flow": null,
            "grid_auto_rows": null,
            "grid_column": null,
            "grid_gap": null,
            "grid_row": null,
            "grid_template_areas": null,
            "grid_template_columns": null,
            "grid_template_rows": null,
            "height": null,
            "justify_content": null,
            "justify_items": null,
            "left": null,
            "margin": null,
            "max_height": null,
            "max_width": null,
            "min_height": null,
            "min_width": null,
            "object_fit": null,
            "object_position": null,
            "order": null,
            "overflow": null,
            "overflow_x": null,
            "overflow_y": null,
            "padding": null,
            "right": null,
            "top": null,
            "visibility": null,
            "width": null
          }
        },
        "269d94b7a2ae4b18b5316a7f9e39a1fb": {
          "model_module": "@jupyter-widgets/base",
          "model_name": "LayoutModel",
          "model_module_version": "1.2.0",
          "state": {
            "_model_module": "@jupyter-widgets/base",
            "_model_module_version": "1.2.0",
            "_model_name": "LayoutModel",
            "_view_count": null,
            "_view_module": "@jupyter-widgets/base",
            "_view_module_version": "1.2.0",
            "_view_name": "LayoutView",
            "align_content": null,
            "align_items": null,
            "align_self": null,
            "border": null,
            "bottom": null,
            "display": null,
            "flex": null,
            "flex_flow": null,
            "grid_area": null,
            "grid_auto_columns": null,
            "grid_auto_flow": null,
            "grid_auto_rows": null,
            "grid_column": null,
            "grid_gap": null,
            "grid_row": null,
            "grid_template_areas": null,
            "grid_template_columns": null,
            "grid_template_rows": null,
            "height": null,
            "justify_content": null,
            "justify_items": null,
            "left": null,
            "margin": null,
            "max_height": null,
            "max_width": null,
            "min_height": null,
            "min_width": null,
            "object_fit": null,
            "object_position": null,
            "order": null,
            "overflow": null,
            "overflow_x": null,
            "overflow_y": null,
            "padding": null,
            "right": null,
            "top": null,
            "visibility": null,
            "width": null
          }
        },
        "949161665cca44c595303e0990681524": {
          "model_module": "@jupyter-widgets/controls",
          "model_name": "DescriptionStyleModel",
          "model_module_version": "1.5.0",
          "state": {
            "_model_module": "@jupyter-widgets/controls",
            "_model_module_version": "1.5.0",
            "_model_name": "DescriptionStyleModel",
            "_view_count": null,
            "_view_module": "@jupyter-widgets/base",
            "_view_module_version": "1.2.0",
            "_view_name": "StyleView",
            "description_width": ""
          }
        },
        "00b0e89e9c9a4fc8a66a76422327e50a": {
          "model_module": "@jupyter-widgets/base",
          "model_name": "LayoutModel",
          "model_module_version": "1.2.0",
          "state": {
            "_model_module": "@jupyter-widgets/base",
            "_model_module_version": "1.2.0",
            "_model_name": "LayoutModel",
            "_view_count": null,
            "_view_module": "@jupyter-widgets/base",
            "_view_module_version": "1.2.0",
            "_view_name": "LayoutView",
            "align_content": null,
            "align_items": null,
            "align_self": null,
            "border": null,
            "bottom": null,
            "display": null,
            "flex": null,
            "flex_flow": null,
            "grid_area": null,
            "grid_auto_columns": null,
            "grid_auto_flow": null,
            "grid_auto_rows": null,
            "grid_column": null,
            "grid_gap": null,
            "grid_row": null,
            "grid_template_areas": null,
            "grid_template_columns": null,
            "grid_template_rows": null,
            "height": null,
            "justify_content": null,
            "justify_items": null,
            "left": null,
            "margin": null,
            "max_height": null,
            "max_width": null,
            "min_height": null,
            "min_width": null,
            "object_fit": null,
            "object_position": null,
            "order": null,
            "overflow": null,
            "overflow_x": null,
            "overflow_y": null,
            "padding": null,
            "right": null,
            "top": null,
            "visibility": null,
            "width": null
          }
        },
        "9ed7e32b0bbf42acbbde2a49a33c5417": {
          "model_module": "@jupyter-widgets/controls",
          "model_name": "ProgressStyleModel",
          "model_module_version": "1.5.0",
          "state": {
            "_model_module": "@jupyter-widgets/controls",
            "_model_module_version": "1.5.0",
            "_model_name": "ProgressStyleModel",
            "_view_count": null,
            "_view_module": "@jupyter-widgets/base",
            "_view_module_version": "1.2.0",
            "_view_name": "StyleView",
            "bar_color": null,
            "description_width": ""
          }
        },
        "9f9d6cd7550c4546b44a2e07f50d7da2": {
          "model_module": "@jupyter-widgets/base",
          "model_name": "LayoutModel",
          "model_module_version": "1.2.0",
          "state": {
            "_model_module": "@jupyter-widgets/base",
            "_model_module_version": "1.2.0",
            "_model_name": "LayoutModel",
            "_view_count": null,
            "_view_module": "@jupyter-widgets/base",
            "_view_module_version": "1.2.0",
            "_view_name": "LayoutView",
            "align_content": null,
            "align_items": null,
            "align_self": null,
            "border": null,
            "bottom": null,
            "display": null,
            "flex": null,
            "flex_flow": null,
            "grid_area": null,
            "grid_auto_columns": null,
            "grid_auto_flow": null,
            "grid_auto_rows": null,
            "grid_column": null,
            "grid_gap": null,
            "grid_row": null,
            "grid_template_areas": null,
            "grid_template_columns": null,
            "grid_template_rows": null,
            "height": null,
            "justify_content": null,
            "justify_items": null,
            "left": null,
            "margin": null,
            "max_height": null,
            "max_width": null,
            "min_height": null,
            "min_width": null,
            "object_fit": null,
            "object_position": null,
            "order": null,
            "overflow": null,
            "overflow_x": null,
            "overflow_y": null,
            "padding": null,
            "right": null,
            "top": null,
            "visibility": null,
            "width": null
          }
        },
        "a548fe1bbc6c42a59fdf8dc66eea37de": {
          "model_module": "@jupyter-widgets/controls",
          "model_name": "DescriptionStyleModel",
          "model_module_version": "1.5.0",
          "state": {
            "_model_module": "@jupyter-widgets/controls",
            "_model_module_version": "1.5.0",
            "_model_name": "DescriptionStyleModel",
            "_view_count": null,
            "_view_module": "@jupyter-widgets/base",
            "_view_module_version": "1.2.0",
            "_view_name": "StyleView",
            "description_width": ""
          }
        },
        "e73e8c10ec4c4261acdb2fdd6c61da1c": {
          "model_module": "@jupyter-widgets/controls",
          "model_name": "HBoxModel",
          "model_module_version": "1.5.0",
          "state": {
            "_dom_classes": [],
            "_model_module": "@jupyter-widgets/controls",
            "_model_module_version": "1.5.0",
            "_model_name": "HBoxModel",
            "_view_count": null,
            "_view_module": "@jupyter-widgets/controls",
            "_view_module_version": "1.5.0",
            "_view_name": "HBoxView",
            "box_style": "",
            "children": [
              "IPY_MODEL_ffe01b70315845e181b905d98160bf4e",
              "IPY_MODEL_6c2fbf70332a4f2f9ffa1f8a49ab2fa4",
              "IPY_MODEL_6da7699b85884fcda17b729137c1b952"
            ],
            "layout": "IPY_MODEL_d5a098128be84c379ce90143f5b02952"
          }
        },
        "ffe01b70315845e181b905d98160bf4e": {
          "model_module": "@jupyter-widgets/controls",
          "model_name": "HTMLModel",
          "model_module_version": "1.5.0",
          "state": {
            "_dom_classes": [],
            "_model_module": "@jupyter-widgets/controls",
            "_model_module_version": "1.5.0",
            "_model_name": "HTMLModel",
            "_view_count": null,
            "_view_module": "@jupyter-widgets/controls",
            "_view_module_version": "1.5.0",
            "_view_name": "HTMLView",
            "description": "",
            "description_tooltip": null,
            "layout": "IPY_MODEL_d22ec0fc50024541af177e268d9d76d3",
            "placeholder": "​",
            "style": "IPY_MODEL_979692db537d4757b8cfa23f0a109ab2",
            "value": "vocab.json: 100%"
          }
        },
        "6c2fbf70332a4f2f9ffa1f8a49ab2fa4": {
          "model_module": "@jupyter-widgets/controls",
          "model_name": "FloatProgressModel",
          "model_module_version": "1.5.0",
          "state": {
            "_dom_classes": [],
            "_model_module": "@jupyter-widgets/controls",
            "_model_module_version": "1.5.0",
            "_model_name": "FloatProgressModel",
            "_view_count": null,
            "_view_module": "@jupyter-widgets/controls",
            "_view_module_version": "1.5.0",
            "_view_name": "ProgressView",
            "bar_style": "success",
            "description": "",
            "description_tooltip": null,
            "layout": "IPY_MODEL_fc39b532812c478ea6c6ad51e8001d29",
            "max": 1042301,
            "min": 0,
            "orientation": "horizontal",
            "style": "IPY_MODEL_c378024984364b6c84a2073ad805e696",
            "value": 1042301
          }
        },
        "6da7699b85884fcda17b729137c1b952": {
          "model_module": "@jupyter-widgets/controls",
          "model_name": "HTMLModel",
          "model_module_version": "1.5.0",
          "state": {
            "_dom_classes": [],
            "_model_module": "@jupyter-widgets/controls",
            "_model_module_version": "1.5.0",
            "_model_name": "HTMLModel",
            "_view_count": null,
            "_view_module": "@jupyter-widgets/controls",
            "_view_module_version": "1.5.0",
            "_view_name": "HTMLView",
            "description": "",
            "description_tooltip": null,
            "layout": "IPY_MODEL_35db9f0e58774a9d9904bec48cb967b5",
            "placeholder": "​",
            "style": "IPY_MODEL_b1e47ee5c9b049c29b1a83919b9844ee",
            "value": " 1.04M/1.04M [00:00&lt;00:00, 3.88MB/s]"
          }
        },
        "d5a098128be84c379ce90143f5b02952": {
          "model_module": "@jupyter-widgets/base",
          "model_name": "LayoutModel",
          "model_module_version": "1.2.0",
          "state": {
            "_model_module": "@jupyter-widgets/base",
            "_model_module_version": "1.2.0",
            "_model_name": "LayoutModel",
            "_view_count": null,
            "_view_module": "@jupyter-widgets/base",
            "_view_module_version": "1.2.0",
            "_view_name": "LayoutView",
            "align_content": null,
            "align_items": null,
            "align_self": null,
            "border": null,
            "bottom": null,
            "display": null,
            "flex": null,
            "flex_flow": null,
            "grid_area": null,
            "grid_auto_columns": null,
            "grid_auto_flow": null,
            "grid_auto_rows": null,
            "grid_column": null,
            "grid_gap": null,
            "grid_row": null,
            "grid_template_areas": null,
            "grid_template_columns": null,
            "grid_template_rows": null,
            "height": null,
            "justify_content": null,
            "justify_items": null,
            "left": null,
            "margin": null,
            "max_height": null,
            "max_width": null,
            "min_height": null,
            "min_width": null,
            "object_fit": null,
            "object_position": null,
            "order": null,
            "overflow": null,
            "overflow_x": null,
            "overflow_y": null,
            "padding": null,
            "right": null,
            "top": null,
            "visibility": null,
            "width": null
          }
        },
        "d22ec0fc50024541af177e268d9d76d3": {
          "model_module": "@jupyter-widgets/base",
          "model_name": "LayoutModel",
          "model_module_version": "1.2.0",
          "state": {
            "_model_module": "@jupyter-widgets/base",
            "_model_module_version": "1.2.0",
            "_model_name": "LayoutModel",
            "_view_count": null,
            "_view_module": "@jupyter-widgets/base",
            "_view_module_version": "1.2.0",
            "_view_name": "LayoutView",
            "align_content": null,
            "align_items": null,
            "align_self": null,
            "border": null,
            "bottom": null,
            "display": null,
            "flex": null,
            "flex_flow": null,
            "grid_area": null,
            "grid_auto_columns": null,
            "grid_auto_flow": null,
            "grid_auto_rows": null,
            "grid_column": null,
            "grid_gap": null,
            "grid_row": null,
            "grid_template_areas": null,
            "grid_template_columns": null,
            "grid_template_rows": null,
            "height": null,
            "justify_content": null,
            "justify_items": null,
            "left": null,
            "margin": null,
            "max_height": null,
            "max_width": null,
            "min_height": null,
            "min_width": null,
            "object_fit": null,
            "object_position": null,
            "order": null,
            "overflow": null,
            "overflow_x": null,
            "overflow_y": null,
            "padding": null,
            "right": null,
            "top": null,
            "visibility": null,
            "width": null
          }
        },
        "979692db537d4757b8cfa23f0a109ab2": {
          "model_module": "@jupyter-widgets/controls",
          "model_name": "DescriptionStyleModel",
          "model_module_version": "1.5.0",
          "state": {
            "_model_module": "@jupyter-widgets/controls",
            "_model_module_version": "1.5.0",
            "_model_name": "DescriptionStyleModel",
            "_view_count": null,
            "_view_module": "@jupyter-widgets/base",
            "_view_module_version": "1.2.0",
            "_view_name": "StyleView",
            "description_width": ""
          }
        },
        "fc39b532812c478ea6c6ad51e8001d29": {
          "model_module": "@jupyter-widgets/base",
          "model_name": "LayoutModel",
          "model_module_version": "1.2.0",
          "state": {
            "_model_module": "@jupyter-widgets/base",
            "_model_module_version": "1.2.0",
            "_model_name": "LayoutModel",
            "_view_count": null,
            "_view_module": "@jupyter-widgets/base",
            "_view_module_version": "1.2.0",
            "_view_name": "LayoutView",
            "align_content": null,
            "align_items": null,
            "align_self": null,
            "border": null,
            "bottom": null,
            "display": null,
            "flex": null,
            "flex_flow": null,
            "grid_area": null,
            "grid_auto_columns": null,
            "grid_auto_flow": null,
            "grid_auto_rows": null,
            "grid_column": null,
            "grid_gap": null,
            "grid_row": null,
            "grid_template_areas": null,
            "grid_template_columns": null,
            "grid_template_rows": null,
            "height": null,
            "justify_content": null,
            "justify_items": null,
            "left": null,
            "margin": null,
            "max_height": null,
            "max_width": null,
            "min_height": null,
            "min_width": null,
            "object_fit": null,
            "object_position": null,
            "order": null,
            "overflow": null,
            "overflow_x": null,
            "overflow_y": null,
            "padding": null,
            "right": null,
            "top": null,
            "visibility": null,
            "width": null
          }
        },
        "c378024984364b6c84a2073ad805e696": {
          "model_module": "@jupyter-widgets/controls",
          "model_name": "ProgressStyleModel",
          "model_module_version": "1.5.0",
          "state": {
            "_model_module": "@jupyter-widgets/controls",
            "_model_module_version": "1.5.0",
            "_model_name": "ProgressStyleModel",
            "_view_count": null,
            "_view_module": "@jupyter-widgets/base",
            "_view_module_version": "1.2.0",
            "_view_name": "StyleView",
            "bar_color": null,
            "description_width": ""
          }
        },
        "35db9f0e58774a9d9904bec48cb967b5": {
          "model_module": "@jupyter-widgets/base",
          "model_name": "LayoutModel",
          "model_module_version": "1.2.0",
          "state": {
            "_model_module": "@jupyter-widgets/base",
            "_model_module_version": "1.2.0",
            "_model_name": "LayoutModel",
            "_view_count": null,
            "_view_module": "@jupyter-widgets/base",
            "_view_module_version": "1.2.0",
            "_view_name": "LayoutView",
            "align_content": null,
            "align_items": null,
            "align_self": null,
            "border": null,
            "bottom": null,
            "display": null,
            "flex": null,
            "flex_flow": null,
            "grid_area": null,
            "grid_auto_columns": null,
            "grid_auto_flow": null,
            "grid_auto_rows": null,
            "grid_column": null,
            "grid_gap": null,
            "grid_row": null,
            "grid_template_areas": null,
            "grid_template_columns": null,
            "grid_template_rows": null,
            "height": null,
            "justify_content": null,
            "justify_items": null,
            "left": null,
            "margin": null,
            "max_height": null,
            "max_width": null,
            "min_height": null,
            "min_width": null,
            "object_fit": null,
            "object_position": null,
            "order": null,
            "overflow": null,
            "overflow_x": null,
            "overflow_y": null,
            "padding": null,
            "right": null,
            "top": null,
            "visibility": null,
            "width": null
          }
        },
        "b1e47ee5c9b049c29b1a83919b9844ee": {
          "model_module": "@jupyter-widgets/controls",
          "model_name": "DescriptionStyleModel",
          "model_module_version": "1.5.0",
          "state": {
            "_model_module": "@jupyter-widgets/controls",
            "_model_module_version": "1.5.0",
            "_model_name": "DescriptionStyleModel",
            "_view_count": null,
            "_view_module": "@jupyter-widgets/base",
            "_view_module_version": "1.2.0",
            "_view_name": "StyleView",
            "description_width": ""
          }
        },
        "ba3ad86a51974d73915476b0b6bb7484": {
          "model_module": "@jupyter-widgets/controls",
          "model_name": "HBoxModel",
          "model_module_version": "1.5.0",
          "state": {
            "_dom_classes": [],
            "_model_module": "@jupyter-widgets/controls",
            "_model_module_version": "1.5.0",
            "_model_name": "HBoxModel",
            "_view_count": null,
            "_view_module": "@jupyter-widgets/controls",
            "_view_module_version": "1.5.0",
            "_view_name": "HBoxView",
            "box_style": "",
            "children": [
              "IPY_MODEL_30f41ca4726d431aab94218d92d84644",
              "IPY_MODEL_e6cb20b103a04e4e85d0c8ff4f9c04c8",
              "IPY_MODEL_ff69568e7d7d4fa9bf77b0af47a86f5d"
            ],
            "layout": "IPY_MODEL_745d5dbfa09b485487ddf5505dcde09d"
          }
        },
        "30f41ca4726d431aab94218d92d84644": {
          "model_module": "@jupyter-widgets/controls",
          "model_name": "HTMLModel",
          "model_module_version": "1.5.0",
          "state": {
            "_dom_classes": [],
            "_model_module": "@jupyter-widgets/controls",
            "_model_module_version": "1.5.0",
            "_model_name": "HTMLModel",
            "_view_count": null,
            "_view_module": "@jupyter-widgets/controls",
            "_view_module_version": "1.5.0",
            "_view_name": "HTMLView",
            "description": "",
            "description_tooltip": null,
            "layout": "IPY_MODEL_02fb0c3e37d0408c954cfd5ddc298457",
            "placeholder": "​",
            "style": "IPY_MODEL_95bdf7851baf4d71a6fb641993210caa",
            "value": "merges.txt: 100%"
          }
        },
        "e6cb20b103a04e4e85d0c8ff4f9c04c8": {
          "model_module": "@jupyter-widgets/controls",
          "model_name": "FloatProgressModel",
          "model_module_version": "1.5.0",
          "state": {
            "_dom_classes": [],
            "_model_module": "@jupyter-widgets/controls",
            "_model_module_version": "1.5.0",
            "_model_name": "FloatProgressModel",
            "_view_count": null,
            "_view_module": "@jupyter-widgets/controls",
            "_view_module_version": "1.5.0",
            "_view_name": "ProgressView",
            "bar_style": "success",
            "description": "",
            "description_tooltip": null,
            "layout": "IPY_MODEL_e8ef300ccab8421b97348fe076aaf2e6",
            "max": 456318,
            "min": 0,
            "orientation": "horizontal",
            "style": "IPY_MODEL_f82ba7de50d046ff9788d107dc87f6b6",
            "value": 456318
          }
        },
        "ff69568e7d7d4fa9bf77b0af47a86f5d": {
          "model_module": "@jupyter-widgets/controls",
          "model_name": "HTMLModel",
          "model_module_version": "1.5.0",
          "state": {
            "_dom_classes": [],
            "_model_module": "@jupyter-widgets/controls",
            "_model_module_version": "1.5.0",
            "_model_name": "HTMLModel",
            "_view_count": null,
            "_view_module": "@jupyter-widgets/controls",
            "_view_module_version": "1.5.0",
            "_view_name": "HTMLView",
            "description": "",
            "description_tooltip": null,
            "layout": "IPY_MODEL_532df6d12ec54b9c999d606da7bcb34d",
            "placeholder": "​",
            "style": "IPY_MODEL_224a39be0c794fe0867c268a31fc02ba",
            "value": " 456k/456k [00:00&lt;00:00, 6.63MB/s]"
          }
        },
        "745d5dbfa09b485487ddf5505dcde09d": {
          "model_module": "@jupyter-widgets/base",
          "model_name": "LayoutModel",
          "model_module_version": "1.2.0",
          "state": {
            "_model_module": "@jupyter-widgets/base",
            "_model_module_version": "1.2.0",
            "_model_name": "LayoutModel",
            "_view_count": null,
            "_view_module": "@jupyter-widgets/base",
            "_view_module_version": "1.2.0",
            "_view_name": "LayoutView",
            "align_content": null,
            "align_items": null,
            "align_self": null,
            "border": null,
            "bottom": null,
            "display": null,
            "flex": null,
            "flex_flow": null,
            "grid_area": null,
            "grid_auto_columns": null,
            "grid_auto_flow": null,
            "grid_auto_rows": null,
            "grid_column": null,
            "grid_gap": null,
            "grid_row": null,
            "grid_template_areas": null,
            "grid_template_columns": null,
            "grid_template_rows": null,
            "height": null,
            "justify_content": null,
            "justify_items": null,
            "left": null,
            "margin": null,
            "max_height": null,
            "max_width": null,
            "min_height": null,
            "min_width": null,
            "object_fit": null,
            "object_position": null,
            "order": null,
            "overflow": null,
            "overflow_x": null,
            "overflow_y": null,
            "padding": null,
            "right": null,
            "top": null,
            "visibility": null,
            "width": null
          }
        },
        "02fb0c3e37d0408c954cfd5ddc298457": {
          "model_module": "@jupyter-widgets/base",
          "model_name": "LayoutModel",
          "model_module_version": "1.2.0",
          "state": {
            "_model_module": "@jupyter-widgets/base",
            "_model_module_version": "1.2.0",
            "_model_name": "LayoutModel",
            "_view_count": null,
            "_view_module": "@jupyter-widgets/base",
            "_view_module_version": "1.2.0",
            "_view_name": "LayoutView",
            "align_content": null,
            "align_items": null,
            "align_self": null,
            "border": null,
            "bottom": null,
            "display": null,
            "flex": null,
            "flex_flow": null,
            "grid_area": null,
            "grid_auto_columns": null,
            "grid_auto_flow": null,
            "grid_auto_rows": null,
            "grid_column": null,
            "grid_gap": null,
            "grid_row": null,
            "grid_template_areas": null,
            "grid_template_columns": null,
            "grid_template_rows": null,
            "height": null,
            "justify_content": null,
            "justify_items": null,
            "left": null,
            "margin": null,
            "max_height": null,
            "max_width": null,
            "min_height": null,
            "min_width": null,
            "object_fit": null,
            "object_position": null,
            "order": null,
            "overflow": null,
            "overflow_x": null,
            "overflow_y": null,
            "padding": null,
            "right": null,
            "top": null,
            "visibility": null,
            "width": null
          }
        },
        "95bdf7851baf4d71a6fb641993210caa": {
          "model_module": "@jupyter-widgets/controls",
          "model_name": "DescriptionStyleModel",
          "model_module_version": "1.5.0",
          "state": {
            "_model_module": "@jupyter-widgets/controls",
            "_model_module_version": "1.5.0",
            "_model_name": "DescriptionStyleModel",
            "_view_count": null,
            "_view_module": "@jupyter-widgets/base",
            "_view_module_version": "1.2.0",
            "_view_name": "StyleView",
            "description_width": ""
          }
        },
        "e8ef300ccab8421b97348fe076aaf2e6": {
          "model_module": "@jupyter-widgets/base",
          "model_name": "LayoutModel",
          "model_module_version": "1.2.0",
          "state": {
            "_model_module": "@jupyter-widgets/base",
            "_model_module_version": "1.2.0",
            "_model_name": "LayoutModel",
            "_view_count": null,
            "_view_module": "@jupyter-widgets/base",
            "_view_module_version": "1.2.0",
            "_view_name": "LayoutView",
            "align_content": null,
            "align_items": null,
            "align_self": null,
            "border": null,
            "bottom": null,
            "display": null,
            "flex": null,
            "flex_flow": null,
            "grid_area": null,
            "grid_auto_columns": null,
            "grid_auto_flow": null,
            "grid_auto_rows": null,
            "grid_column": null,
            "grid_gap": null,
            "grid_row": null,
            "grid_template_areas": null,
            "grid_template_columns": null,
            "grid_template_rows": null,
            "height": null,
            "justify_content": null,
            "justify_items": null,
            "left": null,
            "margin": null,
            "max_height": null,
            "max_width": null,
            "min_height": null,
            "min_width": null,
            "object_fit": null,
            "object_position": null,
            "order": null,
            "overflow": null,
            "overflow_x": null,
            "overflow_y": null,
            "padding": null,
            "right": null,
            "top": null,
            "visibility": null,
            "width": null
          }
        },
        "f82ba7de50d046ff9788d107dc87f6b6": {
          "model_module": "@jupyter-widgets/controls",
          "model_name": "ProgressStyleModel",
          "model_module_version": "1.5.0",
          "state": {
            "_model_module": "@jupyter-widgets/controls",
            "_model_module_version": "1.5.0",
            "_model_name": "ProgressStyleModel",
            "_view_count": null,
            "_view_module": "@jupyter-widgets/base",
            "_view_module_version": "1.2.0",
            "_view_name": "StyleView",
            "bar_color": null,
            "description_width": ""
          }
        },
        "532df6d12ec54b9c999d606da7bcb34d": {
          "model_module": "@jupyter-widgets/base",
          "model_name": "LayoutModel",
          "model_module_version": "1.2.0",
          "state": {
            "_model_module": "@jupyter-widgets/base",
            "_model_module_version": "1.2.0",
            "_model_name": "LayoutModel",
            "_view_count": null,
            "_view_module": "@jupyter-widgets/base",
            "_view_module_version": "1.2.0",
            "_view_name": "LayoutView",
            "align_content": null,
            "align_items": null,
            "align_self": null,
            "border": null,
            "bottom": null,
            "display": null,
            "flex": null,
            "flex_flow": null,
            "grid_area": null,
            "grid_auto_columns": null,
            "grid_auto_flow": null,
            "grid_auto_rows": null,
            "grid_column": null,
            "grid_gap": null,
            "grid_row": null,
            "grid_template_areas": null,
            "grid_template_columns": null,
            "grid_template_rows": null,
            "height": null,
            "justify_content": null,
            "justify_items": null,
            "left": null,
            "margin": null,
            "max_height": null,
            "max_width": null,
            "min_height": null,
            "min_width": null,
            "object_fit": null,
            "object_position": null,
            "order": null,
            "overflow": null,
            "overflow_x": null,
            "overflow_y": null,
            "padding": null,
            "right": null,
            "top": null,
            "visibility": null,
            "width": null
          }
        },
        "224a39be0c794fe0867c268a31fc02ba": {
          "model_module": "@jupyter-widgets/controls",
          "model_name": "DescriptionStyleModel",
          "model_module_version": "1.5.0",
          "state": {
            "_model_module": "@jupyter-widgets/controls",
            "_model_module_version": "1.5.0",
            "_model_name": "DescriptionStyleModel",
            "_view_count": null,
            "_view_module": "@jupyter-widgets/base",
            "_view_module_version": "1.2.0",
            "_view_name": "StyleView",
            "description_width": ""
          }
        },
        "4853a1329b2946769043f3d2d45e505b": {
          "model_module": "@jupyter-widgets/controls",
          "model_name": "HBoxModel",
          "model_module_version": "1.5.0",
          "state": {
            "_dom_classes": [],
            "_model_module": "@jupyter-widgets/controls",
            "_model_module_version": "1.5.0",
            "_model_name": "HBoxModel",
            "_view_count": null,
            "_view_module": "@jupyter-widgets/controls",
            "_view_module_version": "1.5.0",
            "_view_name": "HBoxView",
            "box_style": "",
            "children": [
              "IPY_MODEL_ee12201fd7d64b75a75e0014d8a01673",
              "IPY_MODEL_94ce88ef1c7b4d9f967721bb71f33341",
              "IPY_MODEL_d2e1a14d1c3d4bb0be9464e4d21e28c6"
            ],
            "layout": "IPY_MODEL_3f9bd08c6d514132b0fab0ebe3469c3d"
          }
        },
        "ee12201fd7d64b75a75e0014d8a01673": {
          "model_module": "@jupyter-widgets/controls",
          "model_name": "HTMLModel",
          "model_module_version": "1.5.0",
          "state": {
            "_dom_classes": [],
            "_model_module": "@jupyter-widgets/controls",
            "_model_module_version": "1.5.0",
            "_model_name": "HTMLModel",
            "_view_count": null,
            "_view_module": "@jupyter-widgets/controls",
            "_view_module_version": "1.5.0",
            "_view_name": "HTMLView",
            "description": "",
            "description_tooltip": null,
            "layout": "IPY_MODEL_f003ed45e266402b8da3088a45e36620",
            "placeholder": "​",
            "style": "IPY_MODEL_e434ed5f476e411da75725d21fbedb20",
            "value": "tokenizer.json: 100%"
          }
        },
        "94ce88ef1c7b4d9f967721bb71f33341": {
          "model_module": "@jupyter-widgets/controls",
          "model_name": "FloatProgressModel",
          "model_module_version": "1.5.0",
          "state": {
            "_dom_classes": [],
            "_model_module": "@jupyter-widgets/controls",
            "_model_module_version": "1.5.0",
            "_model_name": "FloatProgressModel",
            "_view_count": null,
            "_view_module": "@jupyter-widgets/controls",
            "_view_module_version": "1.5.0",
            "_view_name": "ProgressView",
            "bar_style": "success",
            "description": "",
            "description_tooltip": null,
            "layout": "IPY_MODEL_f83ba40d3f634aa899765901ad187dce",
            "max": 1355256,
            "min": 0,
            "orientation": "horizontal",
            "style": "IPY_MODEL_f2df8fff11594e1cb1b4a21691e4f847",
            "value": 1355256
          }
        },
        "d2e1a14d1c3d4bb0be9464e4d21e28c6": {
          "model_module": "@jupyter-widgets/controls",
          "model_name": "HTMLModel",
          "model_module_version": "1.5.0",
          "state": {
            "_dom_classes": [],
            "_model_module": "@jupyter-widgets/controls",
            "_model_module_version": "1.5.0",
            "_model_name": "HTMLModel",
            "_view_count": null,
            "_view_module": "@jupyter-widgets/controls",
            "_view_module_version": "1.5.0",
            "_view_name": "HTMLView",
            "description": "",
            "description_tooltip": null,
            "layout": "IPY_MODEL_9bc6325fc0654279bd19a7b68bdfa922",
            "placeholder": "​",
            "style": "IPY_MODEL_fde0089545db458a92103fe887e07722",
            "value": " 1.36M/1.36M [00:00&lt;00:00, 14.5MB/s]"
          }
        },
        "3f9bd08c6d514132b0fab0ebe3469c3d": {
          "model_module": "@jupyter-widgets/base",
          "model_name": "LayoutModel",
          "model_module_version": "1.2.0",
          "state": {
            "_model_module": "@jupyter-widgets/base",
            "_model_module_version": "1.2.0",
            "_model_name": "LayoutModel",
            "_view_count": null,
            "_view_module": "@jupyter-widgets/base",
            "_view_module_version": "1.2.0",
            "_view_name": "LayoutView",
            "align_content": null,
            "align_items": null,
            "align_self": null,
            "border": null,
            "bottom": null,
            "display": null,
            "flex": null,
            "flex_flow": null,
            "grid_area": null,
            "grid_auto_columns": null,
            "grid_auto_flow": null,
            "grid_auto_rows": null,
            "grid_column": null,
            "grid_gap": null,
            "grid_row": null,
            "grid_template_areas": null,
            "grid_template_columns": null,
            "grid_template_rows": null,
            "height": null,
            "justify_content": null,
            "justify_items": null,
            "left": null,
            "margin": null,
            "max_height": null,
            "max_width": null,
            "min_height": null,
            "min_width": null,
            "object_fit": null,
            "object_position": null,
            "order": null,
            "overflow": null,
            "overflow_x": null,
            "overflow_y": null,
            "padding": null,
            "right": null,
            "top": null,
            "visibility": null,
            "width": null
          }
        },
        "f003ed45e266402b8da3088a45e36620": {
          "model_module": "@jupyter-widgets/base",
          "model_name": "LayoutModel",
          "model_module_version": "1.2.0",
          "state": {
            "_model_module": "@jupyter-widgets/base",
            "_model_module_version": "1.2.0",
            "_model_name": "LayoutModel",
            "_view_count": null,
            "_view_module": "@jupyter-widgets/base",
            "_view_module_version": "1.2.0",
            "_view_name": "LayoutView",
            "align_content": null,
            "align_items": null,
            "align_self": null,
            "border": null,
            "bottom": null,
            "display": null,
            "flex": null,
            "flex_flow": null,
            "grid_area": null,
            "grid_auto_columns": null,
            "grid_auto_flow": null,
            "grid_auto_rows": null,
            "grid_column": null,
            "grid_gap": null,
            "grid_row": null,
            "grid_template_areas": null,
            "grid_template_columns": null,
            "grid_template_rows": null,
            "height": null,
            "justify_content": null,
            "justify_items": null,
            "left": null,
            "margin": null,
            "max_height": null,
            "max_width": null,
            "min_height": null,
            "min_width": null,
            "object_fit": null,
            "object_position": null,
            "order": null,
            "overflow": null,
            "overflow_x": null,
            "overflow_y": null,
            "padding": null,
            "right": null,
            "top": null,
            "visibility": null,
            "width": null
          }
        },
        "e434ed5f476e411da75725d21fbedb20": {
          "model_module": "@jupyter-widgets/controls",
          "model_name": "DescriptionStyleModel",
          "model_module_version": "1.5.0",
          "state": {
            "_model_module": "@jupyter-widgets/controls",
            "_model_module_version": "1.5.0",
            "_model_name": "DescriptionStyleModel",
            "_view_count": null,
            "_view_module": "@jupyter-widgets/base",
            "_view_module_version": "1.2.0",
            "_view_name": "StyleView",
            "description_width": ""
          }
        },
        "f83ba40d3f634aa899765901ad187dce": {
          "model_module": "@jupyter-widgets/base",
          "model_name": "LayoutModel",
          "model_module_version": "1.2.0",
          "state": {
            "_model_module": "@jupyter-widgets/base",
            "_model_module_version": "1.2.0",
            "_model_name": "LayoutModel",
            "_view_count": null,
            "_view_module": "@jupyter-widgets/base",
            "_view_module_version": "1.2.0",
            "_view_name": "LayoutView",
            "align_content": null,
            "align_items": null,
            "align_self": null,
            "border": null,
            "bottom": null,
            "display": null,
            "flex": null,
            "flex_flow": null,
            "grid_area": null,
            "grid_auto_columns": null,
            "grid_auto_flow": null,
            "grid_auto_rows": null,
            "grid_column": null,
            "grid_gap": null,
            "grid_row": null,
            "grid_template_areas": null,
            "grid_template_columns": null,
            "grid_template_rows": null,
            "height": null,
            "justify_content": null,
            "justify_items": null,
            "left": null,
            "margin": null,
            "max_height": null,
            "max_width": null,
            "min_height": null,
            "min_width": null,
            "object_fit": null,
            "object_position": null,
            "order": null,
            "overflow": null,
            "overflow_x": null,
            "overflow_y": null,
            "padding": null,
            "right": null,
            "top": null,
            "visibility": null,
            "width": null
          }
        },
        "f2df8fff11594e1cb1b4a21691e4f847": {
          "model_module": "@jupyter-widgets/controls",
          "model_name": "ProgressStyleModel",
          "model_module_version": "1.5.0",
          "state": {
            "_model_module": "@jupyter-widgets/controls",
            "_model_module_version": "1.5.0",
            "_model_name": "ProgressStyleModel",
            "_view_count": null,
            "_view_module": "@jupyter-widgets/base",
            "_view_module_version": "1.2.0",
            "_view_name": "StyleView",
            "bar_color": null,
            "description_width": ""
          }
        },
        "9bc6325fc0654279bd19a7b68bdfa922": {
          "model_module": "@jupyter-widgets/base",
          "model_name": "LayoutModel",
          "model_module_version": "1.2.0",
          "state": {
            "_model_module": "@jupyter-widgets/base",
            "_model_module_version": "1.2.0",
            "_model_name": "LayoutModel",
            "_view_count": null,
            "_view_module": "@jupyter-widgets/base",
            "_view_module_version": "1.2.0",
            "_view_name": "LayoutView",
            "align_content": null,
            "align_items": null,
            "align_self": null,
            "border": null,
            "bottom": null,
            "display": null,
            "flex": null,
            "flex_flow": null,
            "grid_area": null,
            "grid_auto_columns": null,
            "grid_auto_flow": null,
            "grid_auto_rows": null,
            "grid_column": null,
            "grid_gap": null,
            "grid_row": null,
            "grid_template_areas": null,
            "grid_template_columns": null,
            "grid_template_rows": null,
            "height": null,
            "justify_content": null,
            "justify_items": null,
            "left": null,
            "margin": null,
            "max_height": null,
            "max_width": null,
            "min_height": null,
            "min_width": null,
            "object_fit": null,
            "object_position": null,
            "order": null,
            "overflow": null,
            "overflow_x": null,
            "overflow_y": null,
            "padding": null,
            "right": null,
            "top": null,
            "visibility": null,
            "width": null
          }
        },
        "fde0089545db458a92103fe887e07722": {
          "model_module": "@jupyter-widgets/controls",
          "model_name": "DescriptionStyleModel",
          "model_module_version": "1.5.0",
          "state": {
            "_model_module": "@jupyter-widgets/controls",
            "_model_module_version": "1.5.0",
            "_model_name": "DescriptionStyleModel",
            "_view_count": null,
            "_view_module": "@jupyter-widgets/base",
            "_view_module_version": "1.2.0",
            "_view_name": "StyleView",
            "description_width": ""
          }
        },
        "05196891422548de98acd807e7bffdff": {
          "model_module": "@jupyter-widgets/controls",
          "model_name": "HBoxModel",
          "model_module_version": "1.5.0",
          "state": {
            "_dom_classes": [],
            "_model_module": "@jupyter-widgets/controls",
            "_model_module_version": "1.5.0",
            "_model_name": "HBoxModel",
            "_view_count": null,
            "_view_module": "@jupyter-widgets/controls",
            "_view_module_version": "1.5.0",
            "_view_name": "HBoxView",
            "box_style": "",
            "children": [
              "IPY_MODEL_904f1a9e3b134e1fbe9cb8880fcab23d",
              "IPY_MODEL_15a49511901f4090be82858dc743ab75",
              "IPY_MODEL_9163c3bff35e45d7ad7239c77face4b7"
            ],
            "layout": "IPY_MODEL_759eeade39cc4018abff8eace8cfd951"
          }
        },
        "904f1a9e3b134e1fbe9cb8880fcab23d": {
          "model_module": "@jupyter-widgets/controls",
          "model_name": "HTMLModel",
          "model_module_version": "1.5.0",
          "state": {
            "_dom_classes": [],
            "_model_module": "@jupyter-widgets/controls",
            "_model_module_version": "1.5.0",
            "_model_name": "HTMLModel",
            "_view_count": null,
            "_view_module": "@jupyter-widgets/controls",
            "_view_module_version": "1.5.0",
            "_view_name": "HTMLView",
            "description": "",
            "description_tooltip": null,
            "layout": "IPY_MODEL_41aaa579590c4a42846a398649bf73c4",
            "placeholder": "​",
            "style": "IPY_MODEL_872dea17509a4131b63a37b5a35db039",
            "value": "config.json: 100%"
          }
        },
        "15a49511901f4090be82858dc743ab75": {
          "model_module": "@jupyter-widgets/controls",
          "model_name": "FloatProgressModel",
          "model_module_version": "1.5.0",
          "state": {
            "_dom_classes": [],
            "_model_module": "@jupyter-widgets/controls",
            "_model_module_version": "1.5.0",
            "_model_name": "FloatProgressModel",
            "_view_count": null,
            "_view_module": "@jupyter-widgets/controls",
            "_view_module_version": "1.5.0",
            "_view_name": "ProgressView",
            "bar_style": "success",
            "description": "",
            "description_tooltip": null,
            "layout": "IPY_MODEL_82068779acfa43608160156188d4e8ae",
            "max": 665,
            "min": 0,
            "orientation": "horizontal",
            "style": "IPY_MODEL_cece8c93a3124997a54f09bb275737f8",
            "value": 665
          }
        },
        "9163c3bff35e45d7ad7239c77face4b7": {
          "model_module": "@jupyter-widgets/controls",
          "model_name": "HTMLModel",
          "model_module_version": "1.5.0",
          "state": {
            "_dom_classes": [],
            "_model_module": "@jupyter-widgets/controls",
            "_model_module_version": "1.5.0",
            "_model_name": "HTMLModel",
            "_view_count": null,
            "_view_module": "@jupyter-widgets/controls",
            "_view_module_version": "1.5.0",
            "_view_name": "HTMLView",
            "description": "",
            "description_tooltip": null,
            "layout": "IPY_MODEL_4970bb1c440444bb80e1c30ccbd44c50",
            "placeholder": "​",
            "style": "IPY_MODEL_e6a185a75fa94ea59c561d3720d31f6f",
            "value": " 665/665 [00:00&lt;00:00, 8.63kB/s]"
          }
        },
        "759eeade39cc4018abff8eace8cfd951": {
          "model_module": "@jupyter-widgets/base",
          "model_name": "LayoutModel",
          "model_module_version": "1.2.0",
          "state": {
            "_model_module": "@jupyter-widgets/base",
            "_model_module_version": "1.2.0",
            "_model_name": "LayoutModel",
            "_view_count": null,
            "_view_module": "@jupyter-widgets/base",
            "_view_module_version": "1.2.0",
            "_view_name": "LayoutView",
            "align_content": null,
            "align_items": null,
            "align_self": null,
            "border": null,
            "bottom": null,
            "display": null,
            "flex": null,
            "flex_flow": null,
            "grid_area": null,
            "grid_auto_columns": null,
            "grid_auto_flow": null,
            "grid_auto_rows": null,
            "grid_column": null,
            "grid_gap": null,
            "grid_row": null,
            "grid_template_areas": null,
            "grid_template_columns": null,
            "grid_template_rows": null,
            "height": null,
            "justify_content": null,
            "justify_items": null,
            "left": null,
            "margin": null,
            "max_height": null,
            "max_width": null,
            "min_height": null,
            "min_width": null,
            "object_fit": null,
            "object_position": null,
            "order": null,
            "overflow": null,
            "overflow_x": null,
            "overflow_y": null,
            "padding": null,
            "right": null,
            "top": null,
            "visibility": null,
            "width": null
          }
        },
        "41aaa579590c4a42846a398649bf73c4": {
          "model_module": "@jupyter-widgets/base",
          "model_name": "LayoutModel",
          "model_module_version": "1.2.0",
          "state": {
            "_model_module": "@jupyter-widgets/base",
            "_model_module_version": "1.2.0",
            "_model_name": "LayoutModel",
            "_view_count": null,
            "_view_module": "@jupyter-widgets/base",
            "_view_module_version": "1.2.0",
            "_view_name": "LayoutView",
            "align_content": null,
            "align_items": null,
            "align_self": null,
            "border": null,
            "bottom": null,
            "display": null,
            "flex": null,
            "flex_flow": null,
            "grid_area": null,
            "grid_auto_columns": null,
            "grid_auto_flow": null,
            "grid_auto_rows": null,
            "grid_column": null,
            "grid_gap": null,
            "grid_row": null,
            "grid_template_areas": null,
            "grid_template_columns": null,
            "grid_template_rows": null,
            "height": null,
            "justify_content": null,
            "justify_items": null,
            "left": null,
            "margin": null,
            "max_height": null,
            "max_width": null,
            "min_height": null,
            "min_width": null,
            "object_fit": null,
            "object_position": null,
            "order": null,
            "overflow": null,
            "overflow_x": null,
            "overflow_y": null,
            "padding": null,
            "right": null,
            "top": null,
            "visibility": null,
            "width": null
          }
        },
        "872dea17509a4131b63a37b5a35db039": {
          "model_module": "@jupyter-widgets/controls",
          "model_name": "DescriptionStyleModel",
          "model_module_version": "1.5.0",
          "state": {
            "_model_module": "@jupyter-widgets/controls",
            "_model_module_version": "1.5.0",
            "_model_name": "DescriptionStyleModel",
            "_view_count": null,
            "_view_module": "@jupyter-widgets/base",
            "_view_module_version": "1.2.0",
            "_view_name": "StyleView",
            "description_width": ""
          }
        },
        "82068779acfa43608160156188d4e8ae": {
          "model_module": "@jupyter-widgets/base",
          "model_name": "LayoutModel",
          "model_module_version": "1.2.0",
          "state": {
            "_model_module": "@jupyter-widgets/base",
            "_model_module_version": "1.2.0",
            "_model_name": "LayoutModel",
            "_view_count": null,
            "_view_module": "@jupyter-widgets/base",
            "_view_module_version": "1.2.0",
            "_view_name": "LayoutView",
            "align_content": null,
            "align_items": null,
            "align_self": null,
            "border": null,
            "bottom": null,
            "display": null,
            "flex": null,
            "flex_flow": null,
            "grid_area": null,
            "grid_auto_columns": null,
            "grid_auto_flow": null,
            "grid_auto_rows": null,
            "grid_column": null,
            "grid_gap": null,
            "grid_row": null,
            "grid_template_areas": null,
            "grid_template_columns": null,
            "grid_template_rows": null,
            "height": null,
            "justify_content": null,
            "justify_items": null,
            "left": null,
            "margin": null,
            "max_height": null,
            "max_width": null,
            "min_height": null,
            "min_width": null,
            "object_fit": null,
            "object_position": null,
            "order": null,
            "overflow": null,
            "overflow_x": null,
            "overflow_y": null,
            "padding": null,
            "right": null,
            "top": null,
            "visibility": null,
            "width": null
          }
        },
        "cece8c93a3124997a54f09bb275737f8": {
          "model_module": "@jupyter-widgets/controls",
          "model_name": "ProgressStyleModel",
          "model_module_version": "1.5.0",
          "state": {
            "_model_module": "@jupyter-widgets/controls",
            "_model_module_version": "1.5.0",
            "_model_name": "ProgressStyleModel",
            "_view_count": null,
            "_view_module": "@jupyter-widgets/base",
            "_view_module_version": "1.2.0",
            "_view_name": "StyleView",
            "bar_color": null,
            "description_width": ""
          }
        },
        "4970bb1c440444bb80e1c30ccbd44c50": {
          "model_module": "@jupyter-widgets/base",
          "model_name": "LayoutModel",
          "model_module_version": "1.2.0",
          "state": {
            "_model_module": "@jupyter-widgets/base",
            "_model_module_version": "1.2.0",
            "_model_name": "LayoutModel",
            "_view_count": null,
            "_view_module": "@jupyter-widgets/base",
            "_view_module_version": "1.2.0",
            "_view_name": "LayoutView",
            "align_content": null,
            "align_items": null,
            "align_self": null,
            "border": null,
            "bottom": null,
            "display": null,
            "flex": null,
            "flex_flow": null,
            "grid_area": null,
            "grid_auto_columns": null,
            "grid_auto_flow": null,
            "grid_auto_rows": null,
            "grid_column": null,
            "grid_gap": null,
            "grid_row": null,
            "grid_template_areas": null,
            "grid_template_columns": null,
            "grid_template_rows": null,
            "height": null,
            "justify_content": null,
            "justify_items": null,
            "left": null,
            "margin": null,
            "max_height": null,
            "max_width": null,
            "min_height": null,
            "min_width": null,
            "object_fit": null,
            "object_position": null,
            "order": null,
            "overflow": null,
            "overflow_x": null,
            "overflow_y": null,
            "padding": null,
            "right": null,
            "top": null,
            "visibility": null,
            "width": null
          }
        },
        "e6a185a75fa94ea59c561d3720d31f6f": {
          "model_module": "@jupyter-widgets/controls",
          "model_name": "DescriptionStyleModel",
          "model_module_version": "1.5.0",
          "state": {
            "_model_module": "@jupyter-widgets/controls",
            "_model_module_version": "1.5.0",
            "_model_name": "DescriptionStyleModel",
            "_view_count": null,
            "_view_module": "@jupyter-widgets/base",
            "_view_module_version": "1.2.0",
            "_view_name": "StyleView",
            "description_width": ""
          }
        },
        "ff7a965620fe4efaabb3ce9370f85a3c": {
          "model_module": "@jupyter-widgets/controls",
          "model_name": "HBoxModel",
          "model_module_version": "1.5.0",
          "state": {
            "_dom_classes": [],
            "_model_module": "@jupyter-widgets/controls",
            "_model_module_version": "1.5.0",
            "_model_name": "HBoxModel",
            "_view_count": null,
            "_view_module": "@jupyter-widgets/controls",
            "_view_module_version": "1.5.0",
            "_view_name": "HBoxView",
            "box_style": "",
            "children": [
              "IPY_MODEL_9982a783d5e84fbd8b0079bced0102b4",
              "IPY_MODEL_7666532772934b809056ab601b5a8caa",
              "IPY_MODEL_44f3898fa6c04a59be467a66e917875c"
            ],
            "layout": "IPY_MODEL_15248c8d507c4401aa4c8194425ddac1"
          }
        },
        "9982a783d5e84fbd8b0079bced0102b4": {
          "model_module": "@jupyter-widgets/controls",
          "model_name": "HTMLModel",
          "model_module_version": "1.5.0",
          "state": {
            "_dom_classes": [],
            "_model_module": "@jupyter-widgets/controls",
            "_model_module_version": "1.5.0",
            "_model_name": "HTMLModel",
            "_view_count": null,
            "_view_module": "@jupyter-widgets/controls",
            "_view_module_version": "1.5.0",
            "_view_name": "HTMLView",
            "description": "",
            "description_tooltip": null,
            "layout": "IPY_MODEL_71b6df7dbab54d76b4914f24d160c0ce",
            "placeholder": "​",
            "style": "IPY_MODEL_af79a9847b404c55a43927465ce13192",
            "value": "model.safetensors: 100%"
          }
        },
        "7666532772934b809056ab601b5a8caa": {
          "model_module": "@jupyter-widgets/controls",
          "model_name": "FloatProgressModel",
          "model_module_version": "1.5.0",
          "state": {
            "_dom_classes": [],
            "_model_module": "@jupyter-widgets/controls",
            "_model_module_version": "1.5.0",
            "_model_name": "FloatProgressModel",
            "_view_count": null,
            "_view_module": "@jupyter-widgets/controls",
            "_view_module_version": "1.5.0",
            "_view_name": "ProgressView",
            "bar_style": "success",
            "description": "",
            "description_tooltip": null,
            "layout": "IPY_MODEL_aa1ce722aab642828c760b02a5fbceb8",
            "max": 548105171,
            "min": 0,
            "orientation": "horizontal",
            "style": "IPY_MODEL_51faa6335064479eb51aa96c02453cf6",
            "value": 548105171
          }
        },
        "44f3898fa6c04a59be467a66e917875c": {
          "model_module": "@jupyter-widgets/controls",
          "model_name": "HTMLModel",
          "model_module_version": "1.5.0",
          "state": {
            "_dom_classes": [],
            "_model_module": "@jupyter-widgets/controls",
            "_model_module_version": "1.5.0",
            "_model_name": "HTMLModel",
            "_view_count": null,
            "_view_module": "@jupyter-widgets/controls",
            "_view_module_version": "1.5.0",
            "_view_name": "HTMLView",
            "description": "",
            "description_tooltip": null,
            "layout": "IPY_MODEL_7727a1f46ab34b91afa1a3a01a48aaee",
            "placeholder": "​",
            "style": "IPY_MODEL_13e577fb415e45aea454bc614586f415",
            "value": " 548M/548M [00:07&lt;00:00, 80.4MB/s]"
          }
        },
        "15248c8d507c4401aa4c8194425ddac1": {
          "model_module": "@jupyter-widgets/base",
          "model_name": "LayoutModel",
          "model_module_version": "1.2.0",
          "state": {
            "_model_module": "@jupyter-widgets/base",
            "_model_module_version": "1.2.0",
            "_model_name": "LayoutModel",
            "_view_count": null,
            "_view_module": "@jupyter-widgets/base",
            "_view_module_version": "1.2.0",
            "_view_name": "LayoutView",
            "align_content": null,
            "align_items": null,
            "align_self": null,
            "border": null,
            "bottom": null,
            "display": null,
            "flex": null,
            "flex_flow": null,
            "grid_area": null,
            "grid_auto_columns": null,
            "grid_auto_flow": null,
            "grid_auto_rows": null,
            "grid_column": null,
            "grid_gap": null,
            "grid_row": null,
            "grid_template_areas": null,
            "grid_template_columns": null,
            "grid_template_rows": null,
            "height": null,
            "justify_content": null,
            "justify_items": null,
            "left": null,
            "margin": null,
            "max_height": null,
            "max_width": null,
            "min_height": null,
            "min_width": null,
            "object_fit": null,
            "object_position": null,
            "order": null,
            "overflow": null,
            "overflow_x": null,
            "overflow_y": null,
            "padding": null,
            "right": null,
            "top": null,
            "visibility": null,
            "width": null
          }
        },
        "71b6df7dbab54d76b4914f24d160c0ce": {
          "model_module": "@jupyter-widgets/base",
          "model_name": "LayoutModel",
          "model_module_version": "1.2.0",
          "state": {
            "_model_module": "@jupyter-widgets/base",
            "_model_module_version": "1.2.0",
            "_model_name": "LayoutModel",
            "_view_count": null,
            "_view_module": "@jupyter-widgets/base",
            "_view_module_version": "1.2.0",
            "_view_name": "LayoutView",
            "align_content": null,
            "align_items": null,
            "align_self": null,
            "border": null,
            "bottom": null,
            "display": null,
            "flex": null,
            "flex_flow": null,
            "grid_area": null,
            "grid_auto_columns": null,
            "grid_auto_flow": null,
            "grid_auto_rows": null,
            "grid_column": null,
            "grid_gap": null,
            "grid_row": null,
            "grid_template_areas": null,
            "grid_template_columns": null,
            "grid_template_rows": null,
            "height": null,
            "justify_content": null,
            "justify_items": null,
            "left": null,
            "margin": null,
            "max_height": null,
            "max_width": null,
            "min_height": null,
            "min_width": null,
            "object_fit": null,
            "object_position": null,
            "order": null,
            "overflow": null,
            "overflow_x": null,
            "overflow_y": null,
            "padding": null,
            "right": null,
            "top": null,
            "visibility": null,
            "width": null
          }
        },
        "af79a9847b404c55a43927465ce13192": {
          "model_module": "@jupyter-widgets/controls",
          "model_name": "DescriptionStyleModel",
          "model_module_version": "1.5.0",
          "state": {
            "_model_module": "@jupyter-widgets/controls",
            "_model_module_version": "1.5.0",
            "_model_name": "DescriptionStyleModel",
            "_view_count": null,
            "_view_module": "@jupyter-widgets/base",
            "_view_module_version": "1.2.0",
            "_view_name": "StyleView",
            "description_width": ""
          }
        },
        "aa1ce722aab642828c760b02a5fbceb8": {
          "model_module": "@jupyter-widgets/base",
          "model_name": "LayoutModel",
          "model_module_version": "1.2.0",
          "state": {
            "_model_module": "@jupyter-widgets/base",
            "_model_module_version": "1.2.0",
            "_model_name": "LayoutModel",
            "_view_count": null,
            "_view_module": "@jupyter-widgets/base",
            "_view_module_version": "1.2.0",
            "_view_name": "LayoutView",
            "align_content": null,
            "align_items": null,
            "align_self": null,
            "border": null,
            "bottom": null,
            "display": null,
            "flex": null,
            "flex_flow": null,
            "grid_area": null,
            "grid_auto_columns": null,
            "grid_auto_flow": null,
            "grid_auto_rows": null,
            "grid_column": null,
            "grid_gap": null,
            "grid_row": null,
            "grid_template_areas": null,
            "grid_template_columns": null,
            "grid_template_rows": null,
            "height": null,
            "justify_content": null,
            "justify_items": null,
            "left": null,
            "margin": null,
            "max_height": null,
            "max_width": null,
            "min_height": null,
            "min_width": null,
            "object_fit": null,
            "object_position": null,
            "order": null,
            "overflow": null,
            "overflow_x": null,
            "overflow_y": null,
            "padding": null,
            "right": null,
            "top": null,
            "visibility": null,
            "width": null
          }
        },
        "51faa6335064479eb51aa96c02453cf6": {
          "model_module": "@jupyter-widgets/controls",
          "model_name": "ProgressStyleModel",
          "model_module_version": "1.5.0",
          "state": {
            "_model_module": "@jupyter-widgets/controls",
            "_model_module_version": "1.5.0",
            "_model_name": "ProgressStyleModel",
            "_view_count": null,
            "_view_module": "@jupyter-widgets/base",
            "_view_module_version": "1.2.0",
            "_view_name": "StyleView",
            "bar_color": null,
            "description_width": ""
          }
        },
        "7727a1f46ab34b91afa1a3a01a48aaee": {
          "model_module": "@jupyter-widgets/base",
          "model_name": "LayoutModel",
          "model_module_version": "1.2.0",
          "state": {
            "_model_module": "@jupyter-widgets/base",
            "_model_module_version": "1.2.0",
            "_model_name": "LayoutModel",
            "_view_count": null,
            "_view_module": "@jupyter-widgets/base",
            "_view_module_version": "1.2.0",
            "_view_name": "LayoutView",
            "align_content": null,
            "align_items": null,
            "align_self": null,
            "border": null,
            "bottom": null,
            "display": null,
            "flex": null,
            "flex_flow": null,
            "grid_area": null,
            "grid_auto_columns": null,
            "grid_auto_flow": null,
            "grid_auto_rows": null,
            "grid_column": null,
            "grid_gap": null,
            "grid_row": null,
            "grid_template_areas": null,
            "grid_template_columns": null,
            "grid_template_rows": null,
            "height": null,
            "justify_content": null,
            "justify_items": null,
            "left": null,
            "margin": null,
            "max_height": null,
            "max_width": null,
            "min_height": null,
            "min_width": null,
            "object_fit": null,
            "object_position": null,
            "order": null,
            "overflow": null,
            "overflow_x": null,
            "overflow_y": null,
            "padding": null,
            "right": null,
            "top": null,
            "visibility": null,
            "width": null
          }
        },
        "13e577fb415e45aea454bc614586f415": {
          "model_module": "@jupyter-widgets/controls",
          "model_name": "DescriptionStyleModel",
          "model_module_version": "1.5.0",
          "state": {
            "_model_module": "@jupyter-widgets/controls",
            "_model_module_version": "1.5.0",
            "_model_name": "DescriptionStyleModel",
            "_view_count": null,
            "_view_module": "@jupyter-widgets/base",
            "_view_module_version": "1.2.0",
            "_view_name": "StyleView",
            "description_width": ""
          }
        },
        "00d02506172246a9b2ea5e3765d45f8b": {
          "model_module": "@jupyter-widgets/controls",
          "model_name": "HBoxModel",
          "model_module_version": "1.5.0",
          "state": {
            "_dom_classes": [],
            "_model_module": "@jupyter-widgets/controls",
            "_model_module_version": "1.5.0",
            "_model_name": "HBoxModel",
            "_view_count": null,
            "_view_module": "@jupyter-widgets/controls",
            "_view_module_version": "1.5.0",
            "_view_name": "HBoxView",
            "box_style": "",
            "children": [
              "IPY_MODEL_78d9f1bd59dc4fd19e2801d049333e2a",
              "IPY_MODEL_d745298b82e74aa2b4dfedf7286664e1",
              "IPY_MODEL_696863870e18405f9179294bc7e355f9"
            ],
            "layout": "IPY_MODEL_0490105abaf04cc8ad6a0273241da755"
          }
        },
        "78d9f1bd59dc4fd19e2801d049333e2a": {
          "model_module": "@jupyter-widgets/controls",
          "model_name": "HTMLModel",
          "model_module_version": "1.5.0",
          "state": {
            "_dom_classes": [],
            "_model_module": "@jupyter-widgets/controls",
            "_model_module_version": "1.5.0",
            "_model_name": "HTMLModel",
            "_view_count": null,
            "_view_module": "@jupyter-widgets/controls",
            "_view_module_version": "1.5.0",
            "_view_name": "HTMLView",
            "description": "",
            "description_tooltip": null,
            "layout": "IPY_MODEL_4605cc3e78c14a478ac829b1f6a3356e",
            "placeholder": "​",
            "style": "IPY_MODEL_8c765a3621084afaa72366f5b71af21d",
            "value": "generation_config.json: 100%"
          }
        },
        "d745298b82e74aa2b4dfedf7286664e1": {
          "model_module": "@jupyter-widgets/controls",
          "model_name": "FloatProgressModel",
          "model_module_version": "1.5.0",
          "state": {
            "_dom_classes": [],
            "_model_module": "@jupyter-widgets/controls",
            "_model_module_version": "1.5.0",
            "_model_name": "FloatProgressModel",
            "_view_count": null,
            "_view_module": "@jupyter-widgets/controls",
            "_view_module_version": "1.5.0",
            "_view_name": "ProgressView",
            "bar_style": "success",
            "description": "",
            "description_tooltip": null,
            "layout": "IPY_MODEL_bcf76b1b109c43e99a9c6feb119de834",
            "max": 124,
            "min": 0,
            "orientation": "horizontal",
            "style": "IPY_MODEL_705a4998142a4f95a31c9121e7313daa",
            "value": 124
          }
        },
        "696863870e18405f9179294bc7e355f9": {
          "model_module": "@jupyter-widgets/controls",
          "model_name": "HTMLModel",
          "model_module_version": "1.5.0",
          "state": {
            "_dom_classes": [],
            "_model_module": "@jupyter-widgets/controls",
            "_model_module_version": "1.5.0",
            "_model_name": "HTMLModel",
            "_view_count": null,
            "_view_module": "@jupyter-widgets/controls",
            "_view_module_version": "1.5.0",
            "_view_name": "HTMLView",
            "description": "",
            "description_tooltip": null,
            "layout": "IPY_MODEL_1339009ba36d4130ac7e08b68bd2d512",
            "placeholder": "​",
            "style": "IPY_MODEL_b12cca6c8305484b9d8ed3dc81fbd683",
            "value": " 124/124 [00:00&lt;00:00, 3.03kB/s]"
          }
        },
        "0490105abaf04cc8ad6a0273241da755": {
          "model_module": "@jupyter-widgets/base",
          "model_name": "LayoutModel",
          "model_module_version": "1.2.0",
          "state": {
            "_model_module": "@jupyter-widgets/base",
            "_model_module_version": "1.2.0",
            "_model_name": "LayoutModel",
            "_view_count": null,
            "_view_module": "@jupyter-widgets/base",
            "_view_module_version": "1.2.0",
            "_view_name": "LayoutView",
            "align_content": null,
            "align_items": null,
            "align_self": null,
            "border": null,
            "bottom": null,
            "display": null,
            "flex": null,
            "flex_flow": null,
            "grid_area": null,
            "grid_auto_columns": null,
            "grid_auto_flow": null,
            "grid_auto_rows": null,
            "grid_column": null,
            "grid_gap": null,
            "grid_row": null,
            "grid_template_areas": null,
            "grid_template_columns": null,
            "grid_template_rows": null,
            "height": null,
            "justify_content": null,
            "justify_items": null,
            "left": null,
            "margin": null,
            "max_height": null,
            "max_width": null,
            "min_height": null,
            "min_width": null,
            "object_fit": null,
            "object_position": null,
            "order": null,
            "overflow": null,
            "overflow_x": null,
            "overflow_y": null,
            "padding": null,
            "right": null,
            "top": null,
            "visibility": null,
            "width": null
          }
        },
        "4605cc3e78c14a478ac829b1f6a3356e": {
          "model_module": "@jupyter-widgets/base",
          "model_name": "LayoutModel",
          "model_module_version": "1.2.0",
          "state": {
            "_model_module": "@jupyter-widgets/base",
            "_model_module_version": "1.2.0",
            "_model_name": "LayoutModel",
            "_view_count": null,
            "_view_module": "@jupyter-widgets/base",
            "_view_module_version": "1.2.0",
            "_view_name": "LayoutView",
            "align_content": null,
            "align_items": null,
            "align_self": null,
            "border": null,
            "bottom": null,
            "display": null,
            "flex": null,
            "flex_flow": null,
            "grid_area": null,
            "grid_auto_columns": null,
            "grid_auto_flow": null,
            "grid_auto_rows": null,
            "grid_column": null,
            "grid_gap": null,
            "grid_row": null,
            "grid_template_areas": null,
            "grid_template_columns": null,
            "grid_template_rows": null,
            "height": null,
            "justify_content": null,
            "justify_items": null,
            "left": null,
            "margin": null,
            "max_height": null,
            "max_width": null,
            "min_height": null,
            "min_width": null,
            "object_fit": null,
            "object_position": null,
            "order": null,
            "overflow": null,
            "overflow_x": null,
            "overflow_y": null,
            "padding": null,
            "right": null,
            "top": null,
            "visibility": null,
            "width": null
          }
        },
        "8c765a3621084afaa72366f5b71af21d": {
          "model_module": "@jupyter-widgets/controls",
          "model_name": "DescriptionStyleModel",
          "model_module_version": "1.5.0",
          "state": {
            "_model_module": "@jupyter-widgets/controls",
            "_model_module_version": "1.5.0",
            "_model_name": "DescriptionStyleModel",
            "_view_count": null,
            "_view_module": "@jupyter-widgets/base",
            "_view_module_version": "1.2.0",
            "_view_name": "StyleView",
            "description_width": ""
          }
        },
        "bcf76b1b109c43e99a9c6feb119de834": {
          "model_module": "@jupyter-widgets/base",
          "model_name": "LayoutModel",
          "model_module_version": "1.2.0",
          "state": {
            "_model_module": "@jupyter-widgets/base",
            "_model_module_version": "1.2.0",
            "_model_name": "LayoutModel",
            "_view_count": null,
            "_view_module": "@jupyter-widgets/base",
            "_view_module_version": "1.2.0",
            "_view_name": "LayoutView",
            "align_content": null,
            "align_items": null,
            "align_self": null,
            "border": null,
            "bottom": null,
            "display": null,
            "flex": null,
            "flex_flow": null,
            "grid_area": null,
            "grid_auto_columns": null,
            "grid_auto_flow": null,
            "grid_auto_rows": null,
            "grid_column": null,
            "grid_gap": null,
            "grid_row": null,
            "grid_template_areas": null,
            "grid_template_columns": null,
            "grid_template_rows": null,
            "height": null,
            "justify_content": null,
            "justify_items": null,
            "left": null,
            "margin": null,
            "max_height": null,
            "max_width": null,
            "min_height": null,
            "min_width": null,
            "object_fit": null,
            "object_position": null,
            "order": null,
            "overflow": null,
            "overflow_x": null,
            "overflow_y": null,
            "padding": null,
            "right": null,
            "top": null,
            "visibility": null,
            "width": null
          }
        },
        "705a4998142a4f95a31c9121e7313daa": {
          "model_module": "@jupyter-widgets/controls",
          "model_name": "ProgressStyleModel",
          "model_module_version": "1.5.0",
          "state": {
            "_model_module": "@jupyter-widgets/controls",
            "_model_module_version": "1.5.0",
            "_model_name": "ProgressStyleModel",
            "_view_count": null,
            "_view_module": "@jupyter-widgets/base",
            "_view_module_version": "1.2.0",
            "_view_name": "StyleView",
            "bar_color": null,
            "description_width": ""
          }
        },
        "1339009ba36d4130ac7e08b68bd2d512": {
          "model_module": "@jupyter-widgets/base",
          "model_name": "LayoutModel",
          "model_module_version": "1.2.0",
          "state": {
            "_model_module": "@jupyter-widgets/base",
            "_model_module_version": "1.2.0",
            "_model_name": "LayoutModel",
            "_view_count": null,
            "_view_module": "@jupyter-widgets/base",
            "_view_module_version": "1.2.0",
            "_view_name": "LayoutView",
            "align_content": null,
            "align_items": null,
            "align_self": null,
            "border": null,
            "bottom": null,
            "display": null,
            "flex": null,
            "flex_flow": null,
            "grid_area": null,
            "grid_auto_columns": null,
            "grid_auto_flow": null,
            "grid_auto_rows": null,
            "grid_column": null,
            "grid_gap": null,
            "grid_row": null,
            "grid_template_areas": null,
            "grid_template_columns": null,
            "grid_template_rows": null,
            "height": null,
            "justify_content": null,
            "justify_items": null,
            "left": null,
            "margin": null,
            "max_height": null,
            "max_width": null,
            "min_height": null,
            "min_width": null,
            "object_fit": null,
            "object_position": null,
            "order": null,
            "overflow": null,
            "overflow_x": null,
            "overflow_y": null,
            "padding": null,
            "right": null,
            "top": null,
            "visibility": null,
            "width": null
          }
        },
        "b12cca6c8305484b9d8ed3dc81fbd683": {
          "model_module": "@jupyter-widgets/controls",
          "model_name": "DescriptionStyleModel",
          "model_module_version": "1.5.0",
          "state": {
            "_model_module": "@jupyter-widgets/controls",
            "_model_module_version": "1.5.0",
            "_model_name": "DescriptionStyleModel",
            "_view_count": null,
            "_view_module": "@jupyter-widgets/base",
            "_view_module_version": "1.2.0",
            "_view_name": "StyleView",
            "description_width": ""
          }
        }
      }
    }
  },
  "cells": [
    {
      "cell_type": "code",
      "source": [
        "from transformers import TFBertForSequenceClassification, BertTokenizer\n",
        "import tensorflow as tf\n",
        "import pandas as pd\n",
        "\n",
        "# Load the pre-trained BERT model and tokenizer\n",
        "\n",
        "tokenizer = BertTokenizer.from_pretrained('bert-base-uncased')\n",
        "model = TFBertForSequenceClassification.from_pretrained('bert-base-uncased', num_labels=2)  # Assuming binary classification\n",
        "\n",
        "# Example DataFrame\n",
        "df=pd.read_csv('/content/drive/MyDrive/AI_text Detection/Training_Essay_Data.csv')\n",
        "df=df.iloc[:1000,:]\n",
        "\n",
        "# Tokenize the text\n",
        "def encode(texts, tokenizer, max_length=128):\n",
        "    return tokenizer(texts, truncation=True, padding=True, max_length=max_length, return_tensors=\"tf\")\n",
        "\n",
        "X = encode(df['text'].tolist(), tokenizer)\n",
        "y = tf.convert_to_tensor(df['labels'].values)\n",
        "\n",
        "# Create a TensorFlow dataset\n",
        "dataset = tf.data.Dataset.from_tensor_slices((dict(X), y))\n",
        "dataset = dataset.shuffle(len(df)).batch(256)\n",
        "\n",
        "# Define optimizer, loss, and metrics\n",
        "optimizer = tf.keras.optimizers.Adam(learning_rate=3e-5)\n",
        "loss = tf.keras.losses.SparseCategoricalCrossentropy(from_logits=True)\n",
        "metrics = [tf.keras.metrics.SparseCategoricalAccuracy('accuracy')]\n",
        "\n",
        "# Compile the model\n",
        "model.compile(optimizer=optimizer, loss=loss, metrics=metrics)\n",
        "\n",
        "# Train the model\n",
        "epochs = 10\n",
        "history = model.fit(dataset, epochs=epochs)\n",
        "\n",
        "# Save the trained model)"
      ],
      "metadata": {
        "id": "hgQvx0hRxRES",
        "colab": {
          "base_uri": "https://localhost:8080/"
        },
        "outputId": "2f517fb7-6e6b-4bfd-8a8c-f3104e7d1cbb"
      },
      "execution_count": null,
      "outputs": [
        {
          "output_type": "stream",
          "name": "stderr",
          "text": [
            "/usr/local/lib/python3.10/dist-packages/transformers/tokenization_utils_base.py:1601: FutureWarning: `clean_up_tokenization_spaces` was not set. It will be set to `True` by default. This behavior will be depracted in transformers v4.45, and will be then set to `False` by default. For more details check this issue: https://github.com/huggingface/transformers/issues/31884\n",
            "  warnings.warn(\n",
            "All PyTorch model weights were used when initializing TFBertForSequenceClassification.\n",
            "\n",
            "Some weights or buffers of the TF 2.0 model TFBertForSequenceClassification were not initialized from the PyTorch model and are newly initialized: ['classifier.weight', 'classifier.bias']\n",
            "You should probably TRAIN this model on a down-stream task to be able to use it for predictions and inference.\n"
          ]
        },
        {
          "output_type": "stream",
          "name": "stdout",
          "text": [
            "Epoch 1/10\n",
            "4/4 [==============================] - 173s 31s/step - loss: 0.6631 - accuracy: 0.6210\n",
            "Epoch 2/10\n",
            "4/4 [==============================] - 127s 31s/step - loss: 0.5650 - accuracy: 0.7490\n",
            "Epoch 3/10\n",
            "4/4 [==============================] - 127s 32s/step - loss: 0.5223 - accuracy: 0.7490\n",
            "Epoch 4/10\n",
            "4/4 [==============================] - 127s 32s/step - loss: 0.4554 - accuracy: 0.7490\n",
            "Epoch 5/10\n",
            "4/4 [==============================] - 127s 31s/step - loss: 0.3167 - accuracy: 0.8200\n",
            "Epoch 6/10\n",
            "4/4 [==============================] - 128s 32s/step - loss: 0.1960 - accuracy: 0.9810\n",
            "Epoch 7/10\n",
            "4/4 [==============================] - 127s 32s/step - loss: 0.1117 - accuracy: 0.9990\n",
            "Epoch 8/10\n",
            "4/4 [==============================] - 127s 32s/step - loss: 0.0666 - accuracy: 1.0000\n",
            "Epoch 9/10\n",
            "4/4 [==============================] - 128s 32s/step - loss: 0.0392 - accuracy: 0.9990\n",
            "Epoch 10/10\n",
            "4/4 [==============================] - 127s 32s/step - loss: 0.0214 - accuracy: 1.0000\n"
          ]
        }
      ]
    },
    {
      "cell_type": "code",
      "source": [
        "import matplotlib.pyplot as plt\n",
        "plt.figure(figsize=(12, 5))\n",
        "\n",
        "# Plot training & validation accuracy values\n",
        "plt.subplot(1, 2, 1)\n",
        "plt.plot(history.history['accuracy'], label='Training Accuracy')\n",
        "if 'val_accuracy' in history.history:\n",
        "    plt.plot(history.history['val_accuracy'], label='Validation Accuracy')\n",
        "plt.title('Model Accuracy')\n",
        "plt.ylabel('Accuracy')\n",
        "plt.xlabel('Epoch')\n",
        "plt.legend(loc='upper left')\n",
        "\n",
        "# Plot training & validation loss values\n",
        "plt.subplot(1, 2, 2)\n",
        "plt.plot(history.history['loss'], label='Training Loss')\n",
        "if 'val_loss' in history.history:\n",
        "    plt.plot(history.history['val_loss'], label='Validation Loss')\n",
        "plt.title('Model Loss')\n",
        "plt.ylabel('Loss')\n",
        "plt.xlabel('Epoch')\n",
        "plt.legend(loc='upper left')\n",
        "\n",
        "# Show the plots\n",
        "plt.show()"
      ],
      "metadata": {
        "colab": {
          "base_uri": "https://localhost:8080/",
          "height": 487
        },
        "id": "UJmOCK1rruh1",
        "outputId": "5969ffca-a3fa-4101-f665-964cf704142c"
      },
      "execution_count": null,
      "outputs": [
        {
          "output_type": "display_data",
          "data": {
            "text/plain": [
              "<Figure size 1200x500 with 2 Axes>"
            ],
            "image/png": "[encoded data removed]"
          },
          "metadata": {}
        }
      ]
    },
    {
      "cell_type": "code",
      "source": [
        "! pip uninstall torch transformers\n",
        "! pip install torch transformers\n"
      ],
      "metadata": {
        "colab": {
          "base_uri": "https://localhost:8080/",
          "height": 1000
        },
        "id": "hfI-Tf07GFFo",
        "outputId": "a2f197c6-0c29-445b-e658-95b2d03616a2"
      },
      "execution_count": null,
      "outputs": [
        {
          "output_type": "stream",
          "name": "stdout",
          "text": [
            "Found existing installation: torch 2.3.0+cpu\n",
            "Uninstalling torch-2.3.0+cpu:\n",
            "  Would remove:\n",
            "    /usr/local/bin/convert-caffe2-to-onnx\n",
            "    /usr/local/bin/convert-onnx-to-caffe2\n",
            "    /usr/local/bin/torchrun\n",
            "    /usr/local/lib/python3.10/dist-packages/functorch/*\n",
            "    /usr/local/lib/python3.10/dist-packages/torch-2.3.0+cpu.dist-info/*\n",
            "    /usr/local/lib/python3.10/dist-packages/torch/*\n",
            "    /usr/local/lib/python3.10/dist-packages/torchgen/*\n",
            "Proceed (Y/n)? y\n",
            "  Successfully uninstalled torch-2.3.0+cpu\n",
            "Found existing installation: transformers 4.42.4\n",
            "Uninstalling transformers-4.42.4:\n",
            "  Would remove:\n",
            "    /usr/local/bin/transformers-cli\n",
            "    /usr/local/lib/python3.10/dist-packages/transformers-4.42.4.dist-info/*\n",
            "    /usr/local/lib/python3.10/dist-packages/transformers/*\n",
            "Proceed (Y/n)? y\n",
            "  Successfully uninstalled transformers-4.42.4\n",
            "Collecting torch\n",
            "  Downloading torch-2.4.0-cp310-cp310-manylinux1_x86_64.whl.metadata (26 kB)\n",
            "Collecting transformers\n",
            "  Downloading transformers-4.44.0-py3-none-any.whl.metadata (43 kB)\n",
            "\u001b[2K     \u001b[90m━━━━━━━━━━━━━━━━━━━━━━━━━━━━━━━━━━━━━━━━\u001b[0m \u001b[32m43.7/43.7 kB\u001b[0m \u001b[31m710.8 kB/s\u001b[0m eta \u001b[36m0:00:00\u001b[0m\n",
            "\u001b[?25hRequirement already satisfied: filelock in /usr/local/lib/python3.10/dist-packages (from torch) (3.15.4)\n",
            "Requirement already satisfied: typing-extensions>=4.8.0 in /usr/local/lib/python3.10/dist-packages (from torch) (4.12.2)\n",
            "Requirement already satisfied: sympy in /usr/local/lib/python3.10/dist-packages (from torch) (1.13.1)\n",
            "Requirement already satisfied: networkx in /usr/local/lib/python3.10/dist-packages (from torch) (3.3)\n",
            "Requirement already satisfied: jinja2 in /usr/local/lib/python3.10/dist-packages (from torch) (3.1.4)\n",
            "Requirement already satisfied: fsspec in /usr/local/lib/python3.10/dist-packages (from torch) (2024.6.1)\n",
            "Collecting nvidia-cuda-nvrtc-cu12==12.1.105 (from torch)\n",
            "  Downloading nvidia_cuda_nvrtc_cu12-12.1.105-py3-none-manylinux1_x86_64.whl.metadata (1.5 kB)\n",
            "Collecting nvidia-cuda-runtime-cu12==12.1.105 (from torch)\n",
            "  Downloading nvidia_cuda_runtime_cu12-12.1.105-py3-none-manylinux1_x86_64.whl.metadata (1.5 kB)\n",
            "Collecting nvidia-cuda-cupti-cu12==12.1.105 (from torch)\n",
            "  Downloading nvidia_cuda_cupti_cu12-12.1.105-py3-none-manylinux1_x86_64.whl.metadata (1.6 kB)\n",
            "Collecting nvidia-cudnn-cu12==9.1.0.70 (from torch)\n",
            "  Downloading nvidia_cudnn_cu12-9.1.0.70-py3-none-manylinux2014_x86_64.whl.metadata (1.6 kB)\n",
            "Collecting nvidia-cublas-cu12==12.1.3.1 (from torch)\n",
            "  Downloading nvidia_cublas_cu12-12.1.3.1-py3-none-manylinux1_x86_64.whl.metadata (1.5 kB)\n",
            "Collecting nvidia-cufft-cu12==11.0.2.54 (from torch)\n",
            "  Downloading nvidia_cufft_cu12-11.0.2.54-py3-none-manylinux1_x86_64.whl.metadata (1.5 kB)\n",
            "Collecting nvidia-curand-cu12==10.3.2.106 (from torch)\n",
            "  Downloading nvidia_curand_cu12-10.3.2.106-py3-none-manylinux1_x86_64.whl.metadata (1.5 kB)\n",
            "Collecting nvidia-cusolver-cu12==11.4.5.107 (from torch)\n",
            "  Downloading nvidia_cusolver_cu12-11.4.5.107-py3-none-manylinux1_x86_64.whl.metadata (1.6 kB)\n",
            "Collecting nvidia-cusparse-cu12==12.1.0.106 (from torch)\n",
            "  Downloading nvidia_cusparse_cu12-12.1.0.106-py3-none-manylinux1_x86_64.whl.metadata (1.6 kB)\n",
            "Collecting nvidia-nccl-cu12==2.20.5 (from torch)\n",
            "  Downloading nvidia_nccl_cu12-2.20.5-py3-none-manylinux2014_x86_64.whl.metadata (1.8 kB)\n",
            "Collecting nvidia-nvtx-cu12==12.1.105 (from torch)\n",
            "  Downloading nvidia_nvtx_cu12-12.1.105-py3-none-manylinux1_x86_64.whl.metadata (1.7 kB)\n",
            "Collecting triton==3.0.0 (from torch)\n",
            "  Downloading triton-3.0.0-1-cp310-cp310-manylinux2014_x86_64.manylinux_2_17_x86_64.whl.metadata (1.3 kB)\n",
            "Collecting nvidia-nvjitlink-cu12 (from nvidia-cusolver-cu12==11.4.5.107->torch)\n",
            "  Downloading nvidia_nvjitlink_cu12-12.6.20-py3-none-manylinux2014_x86_64.whl.metadata (1.5 kB)\n",
            "Requirement already satisfied: huggingface-hub<1.0,>=0.23.2 in /usr/local/lib/python3.10/dist-packages (from transformers) (0.23.5)\n",
            "Requirement already satisfied: numpy>=1.17 in /usr/local/lib/python3.10/dist-packages (from transformers) (1.26.4)\n",
            "Requirement already satisfied: packaging>=20.0 in /usr/local/lib/python3.10/dist-packages (from transformers) (24.1)\n",
            "Requirement already satisfied: pyyaml>=5.1 in /usr/local/lib/python3.10/dist-packages (from transformers) (6.0.2)\n",
            "Requirement already satisfied: regex!=2019.12.17 in /usr/local/lib/python3.10/dist-packages (from transformers) (2024.7.24)\n",
            "Requirement already satisfied: requests in /usr/local/lib/python3.10/dist-packages (from transformers) (2.32.3)\n",
            "Requirement already satisfied: safetensors>=0.4.1 in /usr/local/lib/python3.10/dist-packages (from transformers) (0.4.4)\n",
            "Requirement already satisfied: tokenizers<0.20,>=0.19 in /usr/local/lib/python3.10/dist-packages (from transformers) (0.19.1)\n",
            "Requirement already satisfied: tqdm>=4.27 in /usr/local/lib/python3.10/dist-packages (from transformers) (4.66.5)\n",
            "Requirement already satisfied: MarkupSafe>=2.0 in /usr/local/lib/python3.10/dist-packages (from jinja2->torch) (2.1.5)\n",
            "Requirement already satisfied: charset-normalizer<4,>=2 in /usr/local/lib/python3.10/dist-packages (from requests->transformers) (3.3.2)\n",
            "Requirement already satisfied: idna<4,>=2.5 in /usr/local/lib/python3.10/dist-packages (from requests->transformers) (3.7)\n",
            "Requirement already satisfied: urllib3<3,>=1.21.1 in /usr/local/lib/python3.10/dist-packages (from requests->transformers) (2.0.7)\n",
            "Requirement already satisfied: certifi>=2017.4.17 in /usr/local/lib/python3.10/dist-packages (from requests->transformers) (2024.7.4)\n",
            "Requirement already satisfied: mpmath<1.4,>=1.1.0 in /usr/local/lib/python3.10/dist-packages (from sympy->torch) (1.3.0)\n",
            "Downloading torch-2.4.0-cp310-cp310-manylinux1_x86_64.whl (797.2 MB)\n",
            "\u001b[2K   \u001b[90m━━━━━━━━━━━━━━━━━━━━━━━━━━━━━━━━━━━━━━━━\u001b[0m \u001b[32m797.2/797.2 MB\u001b[0m \u001b[31m468.1 kB/s\u001b[0m eta \u001b[36m0:00:00\u001b[0m\n",
            "\u001b[?25hDownloading nvidia_cublas_cu12-12.1.3.1-py3-none-manylinux1_x86_64.whl (410.6 MB)\n",
            "\u001b[2K   \u001b[90m━━━━━━━━━━━━━━━━━━━━━━━━━━━━━━━━━━━━━━━━\u001b[0m \u001b[32m410.6/410.6 MB\u001b[0m \u001b[31m1.3 MB/s\u001b[0m eta \u001b[36m0:00:00\u001b[0m\n",
            "\u001b[?25hDownloading nvidia_cuda_cupti_cu12-12.1.105-py3-none-manylinux1_x86_64.whl (14.1 MB)\n",
            "\u001b[2K   \u001b[90m━━━━━━━━━━━━━━━━━━━━━━━━━━━━━━━━━━━━━━━━\u001b[0m \u001b[32m14.1/14.1 MB\u001b[0m \u001b[31m3.4 MB/s\u001b[0m eta \u001b[36m0:00:00\u001b[0m\n",
            "\u001b[?25hDownloading nvidia_cuda_nvrtc_cu12-12.1.105-py3-none-manylinux1_x86_64.whl (23.7 MB)\n",
            "\u001b[2K   \u001b[90m━━━━━━━━━━━━━━━━━━━━━━━━━━━━━━━━━━━━━━━━\u001b[0m \u001b[32m23.7/23.7 MB\u001b[0m \u001b[31m40.1 MB/s\u001b[0m eta \u001b[36m0:00:00\u001b[0m\n",
            "\u001b[?25hDownloading nvidia_cuda_runtime_cu12-12.1.105-py3-none-manylinux1_x86_64.whl (823 kB)\n",
            "\u001b[2K   \u001b[90m━━━━━━━━━━━━━━━━━━━━━━━━━━━━━━━━━━━━━━━━\u001b[0m \u001b[32m823.6/823.6 kB\u001b[0m \u001b[31m35.5 MB/s\u001b[0m eta \u001b[36m0:00:00\u001b[0m\n",
            "\u001b[?25hDownloading nvidia_cudnn_cu12-9.1.0.70-py3-none-manylinux2014_x86_64.whl (664.8 MB)\n",
            "\u001b[2K   \u001b[90m━━━━━━━━━━━━━━━━━━━━━━━━━━━━━━━━━━━━━━━━\u001b[0m \u001b[32m664.8/664.8 MB\u001b[0m \u001b[31m1.4 MB/s\u001b[0m eta \u001b[36m0:00:00\u001b[0m\n",
            "\u001b[?25hDownloading nvidia_cufft_cu12-11.0.2.54-py3-none-manylinux1_x86_64.whl (121.6 MB)\n",
            "\u001b[2K   \u001b[90m━━━━━━━━━━━━━━━━━━━━━━━━━━━━━━━━━━━━━━━━\u001b[0m \u001b[32m121.6/121.6 MB\u001b[0m \u001b[31m5.6 MB/s\u001b[0m eta \u001b[36m0:00:00\u001b[0m\n",
            "\u001b[?25hDownloading nvidia_curand_cu12-10.3.2.106-py3-none-manylinux1_x86_64.whl (56.5 MB)\n",
            "\u001b[2K   \u001b[90m━━━━━━━━━━━━━━━━━━━━━━━━━━━━━━━━━━━━━━━━\u001b[0m \u001b[32m56.5/56.5 MB\u001b[0m \u001b[31m2.3 MB/s\u001b[0m eta \u001b[36m0:00:00\u001b[0m\n",
            "\u001b[?25hDownloading nvidia_cusolver_cu12-11.4.5.107-py3-none-manylinux1_x86_64.whl (124.2 MB)\n",
            "\u001b[2K   \u001b[90m━━━━━━━━━━━━━━━━━━━━━━━━━━━━━━━━━━━━━━━━\u001b[0m \u001b[32m124.2/124.2 MB\u001b[0m \u001b[31m4.9 MB/s\u001b[0m eta \u001b[36m0:00:00\u001b[0m\n",
            "\u001b[?25hDownloading nvidia_cusparse_cu12-12.1.0.106-py3-none-manylinux1_x86_64.whl (196.0 MB)\n",
            "\u001b[2K   \u001b[90m━━━━━━━━━━━━━━━━━━━━━━━━━━━━━━━━━━━━━━━━\u001b[0m \u001b[32m196.0/196.0 MB\u001b[0m \u001b[31m3.9 MB/s\u001b[0m eta \u001b[36m0:00:00\u001b[0m\n",
            "\u001b[?25hDownloading nvidia_nccl_cu12-2.20.5-py3-none-manylinux2014_x86_64.whl (176.2 MB)\n",
            "\u001b[2K   \u001b[90m━━━━━━━━━━━━━━━━━━━━━━━━━━━━━━━━━━━━━━━━\u001b[0m \u001b[32m176.2/176.2 MB\u001b[0m \u001b[31m2.1 MB/s\u001b[0m eta \u001b[36m0:00:00\u001b[0m\n",
            "\u001b[?25hDownloading nvidia_nvtx_cu12-12.1.105-py3-none-manylinux1_x86_64.whl (99 kB)\n",
            "\u001b[2K   \u001b[90m━━━━━━━━━━━━━━━━━━━━━━━━━━━━━━━━━━━━━━━━\u001b[0m \u001b[32m99.1/99.1 kB\u001b[0m \u001b[31m3.0 MB/s\u001b[0m eta \u001b[36m0:00:00\u001b[0m\n",
            "\u001b[?25hDownloading triton-3.0.0-1-cp310-cp310-manylinux2014_x86_64.manylinux_2_17_x86_64.whl (209.4 MB)\n",
            "\u001b[2K   \u001b[90m━━━━━━━━━━━━━━━━━━━━━━━━━━━━━━━━━━━━━━━━\u001b[0m \u001b[32m209.4/209.4 MB\u001b[0m \u001b[31m2.3 MB/s\u001b[0m eta \u001b[36m0:00:00\u001b[0m\n",
            "\u001b[?25hDownloading transformers-4.44.0-py3-none-any.whl (9.5 MB)\n",
            "\u001b[2K   \u001b[90m━━━━━━━━━━━━━━━━━━━━━━━━━━━━━━━━━━━━━━━━\u001b[0m \u001b[32m9.5/9.5 MB\u001b[0m \u001b[31m5.5 MB/s\u001b[0m eta \u001b[36m0:00:00\u001b[0m\n",
            "\u001b[?25hDownloading nvidia_nvjitlink_cu12-12.6.20-py3-none-manylinux2014_x86_64.whl (19.7 MB)\n",
            "\u001b[2K   \u001b[90m━━━━━━━━━━━━━━━━━━━━━━━━━━━━━━━━━━━━━━━━\u001b[0m \u001b[32m19.7/19.7 MB\u001b[0m \u001b[31m3.2 MB/s\u001b[0m eta \u001b[36m0:00:00\u001b[0m\n",
            "\u001b[?25hInstalling collected packages: triton, nvidia-nvtx-cu12, nvidia-nvjitlink-cu12, nvidia-nccl-cu12, nvidia-curand-cu12, nvidia-cufft-cu12, nvidia-cuda-runtime-cu12, nvidia-cuda-nvrtc-cu12, nvidia-cuda-cupti-cu12, nvidia-cublas-cu12, nvidia-cusparse-cu12, nvidia-cudnn-cu12, nvidia-cusolver-cu12, transformers, torch\n",
            "\u001b[31mERROR: pip's dependency resolver does not currently take into account all the packages that are installed. This behaviour is the source of the following dependency conflicts.\n",
            "torchaudio 2.3.0+cpu requires torch==2.3.0, but you have torch 2.4.0 which is incompatible.\n",
            "torchvision 0.18.0+cpu requires torch==2.3.0, but you have torch 2.4.0 which is incompatible.\u001b[0m\u001b[31m\n",
            "\u001b[0mSuccessfully installed nvidia-cublas-cu12-12.1.3.1 nvidia-cuda-cupti-cu12-12.1.105 nvidia-cuda-nvrtc-cu12-12.1.105 nvidia-cuda-runtime-cu12-12.1.105 nvidia-cudnn-cu12-9.1.0.70 nvidia-cufft-cu12-11.0.2.54 nvidia-curand-cu12-10.3.2.106 nvidia-cusolver-cu12-11.4.5.107 nvidia-cusparse-cu12-12.1.0.106 nvidia-nccl-cu12-2.20.5 nvidia-nvjitlink-cu12-12.6.20 nvidia-nvtx-cu12-12.1.105 torch-2.4.0 transformers-4.44.0 triton-3.0.0\n"
          ]
        },
        {
          "output_type": "display_data",
          "data": {
            "application/vnd.colab-display-data+json": {
              "pip_warning": {
                "packages": [
                  "torchgen"
                ]
              },
              "id": "861aee1a173d4a35b33cbc286d642357"
            }
          },
          "metadata": {}
        }
      ]
    },
    {
      "cell_type": "code",
      "source": [
        "!pip install --upgrade torch torchvision torchaudio"
      ],
      "metadata": {
        "id": "1nfk8IiJHEOW",
        "outputId": "df808b6b-f60c-44a5-c9e1-576248ea590c",
        "colab": {
          "base_uri": "https://localhost:8080/"
        }
      },
      "execution_count": null,
      "outputs": [
        {
          "output_type": "stream",
          "name": "stdout",
          "text": [
            "Requirement already satisfied: torch in /usr/local/lib/python3.10/dist-packages (2.4.0)\n",
            "Requirement already satisfied: torchvision in /usr/local/lib/python3.10/dist-packages (0.18.0+cpu)\n",
            "Collecting torchvision\n",
            "  Downloading torchvision-0.19.0-cp310-cp310-manylinux1_x86_64.whl.metadata (6.0 kB)\n",
            "Requirement already satisfied: torchaudio in /usr/local/lib/python3.10/dist-packages (2.3.0+cpu)\n",
            "Collecting torchaudio\n",
            "  Downloading torchaudio-2.4.0-cp310-cp310-manylinux1_x86_64.whl.metadata (6.4 kB)\n",
            "Requirement already satisfied: filelock in /usr/local/lib/python3.10/dist-packages (from torch) (3.15.4)\n",
            "Requirement already satisfied: typing-extensions>=4.8.0 in /usr/local/lib/python3.10/dist-packages (from torch) (4.12.2)\n",
            "Requirement already satisfied: sympy in /usr/local/lib/python3.10/dist-packages (from torch) (1.13.1)\n",
            "Requirement already satisfied: networkx in /usr/local/lib/python3.10/dist-packages (from torch) (3.3)\n",
            "Requirement already satisfied: jinja2 in /usr/local/lib/python3.10/dist-packages (from torch) (3.1.4)\n",
            "Requirement already satisfied: fsspec in /usr/local/lib/python3.10/dist-packages (from torch) (2024.6.1)\n",
            "Requirement already satisfied: nvidia-cuda-nvrtc-cu12==12.1.105 in /usr/local/lib/python3.10/dist-packages (from torch) (12.1.105)\n",
            "Requirement already satisfied: nvidia-cuda-runtime-cu12==12.1.105 in /usr/local/lib/python3.10/dist-packages (from torch) (12.1.105)\n",
            "Requirement already satisfied: nvidia-cuda-cupti-cu12==12.1.105 in /usr/local/lib/python3.10/dist-packages (from torch) (12.1.105)\n",
            "Requirement already satisfied: nvidia-cudnn-cu12==9.1.0.70 in /usr/local/lib/python3.10/dist-packages (from torch) (9.1.0.70)\n",
            "Requirement already satisfied: nvidia-cublas-cu12==12.1.3.1 in /usr/local/lib/python3.10/dist-packages (from torch) (12.1.3.1)\n",
            "Requirement already satisfied: nvidia-cufft-cu12==11.0.2.54 in /usr/local/lib/python3.10/dist-packages (from torch) (11.0.2.54)\n",
            "Requirement already satisfied: nvidia-curand-cu12==10.3.2.106 in /usr/local/lib/python3.10/dist-packages (from torch) (10.3.2.106)\n",
            "Requirement already satisfied: nvidia-cusolver-cu12==11.4.5.107 in /usr/local/lib/python3.10/dist-packages (from torch) (11.4.5.107)\n",
            "Requirement already satisfied: nvidia-cusparse-cu12==12.1.0.106 in /usr/local/lib/python3.10/dist-packages (from torch) (12.1.0.106)\n",
            "Requirement already satisfied: nvidia-nccl-cu12==2.20.5 in /usr/local/lib/python3.10/dist-packages (from torch) (2.20.5)\n",
            "Requirement already satisfied: nvidia-nvtx-cu12==12.1.105 in /usr/local/lib/python3.10/dist-packages (from torch) (12.1.105)\n",
            "Requirement already satisfied: triton==3.0.0 in /usr/local/lib/python3.10/dist-packages (from torch) (3.0.0)\n",
            "Requirement already satisfied: nvidia-nvjitlink-cu12 in /usr/local/lib/python3.10/dist-packages (from nvidia-cusolver-cu12==11.4.5.107->torch) (12.6.20)\n",
            "Requirement already satisfied: numpy in /usr/local/lib/python3.10/dist-packages (from torchvision) (1.26.4)\n",
            "Requirement already satisfied: pillow!=8.3.*,>=5.3.0 in /usr/local/lib/python3.10/dist-packages (from torchvision) (10.4.0)\n",
            "Requirement already satisfied: MarkupSafe>=2.0 in /usr/local/lib/python3.10/dist-packages (from jinja2->torch) (2.1.5)\n",
            "Requirement already satisfied: mpmath<1.4,>=1.1.0 in /usr/local/lib/python3.10/dist-packages (from sympy->torch) (1.3.0)\n",
            "Downloading torchvision-0.19.0-cp310-cp310-manylinux1_x86_64.whl (7.0 MB)\n",
            "\u001b[2K   \u001b[90m━━━━━━━━━━━━━━━━━━━━━━━━━━━━━━━━━━━━━━━━\u001b[0m \u001b[32m7.0/7.0 MB\u001b[0m \u001b[31m23.6 MB/s\u001b[0m eta \u001b[36m0:00:00\u001b[0m\n",
            "\u001b[?25hDownloading torchaudio-2.4.0-cp310-cp310-manylinux1_x86_64.whl (3.4 MB)\n",
            "\u001b[2K   \u001b[90m━━━━━━━━━━━━━━━━━━━━━━━━━━━━━━━━━━━━━━━━\u001b[0m \u001b[32m3.4/3.4 MB\u001b[0m \u001b[31m92.3 MB/s\u001b[0m eta \u001b[36m0:00:00\u001b[0m\n",
            "\u001b[?25hInstalling collected packages: torchvision, torchaudio\n",
            "  Attempting uninstall: torchvision\n",
            "    Found existing installation: torchvision 0.18.0+cpu\n",
            "    Uninstalling torchvision-0.18.0+cpu:\n",
            "      Successfully uninstalled torchvision-0.18.0+cpu\n",
            "  Attempting uninstall: torchaudio\n",
            "    Found existing installation: torchaudio 2.3.0+cpu\n",
            "    Uninstalling torchaudio-2.3.0+cpu:\n",
            "      Successfully uninstalled torchaudio-2.3.0+cpu\n",
            "Successfully installed torchaudio-2.4.0 torchvision-0.19.0\n"
          ]
        }
      ]
    },
    {
      "cell_type": "code",
      "source": [
        "from google.colab import drive\n",
        "drive.mount('/content/drive')"
      ],
      "metadata": {
        "colab": {
          "base_uri": "https://localhost:8080/"
        },
        "id": "7ndEKE5sMJxh",
        "outputId": "af30e03e-79e1-451b-9d47-1fe2943604f0"
      },
      "execution_count": null,
      "outputs": [
        {
          "output_type": "stream",
          "name": "stdout",
          "text": [
            "Drive already mounted at /content/drive; to attempt to forcibly remount, call drive.mount(\"/content/drive\", force_remount=True).\n"
          ]
        }
      ]
    },
    {
      "cell_type": "code",
      "source": [
        "model.save_pretrained('/content/drive/MyDrive/AI_text Detection/LLM AI Text_Detection finetuned')\n",
        "tokenizer.save_pretrained('/content/drive/MyDrive/AI_text Detection/LLM AI Text_Detection finetuned')"
      ],
      "metadata": {
        "colab": {
          "base_uri": "https://localhost:8080/",
          "height": 159
        },
        "id": "iSXiFukLK5by",
        "outputId": "47b224a5-3eb0-4413-9914-8ee5a321ad03"
      },
      "execution_count": null,
      "outputs": [
        {
          "output_type": "error",
          "ename": "NameError",
          "evalue": "name 'model' is not defined",
          "traceback": [
            "\u001b[0;31m---------------------------------------------------------------------------\u001b[0m",
            "\u001b[0;31mNameError\u001b[0m                                 Traceback (most recent call last)",
            "\u001b[0;32m<ipython-input-2-7d4b800476e2>\u001b[0m in \u001b[0;36m<cell line: 1>\u001b[0;34m()\u001b[0m\n\u001b[0;32m----> 1\u001b[0;31m \u001b[0mmodel\u001b[0m\u001b[0;34m.\u001b[0m\u001b[0msave_pretrained\u001b[0m\u001b[0;34m(\u001b[0m\u001b[0;34m'/content/drive/MyDrive/AI_text Detection/LLM AI Text_Detection finetuned'\u001b[0m\u001b[0;34m)\u001b[0m\u001b[0;34m\u001b[0m\u001b[0;34m\u001b[0m\u001b[0m\n\u001b[0m\u001b[1;32m      2\u001b[0m \u001b[0mtokenizer\u001b[0m\u001b[0;34m.\u001b[0m\u001b[0msave_pretrained\u001b[0m\u001b[0;34m(\u001b[0m\u001b[0;34m'/content/drive/MyDrive/AI_text Detection/LLM AI Text_Detection finetuned'\u001b[0m\u001b[0;34m)\u001b[0m\u001b[0;34m\u001b[0m\u001b[0;34m\u001b[0m\u001b[0m\n",
            "\u001b[0;31mNameError\u001b[0m: name 'model' is not defined"
          ]
        }
      ]
    },
    {
      "cell_type": "code",
      "source": [
        "from sklearn.model_selection import train_test_split\n",
        "import pandas as pd\n",
        "df=pd.read_csv('/content/drive/MyDrive/AI_text Detection/Training_Essay_Data.csv')\n",
        "x_train,x_test,y_train,y_test=train_test_split(df['text'],df['labels'],test_size=0.2,random_state=17)"
      ],
      "metadata": {
        "id": "IZQOuse_FZRZ"
      },
      "execution_count": null,
      "outputs": []
    },
    {
      "cell_type": "code",
      "source": [
        "import tensorflow as tf\n",
        "from transformers import TFBertForSequenceClassification, BertTokenizer\n",
        "import pandas as pd\n",
        "from sklearn.model_selection import train_test_split\n",
        "from sklearn.metrics import accuracy_score\n",
        "# Load the dataset\n",
        "df = pd.read_csv('/content/drive/MyDrive/AI_text Detection/Training_Essay_Data.csv')\n",
        "\n",
        "# Split the dataset into training and test sets\n",
        "x_train, x_test, y_train, y_test = train_test_split(df['text'], df['labels'], test_size=0.2, random_state=42)\n",
        "\n",
        "# Load the pre-trained BERT model and tokenizer\n",
        "tokenizer = BertTokenizer.from_pretrained('bert-base-uncased')\n",
        "model = TFBertForSequenceClassification.from_pretrained('bert-base-uncased', num_labels=2)\n",
        "model.config.output_hidden_states = True\n",
        "\n",
        "# Sample input text for testing (using x_test and y_test)\n",
        "texts = x_test.tolist()[:150]  # Use first 5 examples for testing\n",
        "\n",
        "# Tokenize the text\n",
        "def encode(texts, tokenizer, max_length=128):\n",
        "    return tokenizer(texts, truncation=True, padding=True, max_length=max_length, return_tensors=\"tf\")\n",
        "\n",
        "X = encode(texts, tokenizer)\n",
        "\n",
        "# Get the outputs from the model\n",
        "outputs = model(X)\n",
        "\n",
        "# Extract embeddings from BERT model\n",
        "last_hidden_states = outputs.hidden_states[-1]\n",
        "\n",
        "# Optional: You might want to average or pool the embeddings if you have multiple tokens.\n",
        "# For example, average pooling across the tokens\n",
        "embeddings = tf.reduce_mean(last_hidden_states, axis=1)\n",
        "\n",
        "# Now 'embeddings' contains the contextual embeddings for your input text\n",
        "print(\"Embeddings:\")\n",
        "print(embeddings)\n",
        "\n",
        "# If you also want the predictions, you can still do that:\n",
        "logits = outputs.logits  # Get the logits\n",
        "predictions = tf.nn.softmax(logits, axis=1)  # Apply softmax to get probabilities\n",
        "predicted_labels = tf.argmax(predictions, axis=1)  # Get the predicted label\n",
        "\n",
        "# Print predictions\n",
        "print(\"\\nPredictions:\")\n"
      ],
      "metadata": {
        "colab": {
          "base_uri": "https://localhost:8080/"
        },
        "id": "ke3pVjcwOgjk",
        "outputId": "dd0f119f-86ec-4904-c26e-658eaaca6945"
      },
      "execution_count": null,
      "outputs": [
        {
          "output_type": "stream",
          "name": "stderr",
          "text": [
            "Some layers from the model checkpoint at /content/drive/MyDrive/AI_text Detection/LLM AI Text_Detection finetuned were not used when initializing TFBertForSequenceClassification: ['dropout_113']\n",
            "- This IS expected if you are initializing TFBertForSequenceClassification from the checkpoint of a model trained on another task or with another architecture (e.g. initializing a BertForSequenceClassification model from a BertForPreTraining model).\n",
            "- This IS NOT expected if you are initializing TFBertForSequenceClassification from the checkpoint of a model that you expect to be exactly identical (initializing a BertForSequenceClassification model from a BertForSequenceClassification model).\n",
            "All the layers of TFBertForSequenceClassification were initialized from the model checkpoint at /content/drive/MyDrive/AI_text Detection/LLM AI Text_Detection finetuned.\n",
            "If your task is similar to the task the model of the checkpoint was trained on, you can already use TFBertForSequenceClassification for predictions without further training.\n"
          ]
        },
        {
          "output_type": "stream",
          "name": "stdout",
          "text": [
            "Embeddings:\n",
            "tf.Tensor(\n",
            "[[ 0.08597485  0.34089905  1.586905   ... -0.9487239   0.04433781\n",
            "  -0.6437231 ]\n",
            " [-0.41321063  0.18794052  0.39727646 ... -0.31654742  0.0216553\n",
            "   0.1181764 ]\n",
            " [-0.28536338  0.30340952  1.2722772  ... -0.69378936  0.19717564\n",
            "  -0.17725733]\n",
            " ...\n",
            " [ 0.05474733  0.41203332  1.5868796  ... -0.87304735  0.15784465\n",
            "  -0.59348094]\n",
            " [-0.2978174   0.35702598 -0.3964829  ... -0.0346507  -1.0515611\n",
            "   0.09778576]\n",
            " [-0.26574254  0.3953672   0.97445214 ... -0.65999323  0.3280441\n",
            "  -0.2495408 ]], shape=(150, 768), dtype=float32)\n",
            "\n",
            "Predictions:\n"
          ]
        }
      ]
    },
    {
      "cell_type": "code",
      "source": [
        "print(predicted_labels.numpy())"
      ],
      "metadata": {
        "id": "fWOoLfgtOqb2",
        "colab": {
          "base_uri": "https://localhost:8080/"
        },
        "outputId": "99972c64-3557-4821-90ea-cc96b8c25828"
      },
      "execution_count": null,
      "outputs": [
        {
          "output_type": "stream",
          "name": "stdout",
          "text": [
            "[0 0 0 0 1 0 0 1 1 0 0 1 1 0 0 1 0 1 0 0 0 1 0 0 1 1 1 1 0 0 0 1 0 1 1 0 0\n",
            " 1 0 0 0 1 0 0 0 1 1 1 1 0 1 0 0 1 1 1 0 0 0 0 0 0 1 1 0 1 0 1 0 0 1 0 0 1\n",
            " 0 0 0 0 1 0 1 1 1 0 1 1 0 0 0 0 0 0 0 0 0 0 0 0 0 0 1 1 0 1 0 0 1 0 0 0 1\n",
            " 0 1 1 0 1 0 1 1 1 0 1 0 1 1 0 0 0 1 0 0 0 0 1 0 1 0 0 0 1 0 0 1 1 1 0 1 0\n",
            " 1 0]\n"
          ]
        }
      ]
    },
    {
      "cell_type": "code",
      "source": [
        "y_pred=predicted_labels.numpy()\n",
        "acc=accuracy_score(y_pred,y_test[:150])\n",
        "print(acc)"
      ],
      "metadata": {
        "colab": {
          "base_uri": "https://localhost:8080/"
        },
        "id": "ZeaQrYJzMaEF",
        "outputId": "884feec9-ac5d-4c5d-f0a6-7ad71722b4ac"
      },
      "execution_count": null,
      "outputs": [
        {
          "output_type": "stream",
          "name": "stdout",
          "text": [
            "0.8866666666666667\n"
          ]
        }
      ]
    },
    {
      "cell_type": "code",
      "source": [
        "from sklearn.decomposition import PCA\n",
        "pca=PCA(n_components=2)\n",
        "embeddings_2d=pca.fit_transform(embeddings)\n",
        "print(embeddings)"
      ],
      "metadata": {
        "colab": {
          "base_uri": "https://localhost:8080/"
        },
        "id": "FzyBsdyjMk8h",
        "outputId": "f68be2f0-f8fa-4618-8b9d-dbab6c244b07"
      },
      "execution_count": null,
      "outputs": [
        {
          "output_type": "stream",
          "name": "stdout",
          "text": [
            "tf.Tensor(\n",
            "[[ 0.08597485  0.34089905  1.586905   ... -0.9487239   0.04433781\n",
            "  -0.6437231 ]\n",
            " [-0.41321063  0.18794052  0.39727646 ... -0.31654742  0.0216553\n",
            "   0.1181764 ]\n",
            " [-0.28536338  0.30340952  1.2722772  ... -0.69378936  0.19717564\n",
            "  -0.17725733]\n",
            " ...\n",
            " [ 0.05474733  0.41203332  1.5868796  ... -0.87304735  0.15784465\n",
            "  -0.59348094]\n",
            " [-0.2978174   0.35702598 -0.3964829  ... -0.0346507  -1.0515611\n",
            "   0.09778576]\n",
            " [-0.26574254  0.3953672   0.97445214 ... -0.65999323  0.3280441\n",
            "  -0.2495408 ]], shape=(150, 768), dtype=float32)\n"
          ]
        }
      ]
    },
    {
      "cell_type": "code",
      "source": [
        "import matplotlib.pyplot as plt\n",
        "plt.scatter(embeddings[:,0],embeddings[:,1],c=y_test[:150])\n",
        "plt.show()"
      ],
      "metadata": {
        "colab": {
          "base_uri": "https://localhost:8080/",
          "height": 430
        },
        "id": "7HVR-4VaO0uk",
        "outputId": "31f64de2-4d3c-4642-ecf6-4e2f704b4ddc"
      },
      "execution_count": null,
      "outputs": [
        {
          "output_type": "display_data",
          "data": {
            "text/plain": [
              "<Figure size 640x480 with 1 Axes>"
            ],
            "image/png": "[encoded data removed]"
          },
          "metadata": {}
        }
      ]
    },
    {
      "cell_type": "code",
      "source": [
        "from sklearn.decomposition import PCA\n",
        "pca=PCA(n_components=3)\n",
        "embeddings_3d=pca.fit_transform(embeddings)\n",
        "print(embeddings)"
      ],
      "metadata": {
        "colab": {
          "base_uri": "https://localhost:8080/"
        },
        "id": "_QOqsCLwPFfM",
        "outputId": "e066a116-3ede-42ea-9fd6-fd222e13b67e"
      },
      "execution_count": null,
      "outputs": [
        {
          "output_type": "stream",
          "name": "stdout",
          "text": [
            "tf.Tensor(\n",
            "[[ 0.08597485  0.34089905  1.586905   ... -0.9487239   0.04433781\n",
            "  -0.6437231 ]\n",
            " [-0.41321063  0.18794052  0.39727646 ... -0.31654742  0.0216553\n",
            "   0.1181764 ]\n",
            " [-0.28536338  0.30340952  1.2722772  ... -0.69378936  0.19717564\n",
            "  -0.17725733]\n",
            " ...\n",
            " [ 0.05474733  0.41203332  1.5868796  ... -0.87304735  0.15784465\n",
            "  -0.59348094]\n",
            " [-0.2978174   0.35702598 -0.3964829  ... -0.0346507  -1.0515611\n",
            "   0.09778576]\n",
            " [-0.26574254  0.3953672   0.97445214 ... -0.65999323  0.3280441\n",
            "  -0.2495408 ]], shape=(150, 768), dtype=float32)\n"
          ]
        }
      ]
    },
    {
      "cell_type": "code",
      "source": [
        "import matplotlib.pyplot as plt\n",
        "plt.scatter(embeddings[:,0],embeddings[:,1],c=y_test[:150])\n",
        "plt.show()"
      ],
      "metadata": {
        "colab": {
          "base_uri": "https://localhost:8080/",
          "height": 430
        },
        "id": "K4NfQLEpP19T",
        "outputId": "fdfd34d9-ec54-4bd7-90f2-4e9dd00c030e"
      },
      "execution_count": null,
      "outputs": [
        {
          "output_type": "display_data",
          "data": {
            "text/plain": [
              "<Figure size 640x480 with 1 Axes>"
            ],
            "image/png": "[encoded data removed]"
          },
          "metadata": {}
        }
      ]
    },
    {
      "cell_type": "code",
      "source": [
        "import matplotlib.pyplot as plt\n",
        "plt.scatter(embeddings[:,0],embeddings[:,2],c=y_test[:150])\n",
        "plt.show()"
      ],
      "metadata": {
        "colab": {
          "base_uri": "https://localhost:8080/",
          "height": 430
        },
        "id": "vfjgSQNJP44f",
        "outputId": "89320399-2a96-4b9a-b60e-2e88aaf3aaa8"
      },
      "execution_count": null,
      "outputs": [
        {
          "output_type": "display_data",
          "data": {
            "text/plain": [
              "<Figure size 640x480 with 1 Axes>"
            ],
            "image/png": "[encoded data removed]"
          },
          "metadata": {}
        }
      ]
    },
    {
      "cell_type": "code",
      "source": [
        "import matplotlib.pyplot as plt\n",
        "plt.scatter(embeddings[:,1],embeddings[:,2],c=y_test[:150])\n",
        "plt.show()"
      ],
      "metadata": {
        "colab": {
          "base_uri": "https://localhost:8080/",
          "height": 430
        },
        "id": "avsIOKRFP7vX",
        "outputId": "48f054d8-8caa-48d6-a7fd-877a6d789e53"
      },
      "execution_count": null,
      "outputs": [
        {
          "output_type": "display_data",
          "data": {
            "text/plain": [
              "<Figure size 640x480 with 1 Axes>"
            ],
            "image/png": "[encoded data removed]"
          },
          "metadata": {}
        }
      ]
    },
    {
      "cell_type": "code",
      "source": [
        "import tensorflow as tf\n",
        "from transformers import TFBertForSequenceClassification, BertTokenizer\n",
        "import pandas as pd\n",
        "from sklearn.model_selection import train_test_split\n",
        "from sklearn.metrics import accuracy_score\n",
        "# Load the dataset\n",
        "df = pd.read_csv('/content/drive/MyDrive/AI_text Detection/Training_Essay_Data.csv')\n",
        "\n",
        "# Split the dataset into training and test sets\n",
        "x_train, x_test, y_train, y_test = train_test_split(df['text'], df['labels'], test_size=0.2, random_state=42)\n",
        "\n",
        "# Load the pre-trained BERT model and tokenizer\n",
        "model_name = '/content/drive/MyDrive/AI_text Detection/LLM AI Text_Detection finetuned'\n",
        "tokenizer = BertTokenizer.from_pretrained(model_name)\n",
        "model = TFBertForSequenceClassification.from_pretrained(model_name)\n",
        "model.config.output_hidden_states = True\n",
        "\n",
        "# Sample input text for testing (using x_test and y_test)\n",
        "texts = x_test.tolist()[:500]  # Use first 5 examples for testing\n",
        "\n",
        "# Tokenize the text\n",
        "def encode(texts, tokenizer, max_length=128):\n",
        "    return tokenizer(texts, truncation=True, padding=True, max_length=max_length, return_tensors=\"tf\")\n",
        "\n",
        "X = encode(texts, tokenizer)\n",
        "\n",
        "# Get the outputs from the model\n",
        "outputs = model(X)\n",
        "\n",
        "# Extract embeddings from BERT model\n",
        "last_hidden_states = outputs.hidden_states[-1]\n",
        "\n",
        "# Optional: You might want to average or pool the embeddings if you have multiple tokens.\n",
        "# For example, average pooling across the tokens\n",
        "embeddings = tf.reduce_mean(last_hidden_states, axis=1)\n",
        "\n",
        "# Now 'embeddings' contains the contextual embeddings for your input text\n",
        "print(\"Embeddings:\")\n",
        "print(embeddings)\n",
        "\n",
        "# If you also want the predictions, you can still do that:\n",
        "logits = outputs.logits  # Get the logits\n",
        "predictions = tf.nn.softmax(logits, axis=1)  # Apply softmax to get probabilities\n",
        "predicted_labels = tf.argmax(predictions, axis=1)  # Get the predicted label\n",
        "\n",
        "# Print predictions\n",
        "print(\"\\nPredictions:\")"
      ],
      "metadata": {
        "colab": {
          "base_uri": "https://localhost:8080/"
        },
        "id": "QLN2O3SGP9vb",
        "outputId": "363da285-dbc2-44de-f1e4-1b69b9d64161"
      },
      "execution_count": null,
      "outputs": [
        {
          "output_type": "stream",
          "name": "stderr",
          "text": [
            "Some layers from the model checkpoint at /content/drive/MyDrive/AI_text Detection/LLM AI Text_Detection finetuned were not used when initializing TFBertForSequenceClassification: ['dropout_113']\n",
            "- This IS expected if you are initializing TFBertForSequenceClassification from the checkpoint of a model trained on another task or with another architecture (e.g. initializing a BertForSequenceClassification model from a BertForPreTraining model).\n",
            "- This IS NOT expected if you are initializing TFBertForSequenceClassification from the checkpoint of a model that you expect to be exactly identical (initializing a BertForSequenceClassification model from a BertForSequenceClassification model).\n",
            "All the layers of TFBertForSequenceClassification were initialized from the model checkpoint at /content/drive/MyDrive/AI_text Detection/LLM AI Text_Detection finetuned.\n",
            "If your task is similar to the task the model of the checkpoint was trained on, you can already use TFBertForSequenceClassification for predictions without further training.\n"
          ]
        },
        {
          "output_type": "stream",
          "name": "stdout",
          "text": [
            "Embeddings:\n",
            "tf.Tensor(\n",
            "[[ 0.08597485  0.34089905  1.586905   ... -0.9487239   0.04433781\n",
            "  -0.6437231 ]\n",
            " [-0.41321063  0.18794052  0.39727646 ... -0.31654742  0.0216553\n",
            "   0.1181764 ]\n",
            " [-0.28536338  0.30340952  1.2722772  ... -0.69378936  0.19717564\n",
            "  -0.17725733]\n",
            " ...\n",
            " [-0.4113605   0.4224345   0.47697204 ... -0.34505033  0.19710407\n",
            "   0.12377496]\n",
            " [-0.26693094  0.10365454  0.6169692  ... -0.11964008  0.34343463\n",
            "   0.03074036]\n",
            " [ 0.01536302  0.25216088 -0.27071452 ... -0.00270677 -0.7269304\n",
            "   0.27007246]], shape=(500, 768), dtype=float32)\n",
            "\n",
            "Predictions:\n"
          ]
        }
      ]
    },
    {
      "cell_type": "code",
      "source": [
        "print(predicted_labels.numpy())"
      ],
      "metadata": {
        "colab": {
          "base_uri": "https://localhost:8080/"
        },
        "id": "GmwOsPSZQNAb",
        "outputId": "054d1096-dfee-4b18-84ba-0ae36aa53696"
      },
      "execution_count": null,
      "outputs": [
        {
          "output_type": "stream",
          "name": "stdout",
          "text": [
            "[0 0 0 0 1 0 0 1 1 0 0 1 1 0 0 1 0 1 0 0 0 1 0 0 1 1 1 1 0 0 0 1 0 1 1 0 0\n",
            " 1 0 0 0 1 0 0 0 1 1 1 1 0 1 0 0 1 1 1 0 0 0 0 0 0 1 1 0 1 0 1 0 0 1 0 0 1\n",
            " 0 0 0 0 1 0 1 1 1 0 1 1 0 0 0 0 0 0 0 0 0 0 0 0 0 0 1 1 0 1 0 0 1 0 0 0 1\n",
            " 0 1 1 0 1 0 1 1 1 0 1 0 1 1 0 0 0 1 0 0 0 0 1 0 1 0 0 0 1 0 0 1 1 1 0 1 0\n",
            " 1 0 0 1 0 1 0 0 1 1 1 0 0 0 0 0 1 1 0 1 1 0 1 0 0 1 1 0 0 0 1 0 0 0 0 1 1\n",
            " 0 0 0 0 1 0 1 0 0 1 0 0 1 0 1 1 1 0 1 0 0 1 0 1 0 0 0 0 1 0 1 0 0 0 0 0 0\n",
            " 0 0 1 0 0 1 0 0 1 0 1 0 0 1 1 0 0 0 1 1 0 1 1 0 1 0 0 0 1 0 0 1 0 1 0 0 0\n",
            " 1 0 1 0 0 0 1 1 0 0 0 1 0 0 1 1 0 0 1 1 0 1 1 1 1 0 1 0 1 0 0 1 1 0 0 1 0\n",
            " 0 0 0 0 0 0 1 0 0 0 1 1 0 1 0 0 0 0 0 0 1 0 0 1 1 0 1 0 0 1 0 0 0 1 0 1 0\n",
            " 0 1 0 0 0 0 0 1 0 1 0 0 0 1 1 1 0 1 0 0 1 1 0 1 1 0 0 1 0 0 0 0 0 0 0 0 1\n",
            " 0 0 0 1 1 0 0 1 0 0 0 0 0 1 1 1 1 0 0 1 0 1 0 1 0 1 1 0 0 0 1 0 0 1 0 0 1\n",
            " 1 1 1 1 1 1 1 1 1 1 1 0 1 1 0 1 0 0 1 0 0 1 1 1 1 0 0 0 1 1 0 1 0 0 0 1 0\n",
            " 1 0 0 1 0 1 0 0 0 1 0 0 0 1 0 0 0 1 1 0 0 1 0 1 0 1 0 0 1 1 1 0 0 1 1 1 0\n",
            " 0 1 0 1 1 1 1 0 0 1 1 1 1 0 0 0 0 0 1]\n"
          ]
        }
      ]
    },
    {
      "cell_type": "code",
      "source": [
        "y_pred=predicted_labels.numpy()\n",
        "acc=accuracy_score(y_pred,y_test[:500])\n",
        "print(acc)"
      ],
      "metadata": {
        "colab": {
          "base_uri": "https://localhost:8080/"
        },
        "id": "DHxQ2-9dVJBW",
        "outputId": "18c04279-67b0-4f2d-cb19-94eb841b4349"
      },
      "execution_count": null,
      "outputs": [
        {
          "output_type": "stream",
          "name": "stdout",
          "text": [
            "0.922\n"
          ]
        }
      ]
    },
    {
      "cell_type": "code",
      "source": [
        "from sklearn.decomposition import PCA\n",
        "pca=PCA(n_components=2)\n",
        "embeddings_2d=pca.fit_transform(embeddings)\n",
        "print(embeddings_2d)"
      ],
      "metadata": {
        "colab": {
          "base_uri": "https://localhost:8080/"
        },
        "id": "F42swoIHVLzl",
        "outputId": "8f135fe3-52e6-47de-c2e9-edbd2b01483a"
      },
      "execution_count": null,
      "outputs": [
        {
          "output_type": "stream",
          "name": "stdout",
          "text": [
            "[[-1.22200907e+01  5.98940792e+00]\n",
            " [-3.97689511e+00 -4.87137864e+00]\n",
            " [-9.93793194e+00  9.90460899e-01]\n",
            " [-1.24340525e+01  7.39034189e+00]\n",
            " [ 4.11835942e+00 -2.98414840e+00]\n",
            " [ 3.02765831e+00 -3.55640966e+00]\n",
            " [-1.13707435e+01  3.84547523e+00]\n",
            " [ 1.18913098e+01  2.32100779e+00]\n",
            " [ 9.42480055e+00  4.79455676e-01]\n",
            " [-8.40773744e+00 -1.30700141e+00]\n",
            " [ 9.65965530e-01 -4.89317895e+00]\n",
            " [ 1.08151152e+01  1.49557659e+00]\n",
            " [ 1.18200383e+01  2.20915057e+00]\n",
            " [-8.51423551e+00 -1.19351442e+00]\n",
            " [-6.04106092e+00 -2.92833898e+00]\n",
            " [ 8.57954338e+00 -4.80199730e-01]\n",
            " [-1.20484898e+01  5.72776931e+00]\n",
            " [ 7.58142770e+00 -1.40371260e+00]\n",
            " [-1.17904124e+01  5.37303785e+00]\n",
            " [-4.41977785e+00 -5.85812916e+00]\n",
            " [-5.05665947e+00 -4.03911445e+00]\n",
            " [ 2.14633036e+00 -4.47912836e+00]\n",
            " [-1.22271794e+01  6.00878822e+00]\n",
            " [-2.39081709e+00 -5.65268818e+00]\n",
            " [ 1.14279505e+01  3.19925649e+00]\n",
            " [ 1.12880688e+01  2.81293477e+00]\n",
            " [ 1.16301882e+01  1.81403181e+00]\n",
            " [ 1.20007644e+01  3.53388907e+00]\n",
            " [-1.22381844e+01  4.34271763e+00]\n",
            " [-6.96707198e+00 -3.99115508e+00]\n",
            " [-1.26084949e+01  7.28184916e+00]\n",
            " [ 5.82736759e+00 -2.95481120e+00]\n",
            " [-7.31215385e+00 -2.33297079e+00]\n",
            " [ 1.18611963e+01  2.14508946e+00]\n",
            " [ 1.20594535e+01  2.94752484e+00]\n",
            " [-1.12185265e+01  3.50452576e+00]\n",
            " [-1.14220871e+01  3.97756953e+00]\n",
            " [ 7.32087355e+00 -1.62562800e+00]\n",
            " [-1.25833037e+01  4.85268342e+00]\n",
            " [ 1.88575970e+00 -4.99259807e+00]\n",
            " [-8.06467660e+00 -2.08623418e+00]\n",
            " [ 4.43518250e+00 -3.30292206e+00]\n",
            " [-1.07300898e+01  3.77266790e+00]\n",
            " [-1.26050317e+01  6.02448922e+00]\n",
            " [-1.69540146e-01 -4.65928657e+00]\n",
            " [ 1.22857304e+01  3.45322922e+00]\n",
            " [ 1.05875496e+01  1.91887346e+00]\n",
            " [ 7.89506957e+00 -1.08841285e+00]\n",
            " [ 1.01796895e+01  8.59271443e-01]\n",
            " [-1.17862808e+01  3.64376628e+00]\n",
            " [ 1.18646865e+01  2.67928310e+00]\n",
            " [-3.07594530e+00 -4.85296076e+00]\n",
            " [-1.24606534e+01  3.86070297e+00]\n",
            " [ 1.02349285e+01  1.39411569e+00]\n",
            " [ 7.16169700e+00 -1.61291057e+00]\n",
            " [ 1.23391603e+01  2.13323963e+00]\n",
            " [-8.97423668e+00  2.90100731e-01]\n",
            " [-1.12164600e+01  2.33618443e+00]\n",
            " [-7.75329651e+00 -1.78480571e+00]\n",
            " [-1.24194797e+01  4.11743092e+00]\n",
            " [-1.13049517e+01  1.91954943e+00]\n",
            " [-7.43344083e+00 -3.16730844e+00]\n",
            " [ 1.26578971e+01  3.16372482e+00]\n",
            " [ 1.15823964e+01  2.10096001e+00]\n",
            " [-8.58990236e+00 -5.78727035e-01]\n",
            " [ 1.25356599e+01  3.51329666e+00]\n",
            " [-4.69630804e+00 -3.08489940e+00]\n",
            " [ 9.39434477e+00  4.75126884e-01]\n",
            " [-1.19129119e+01  5.28645012e+00]\n",
            " [-1.21228951e+01  4.30809327e+00]\n",
            " [ 1.27637046e+01  2.70657240e+00]\n",
            " [-4.56102584e+00 -5.06545050e+00]\n",
            " [-6.68757928e+00 -2.95964103e+00]\n",
            " [ 1.01608406e+01  1.54521744e+00]\n",
            " [-1.18729243e+01  4.26070697e+00]\n",
            " [-3.76435581e+00 -5.35479838e+00]\n",
            " [-1.18397206e+01  4.61355355e+00]\n",
            " [-1.25753368e+01  7.04643438e+00]\n",
            " [ 1.05222355e+01  1.11774887e+00]\n",
            " [-3.67006518e-01 -6.23007752e+00]\n",
            " [ 4.23358588e+00 -2.51213655e+00]\n",
            " [ 9.45634672e+00  1.25447025e+00]\n",
            " [ 1.16636913e+01  2.53502107e+00]\n",
            " [-2.51378794e-01 -5.34937271e+00]\n",
            " [ 1.24437511e+01  3.40137992e+00]\n",
            " [ 5.62959148e+00 -2.85173371e+00]\n",
            " [-1.01727281e+01  5.15791989e-01]\n",
            " [ 7.53987846e-01 -5.11652149e+00]\n",
            " [-7.78454308e+00 -1.70723764e+00]\n",
            " [-8.93027456e+00 -1.33190051e+00]\n",
            " [ 4.54964662e-01 -4.90716562e+00]\n",
            " [-1.26179510e+01  4.80729128e+00]\n",
            " [-1.04602602e+01  9.72939774e-02]\n",
            " [-1.01851198e+01  1.47504349e+00]\n",
            " [-2.41367853e-01 -4.96872694e+00]\n",
            " [-7.45693248e+00 -2.43650546e+00]\n",
            " [-1.24661788e+01  4.46700861e+00]\n",
            " [-9.34931130e+00  2.90466041e+00]\n",
            " [-1.25356690e+01  7.27668383e+00]\n",
            " [-9.10174900e+00 -2.25410588e-01]\n",
            " [ 2.06416679e+00 -3.43237295e+00]\n",
            " [ 7.41747778e+00 -1.02302577e+00]\n",
            " [-4.28319158e+00 -5.04911014e+00]\n",
            " [ 1.13320447e+01  2.06345174e+00]\n",
            " [-1.21972556e+01  3.20026848e+00]\n",
            " [-2.91610773e+00 -5.45202894e+00]\n",
            " [ 1.26920690e+01  2.53155142e+00]\n",
            " [-1.21360132e-03 -5.14030037e+00]\n",
            " [-1.24541524e+01  5.53138809e+00]\n",
            " [-1.84005524e+00 -3.82891357e+00]\n",
            " [ 1.62405795e+00 -3.95965320e+00]\n",
            " [-1.24551158e+01  5.93865109e+00]\n",
            " [ 1.09645210e+01  2.07873928e+00]\n",
            " [ 7.82975584e+00 -1.09481669e+00]\n",
            " [ 1.14401891e+00 -3.57543744e+00]\n",
            " [ 1.10093546e+01  1.11878864e+00]\n",
            " [-2.04688141e+00 -4.92259050e+00]\n",
            " [ 1.20760632e+01  2.27710176e+00]\n",
            " [ 4.50128751e+00 -3.90269425e+00]\n",
            " [ 4.86412693e+00 -2.97513799e+00]\n",
            " [-1.05820548e+01  2.50728812e+00]\n",
            " [ 1.05442246e+01  1.33377683e+00]\n",
            " [-1.14012319e+01  2.90659273e+00]\n",
            " [ 1.02311392e+01  1.11588831e+00]\n",
            " [ 1.26110205e+01  3.62603067e+00]\n",
            " [-5.53162759e+00 -3.79666031e+00]\n",
            " [-1.02715284e+01  6.90837492e-01]\n",
            " [-8.66907011e+00 -1.40441788e+00]\n",
            " [ 1.19008292e+01  2.34067619e+00]\n",
            " [-9.35110193e+00 -2.14720536e+00]\n",
            " [-7.76311599e+00 -2.98332594e+00]\n",
            " [-1.02002820e+01  2.93862269e+00]\n",
            " [-9.49596427e+00 -8.44128576e-02]\n",
            " [ 1.05686916e+01  1.83364742e+00]\n",
            " [ 9.34802706e-01 -4.43506804e+00]\n",
            " [ 1.32826563e+01  3.75526782e+00]\n",
            " [-1.32816314e+00 -3.72030471e+00]\n",
            " [-8.08213501e+00 -1.40552902e+00]\n",
            " [-1.07942900e+01  3.32337170e-01]\n",
            " [ 1.12300579e+01  3.23729052e+00]\n",
            " [-1.19775541e+01  5.26932752e+00]\n",
            " [-8.18782819e+00 -1.23711056e+00]\n",
            " [ 9.98879413e+00  1.44387028e+00]\n",
            " [ 3.73541162e+00 -3.94967092e+00]\n",
            " [ 1.17703136e+01  2.97868217e+00]\n",
            " [-4.66460497e+00 -4.13259473e+00]\n",
            " [ 1.27529543e+01  3.42092098e+00]\n",
            " [-1.26983655e+01  5.82336896e+00]\n",
            " [ 1.27291400e+01  3.71671367e+00]\n",
            " [-1.04885384e+01  6.73932125e-01]\n",
            " [-3.21753432e+00 -5.19911457e+00]\n",
            " [ 9.93694284e+00  1.05494707e+00]\n",
            " [-1.10920280e+01  3.47355815e+00]\n",
            " [ 1.14077381e+01  2.89386184e+00]\n",
            " [-1.18892103e+01  4.85338125e+00]\n",
            " [-8.76979875e+00  1.02753583e+00]\n",
            " [ 2.26483497e+00 -3.63390787e+00]\n",
            " [ 1.07496544e+01  9.05795881e-01]\n",
            " [ 1.23480009e+01  3.44370618e+00]\n",
            " [-8.25248071e+00 -6.39276822e-01]\n",
            " [-9.77526836e+00 -6.95840177e-01]\n",
            " [-3.63616529e+00 -4.56301895e+00]\n",
            " [ 9.74241680e-01 -5.28561954e+00]\n",
            " [-4.61215556e+00 -4.33627139e+00]\n",
            " [ 1.24247585e+01  2.61686760e+00]\n",
            " [ 7.34587251e+00 -7.89173475e-01]\n",
            " [-1.08581096e+01  6.51835316e-01]\n",
            " [ 1.03436209e+01  1.59603402e+00]\n",
            " [ 1.13326903e+01  2.49856489e+00]\n",
            " [-7.70499328e+00 -1.55098101e+00]\n",
            " [ 1.30043934e+01  4.08650031e+00]\n",
            " [-3.05659432e+00 -5.27653243e+00]\n",
            " [-7.57633387e-01 -5.33782270e+00]\n",
            " [ 8.69473685e+00 -2.25252353e-01]\n",
            " [ 1.24566644e+01  4.07427130e+00]\n",
            " [-8.49737621e+00 -2.91551921e+00]\n",
            " [-1.06586028e+01  1.60106047e+00]\n",
            " [-1.16752179e+01  4.36127158e+00]\n",
            " [ 1.17870496e+01  2.57984220e+00]\n",
            " [-1.24299778e+01  7.48761286e+00]\n",
            " [-1.23890619e+01  6.86863341e+00]\n",
            " [-1.04109734e+01  1.06781511e-01]\n",
            " [-3.99270931e-01 -4.83652289e+00]\n",
            " [ 6.78567370e+00 -2.78595703e+00]\n",
            " [ 1.03392029e+01  6.69244288e-01]\n",
            " [-1.17687418e+01  4.14620056e+00]\n",
            " [ 9.27922524e-01 -5.02366626e+00]\n",
            " [-9.68867551e+00 -3.79351442e-02]\n",
            " [-9.76531189e+00  6.52511084e-01]\n",
            " [ 1.02992732e+01  1.63850846e+00]\n",
            " [ 1.88550570e+00 -4.33700827e+00]\n",
            " [ 1.07302537e+01  1.97953081e+00]\n",
            " [ 4.03188773e-01 -4.89585501e+00]\n",
            " [ 2.39879917e-01 -3.93119460e+00]\n",
            " [ 6.28689339e+00 -3.38719066e+00]\n",
            " [-7.74463365e-01 -5.59025805e+00]\n",
            " [ 2.04668793e+00 -4.59541263e+00]\n",
            " [ 1.22154848e+01  3.81901731e+00]\n",
            " [-6.82300002e+00 -2.77646076e+00]\n",
            " [ 3.83294357e+00 -4.24325273e+00]\n",
            " [ 1.00262043e+01  1.27578920e+00]\n",
            " [ 1.06901601e+01  2.01987917e+00]\n",
            " [-6.46685402e+00 -3.80745623e+00]\n",
            " [ 8.20515104e+00 -6.73526913e-01]\n",
            " [-5.15989757e+00 -3.92727353e+00]\n",
            " [-1.25557961e+01  6.47930026e+00]\n",
            " [ 1.12168296e+01  2.67456785e+00]\n",
            " [-8.48476582e+00  5.04629433e-01]\n",
            " [ 3.50485702e+00 -4.10652325e+00]\n",
            " [-1.10356290e+01  2.08938580e+00]\n",
            " [-1.26959264e+01  7.20464595e+00]\n",
            " [-4.21911059e+00 -4.66934799e+00]\n",
            " [-1.17837119e+01  3.97757305e+00]\n",
            " [ 9.45370866e+00  1.17819662e+00]\n",
            " [-2.62335432e+00 -5.60985948e+00]\n",
            " [ 7.51816159e+00 -1.26589210e+00]\n",
            " [-9.77499251e+00  3.02381774e-01]\n",
            " [-1.15547245e+01  3.41051908e+00]\n",
            " [ 1.57890948e+00 -4.28599581e+00]\n",
            " [-1.65715176e+00 -5.47874079e+00]\n",
            " [-1.27477083e+01  6.74104414e+00]\n",
            " [ 2.05942761e+00 -4.90355327e+00]\n",
            " [-9.69900007e+00  3.04604517e+00]\n",
            " [-2.69127175e+00 -5.12956392e+00]\n",
            " [ 1.03103680e+01  9.89600789e-01]\n",
            " [ 9.43613072e-01 -4.16867293e+00]\n",
            " [-1.00398114e+00 -5.10639460e+00]\n",
            " [ 1.07595444e+01  1.64637296e+00]\n",
            " [-5.97997730e+00 -2.32075193e+00]\n",
            " [-9.00253164e+00 -4.80220928e-01]\n",
            " [ 1.17334809e+01  1.96412975e+00]\n",
            " [ 2.13752885e+00 -4.12123827e+00]\n",
            " [ 1.22443707e+01  3.10625907e+00]\n",
            " [-1.04800035e+01  2.38550299e+00]\n",
            " [-3.97113269e+00 -6.54246158e+00]\n",
            " [ 1.03539474e+01  1.26042017e+00]\n",
            " [ 1.02376808e+01  1.60129249e+00]\n",
            " [ 1.06642014e+00 -4.33975978e+00]\n",
            " [-7.72171419e+00 -1.67107202e+00]\n",
            " [-2.68900366e+00 -2.95511876e+00]\n",
            " [ 1.15188913e+01  3.27859027e+00]\n",
            " [ 9.19983166e+00  2.31580841e-01]\n",
            " [-1.09636401e+01  3.33057508e+00]\n",
            " [ 9.70299414e+00  9.85286496e-01]\n",
            " [ 7.63228968e+00 -1.39516031e+00]\n",
            " [-9.95606133e+00 -1.59336735e+00]\n",
            " [ 9.14398627e+00  6.98805147e-01]\n",
            " [-2.33188289e+00 -4.97378761e+00]\n",
            " [-2.29032094e+00 -5.55946087e+00]\n",
            " [-3.68197641e+00 -4.89288434e+00]\n",
            " [ 1.19172956e+01  3.28559248e+00]\n",
            " [-5.56440445e+00 -2.55702076e+00]\n",
            " [-1.21371443e+01  4.33528052e+00]\n",
            " [ 8.81985488e+00  1.23412882e-01]\n",
            " [-1.16109509e+01  4.38964668e+00]\n",
            " [ 1.12551469e+01  1.81715654e+00]\n",
            " [-8.94756731e+00 -6.55480613e-01]\n",
            " [-1.30864913e+00 -6.35797915e+00]\n",
            " [-1.18325414e+01  4.09301115e+00]\n",
            " [ 1.16923935e+01  2.64815240e+00]\n",
            " [ 4.98690702e-01 -4.85324925e+00]\n",
            " [ 9.83754192e+00  9.18200111e-01]\n",
            " [-9.95807278e+00 -6.37428370e-02]\n",
            " [-1.03179800e+01  1.15832477e+00]\n",
            " [-8.44408405e-01 -4.48865508e+00]\n",
            " [ 1.08695821e+01  1.20924643e+00]\n",
            " [ 1.08938511e+01  1.76463801e+00]\n",
            " [-1.10237449e+00 -5.95273229e+00]\n",
            " [-1.56348317e+00 -5.43984749e+00]\n",
            " [-1.25341142e+01  6.50276787e+00]\n",
            " [ 1.01894601e+01  1.16355799e+00]\n",
            " [-1.19049111e+01  3.91948575e+00]\n",
            " [ 2.74061170e+00 -4.40945672e+00]\n",
            " [ 1.01598672e+01  1.33784596e+00]\n",
            " [ 1.17378993e+01  2.49983186e+00]\n",
            " [-5.68747748e+00 -3.77880213e+00]\n",
            " [ 1.17633864e+00 -4.90107233e+00]\n",
            " [ 1.15890809e+01  2.81621816e+00]\n",
            " [ 8.06637961e+00 -5.14594425e-02]\n",
            " [-6.57930246e+00 -3.26451454e+00]\n",
            " [ 1.16706521e+01  2.84236450e+00]\n",
            " [ 1.22421249e+01  2.75532535e+00]\n",
            " [ 1.21253140e+01  3.19963886e+00]\n",
            " [ 1.17437196e+01  2.27447913e+00]\n",
            " [-5.62080428e+00 -3.39771125e+00]\n",
            " [ 3.27259216e+00 -3.53119628e+00]\n",
            " [-1.21870791e+01  6.48818995e+00]\n",
            " [ 4.39612447e+00 -3.35917897e+00]\n",
            " [-9.74909606e+00 -1.15152156e+00]\n",
            " [-1.27975411e+01  5.99611840e+00]\n",
            " [ 1.20253863e+01  3.27808106e+00]\n",
            " [ 1.03234248e+01  1.18157992e+00]\n",
            " [-8.70840302e+00 -3.22476007e+00]\n",
            " [-1.68693677e+00 -4.98074586e+00]\n",
            " [ 1.02703129e+01  6.49802402e-01]\n",
            " [-3.74753619e+00 -5.44546008e+00]\n",
            " [ 1.72114437e+00 -4.64764510e+00]\n",
            " [ 5.47474710e-01 -4.50183261e+00]\n",
            " [-6.90534701e+00 -3.37480526e+00]\n",
            " [-1.23114659e+01  4.97148636e+00]\n",
            " [-1.25366550e+01  6.09290150e+00]\n",
            " [-5.43046737e+00 -2.71265588e+00]\n",
            " [ 1.14183897e+01  3.00802458e+00]\n",
            " [ 5.69274368e-01 -5.48280777e+00]\n",
            " [-1.15854595e+01  4.76957884e+00]\n",
            " [-6.62893832e+00 -3.03049616e+00]\n",
            " [ 1.28487789e+01  3.04378618e+00]\n",
            " [ 1.26940294e+01  2.95219302e+00]\n",
            " [-5.19781698e+00 -3.69532883e+00]\n",
            " [ 1.16450857e+01  2.09994237e+00]\n",
            " [-6.77052645e+00 -3.28908200e+00]\n",
            " [-5.11155491e-01 -5.55102776e+00]\n",
            " [-1.26895031e+01  5.98189752e+00]\n",
            " [ 2.81012902e+00 -4.17739646e+00]\n",
            " [-3.80150193e+00 -4.71367892e+00]\n",
            " [-7.44614723e+00 -2.66919990e+00]\n",
            " [ 1.23016338e+01  3.83656404e+00]\n",
            " [-5.05084584e+00 -5.13345897e+00]\n",
            " [-8.13926115e+00 -2.30336174e+00]\n",
            " [ 1.16494558e+01  3.56065402e+00]\n",
            " [ 1.01544871e+01  1.46337033e+00]\n",
            " [-8.82297241e+00  1.22927707e-01]\n",
            " [ 1.07917308e+01  2.07532761e+00]\n",
            " [-1.07002699e+01  1.58912066e+00]\n",
            " [-9.94040827e+00 -1.04715009e+00]\n",
            " [ 1.05049297e+01  1.21677438e+00]\n",
            " [-1.75908646e-01 -5.43460655e+00]\n",
            " [-8.82225270e+00 -1.02140810e+00]\n",
            " [-1.16937918e+01  4.02292083e+00]\n",
            " [ 4.75499047e+00 -3.58094534e+00]\n",
            " [-1.64897719e+00 -4.63260842e+00]\n",
            " [ 1.16848142e+01  2.92429828e+00]\n",
            " [-1.17682443e+01  3.62472459e+00]\n",
            " [-1.17573032e+01  4.21708813e+00]\n",
            " [ 1.25220312e+01  3.58639750e+00]\n",
            " [-1.23613480e+01  4.59768609e+00]\n",
            " [-1.95771085e+00 -5.56707810e+00]\n",
            " [-9.80898088e+00  1.42428085e+00]\n",
            " [ 1.35259659e+00 -5.05420000e+00]\n",
            " [-7.90009001e+00 -2.03413781e+00]\n",
            " [ 9.90038951e+00  1.42910938e+00]\n",
            " [-1.17937114e+01  4.21746561e+00]\n",
            " [ 8.18027305e+00 -6.51220213e-01]\n",
            " [-1.20702669e+01  4.88635976e+00]\n",
            " [-7.94947735e+00 -2.51883094e+00]\n",
            " [-1.23398907e+01  5.04946237e+00]\n",
            " [ 9.92157336e+00  1.90332391e+00]\n",
            " [ 1.24098935e+01  3.66896310e+00]\n",
            " [ 5.25661409e+00 -2.62785735e+00]\n",
            " [-2.36303264e+00 -4.34084577e+00]\n",
            " [ 8.44263309e+00 -5.06827195e-01]\n",
            " [-9.19312644e+00 -4.90702771e-01]\n",
            " [-1.20759340e+01  5.61175092e+00]\n",
            " [ 1.13133677e+01  2.01568944e+00]\n",
            " [ 1.17515541e+01  3.04091230e+00]\n",
            " [-1.00239086e+01  1.17776394e+00]\n",
            " [ 7.74913727e+00 -6.48987328e-01]\n",
            " [ 4.33224057e+00 -2.30471298e+00]\n",
            " [-7.51041713e+00 -2.09080530e+00]\n",
            " [-1.26874710e+01  6.75386372e+00]\n",
            " [ 1.29137285e+01  3.58255494e+00]\n",
            " [-1.16558328e+01  3.86479332e+00]\n",
            " [-9.68270285e+00 -1.25013712e+00]\n",
            " [-6.00622211e+00 -3.87442593e+00]\n",
            " [-1.24907662e+01  6.46714168e+00]\n",
            " [-1.18202393e+01  5.41971654e+00]\n",
            " [-1.06234424e+01 -1.45676384e-01]\n",
            " [-1.18387621e+01  4.15408451e+00]\n",
            " [-1.11253150e+01  2.70040659e+00]\n",
            " [ 1.26258321e+01  3.49899142e+00]\n",
            " [-3.72311915e+00 -5.85342636e+00]\n",
            " [ 2.40799069e+00 -4.99132136e+00]\n",
            " [-9.74851036e+00 -1.13719523e+00]\n",
            " [ 1.01020517e+01  1.12077571e+00]\n",
            " [ 1.06744322e+01  1.89689782e+00]\n",
            " [-1.26278738e+01  5.22603334e+00]\n",
            " [-1.25996297e+01  5.46091213e+00]\n",
            " [ 4.86412693e+00 -2.97513799e+00]\n",
            " [-1.13848042e+01  1.82825645e+00]\n",
            " [-5.18609127e+00 -3.38940166e+00]\n",
            " [-7.73919267e-01 -5.59094433e+00]\n",
            " [-6.84594336e+00 -3.78504183e+00]\n",
            " [-1.09554908e+01  1.23142868e+00]\n",
            " [ 1.14434357e+01  2.59990945e+00]\n",
            " [ 1.05681013e+01  1.78475211e+00]\n",
            " [ 1.23192755e+01  3.66510203e+00]\n",
            " [ 5.40286741e+00 -2.24228297e+00]\n",
            " [-1.23183434e+01  4.76561240e+00]\n",
            " [-4.53332284e+00 -4.35167379e+00]\n",
            " [ 3.42375967e+00 -3.58300003e+00]\n",
            " [-6.40737650e+00 -3.24597326e+00]\n",
            " [ 1.01755582e+01  1.21109556e+00]\n",
            " [ 1.11541383e+00 -4.52071841e+00]\n",
            " [ 1.13480345e+01  1.08856475e+00]\n",
            " [-1.19665043e+01  4.37553794e+00]\n",
            " [ 1.26691962e+01  4.20163594e+00]\n",
            " [ 4.79499172e+00 -2.83970590e+00]\n",
            " [ 8.30653359e-01 -4.69007519e+00]\n",
            " [-2.00400283e+00 -5.68862191e+00]\n",
            " [-9.63419063e+00  7.36181230e-01]\n",
            " [ 1.13522836e+01  2.13997677e+00]\n",
            " [-1.09764138e+01  3.77532288e+00]\n",
            " [-9.85916264e+00  2.17268487e-01]\n",
            " [ 1.03504915e+01  1.97925553e+00]\n",
            " [ 4.20320533e-01 -5.43302822e+00]\n",
            " [-5.54922470e+00 -4.33442456e+00]\n",
            " [ 1.24079222e+01  2.11720912e+00]\n",
            " [ 1.13598907e+01  2.86064447e+00]\n",
            " [ 1.18830853e+01  3.37698194e+00]\n",
            " [ 1.31125778e+01  4.34889481e+00]\n",
            " [ 8.41689450e+00  2.57811749e-01]\n",
            " [ 1.22323549e+01  3.87176047e+00]\n",
            " [ 9.74560898e+00  6.95099865e-01]\n",
            " [ 8.63958212e+00 -4.24514542e-01]\n",
            " [ 1.20391211e+01  3.32620931e+00]\n",
            " [ 9.60601435e+00 -3.88140377e-02]\n",
            " [ 1.23851353e+01  2.19228213e+00]\n",
            " [ 3.21672489e+00 -3.69953018e+00]\n",
            " [ 1.37385276e+00 -3.90835395e+00]\n",
            " [ 1.22399666e+01  3.58202982e+00]\n",
            " [ 7.07325958e+00 -9.30375488e-01]\n",
            " [-1.22851204e+01  4.39626079e+00]\n",
            " [ 1.17932828e+01  3.06229329e+00]\n",
            " [-1.03247270e+01  1.42739664e+00]\n",
            " [-1.03584613e+01  1.20085983e+00]\n",
            " [ 5.37443735e+00 -2.98251583e+00]\n",
            " [-5.08223058e+00 -5.19834660e+00]\n",
            " [-6.64337898e+00 -3.70696389e+00]\n",
            " [ 5.64739669e+00 -2.63094605e+00]\n",
            " [ 6.01511806e+00 -2.40164030e+00]\n",
            " [ 1.19624247e+01  3.28467324e+00]\n",
            " [ 7.98151726e+00 -8.31125142e-01]\n",
            " [-4.62479133e+00 -5.26595524e+00]\n",
            " [-5.65121820e+00 -4.33144967e+00]\n",
            " [-8.72289683e+00 -2.32675364e+00]\n",
            " [ 9.68027443e+00  1.40864190e-01]\n",
            " [ 1.21300378e+01  3.06715054e+00]\n",
            " [-4.26760938e+00 -2.03641200e+00]\n",
            " [ 1.05434439e+01  1.97017992e+00]\n",
            " [-4.13182012e+00 -3.60814169e+00]\n",
            " [ 1.03885585e+00 -4.81476659e+00]\n",
            " [-1.65926645e+00 -5.77837493e+00]\n",
            " [ 1.28405001e+01  3.60003468e+00]\n",
            " [-3.49874182e+00 -2.61460887e+00]\n",
            " [ 1.16288384e+01  2.23719411e+00]\n",
            " [-5.93988278e+00 -4.00188538e+00]\n",
            " [-2.72604321e+00 -6.39455491e+00]\n",
            " [ 1.26273295e+01  3.87829412e+00]\n",
            " [-9.04617588e+00 -1.01312212e+00]\n",
            " [ 3.35498592e+00 -3.12114247e+00]\n",
            " [-8.41541129e+00 -2.10417546e+00]\n",
            " [-3.33658424e+00 -5.64767258e+00]\n",
            " [-2.00742132e-01 -4.70933340e+00]\n",
            " [ 1.12636786e+01  1.11998945e+00]\n",
            " [-1.16138117e+01  4.27559771e+00]\n",
            " [-8.75231364e+00 -1.47187659e+00]\n",
            " [-1.03208078e+01  4.89570692e+00]\n",
            " [ 5.85884683e+00 -2.83439700e+00]\n",
            " [-4.12497008e+00 -4.33759038e+00]\n",
            " [-1.24005413e+01  3.79824082e+00]\n",
            " [ 1.71504290e+00 -4.82494985e+00]\n",
            " [ 6.26003537e+00 -1.52893875e+00]\n",
            " [ 1.15115934e+01  2.37962669e+00]\n",
            " [-1.25545268e+01  4.62040421e+00]\n",
            " [-1.25653650e+01  6.50500615e+00]\n",
            " [ 1.08300705e+01  2.63796710e+00]\n",
            " [-7.45930280e+00 -1.91726751e+00]\n",
            " [ 1.21923775e+01  3.12577498e+00]\n",
            " [-1.11054213e+01  1.26606393e+00]\n",
            " [ 9.33148358e+00 -3.46130840e-01]\n",
            " [-3.19376132e+00 -5.36031745e+00]\n",
            " [-1.27882853e+01  5.47789734e+00]\n",
            " [ 3.21205114e+00 -3.14465441e+00]\n",
            " [ 1.32893303e+01  3.73301710e+00]\n",
            " [ 1.07601412e+01  1.02266693e+00]\n",
            " [ 7.98437616e-01 -4.69150943e+00]\n",
            " [-9.11647892e+00 -5.70780383e-01]\n",
            " [ 1.21363890e+01  3.41963606e+00]\n",
            " [ 1.13347780e+01  2.88368535e+00]\n",
            " [ 1.21611762e+01  3.33381829e+00]\n",
            " [-5.07986747e+00 -4.73907850e+00]\n",
            " [-6.97590662e-01 -5.16578479e+00]\n",
            " [ 1.09968924e+01  1.77532737e+00]\n",
            " [-6.12989862e+00 -3.75496478e+00]\n",
            " [ 1.20095181e+01  2.77764288e+00]\n",
            " [ 1.22664592e+01  2.79621401e+00]\n",
            " [ 1.14875117e+01  3.45817872e+00]\n",
            " [ 9.53989265e+00  9.67819231e-01]\n",
            " [-1.25590835e+01  6.90449076e+00]\n",
            " [-7.17066887e+00 -2.62454012e+00]\n",
            " [ 5.87292478e+00 -3.29292592e+00]\n",
            " [ 1.18786140e+01  2.03055008e+00]\n",
            " [ 3.68907019e+00 -4.01403177e+00]\n",
            " [ 1.24981595e+01  2.88078376e+00]\n",
            " [-3.12607754e+00 -5.53478137e+00]\n",
            " [ 1.43346864e+00 -4.56256896e+00]\n",
            " [-1.07767284e+01  1.28423071e+00]\n",
            " [-5.04811206e+00 -4.26131989e+00]\n",
            " [-4.11984060e+00 -5.26260650e+00]\n",
            " [ 1.20132118e+01  3.17008737e+00]]\n"
          ]
        }
      ]
    },
    {
      "cell_type": "code",
      "source": [
        "from sklearn.preprocessing import StandardScaler\n",
        "scaler=StandardScaler()\n",
        "embeddings_scaled=scaler.fit_transform(embeddings_2d)"
      ],
      "metadata": {
        "id": "VZuzHeMhVTcr"
      },
      "execution_count": null,
      "outputs": []
    },
    {
      "cell_type": "code",
      "source": [
        "import matplotlib.pyplot as plt\n",
        "plt.scatter(embeddings_scaled[:,0],embeddings_scaled[:,1],c=y_test[:500])\n",
        "plt.show()"
      ],
      "metadata": {
        "colab": {
          "base_uri": "https://localhost:8080/",
          "height": 430
        },
        "id": "MFDr9mruVaU5",
        "outputId": "d4c8b668-df88-443c-ab7c-bfa81877d1db"
      },
      "execution_count": null,
      "outputs": [
        {
          "output_type": "display_data",
          "data": {
            "text/plain": [
              "<Figure size 640x480 with 1 Axes>"
            ],
            "image/png": "[encoded data removed]"
          },
          "metadata": {}
        }
      ]
    },
    {
      "cell_type": "code",
      "source": [
        "plt.figure(figsize=(10, 8))\n",
        "scatter = plt.scatter(embeddings_scaled[:, 0], embeddings_scaled[:, 1], c=y_test[:500], cmap='viridis', alpha=0.7)\n",
        "legend1 = plt.legend(*scatter.legend_elements(), title=\"Labels\")\n",
        "plt.xlabel('Embedding Dimension 1')\n",
        "plt.ylabel('Embedding Dimension 2')\n",
        "plt.title('BERT Embeddings Visualization')\n",
        "plt.show()"
      ],
      "metadata": {
        "colab": {
          "base_uri": "https://localhost:8080/",
          "height": 718
        },
        "id": "M5QOosWfV70E",
        "outputId": "bfdf6a42-8ae9-4475-ec35-ad504883110f"
      },
      "execution_count": null,
      "outputs": [
        {
          "output_type": "display_data",
          "data": {
            "text/plain": [
              "<Figure size 1000x800 with 1 Axes>"
            ],
            "image/png": "[encoded data removed]"
          },
          "metadata": {}
        }
      ]
    },
    {
      "cell_type": "code",
      "source": [],
      "metadata": {
        "id": "Qq_o_Xa1WHmQ"
      },
      "execution_count": null,
      "outputs": []
    },
    {
      "cell_type": "markdown",
      "source": [
        "TESTING\n"
      ],
      "metadata": {
        "id": "oDGUyolDv8r8"
      }
    },
    {
      "cell_type": "code",
      "source": [
        "import tensorflow as tf\n",
        "from transformers import TFBertForSequenceClassification, BertTokenizer\n",
        "import pandas as pd\n",
        "from sklearn.model_selection import train_test_split\n",
        "from sklearn.metrics import accuracy_score"
      ],
      "metadata": {
        "id": "A3oHZ-2pv95X"
      },
      "execution_count": null,
      "outputs": []
    },
    {
      "cell_type": "code",
      "source": [
        "model_name = '/content/drive/MyDrive/AI_text Detection/LLM AI Text_Detection finetuned'\n",
        "tokenizer = BertTokenizer.from_pretrained(model_name)\n",
        "model = TFBertForSequenceClassification.from_pretrained(model_name)\n",
        "model.config.output_hidden_states = True"
      ],
      "metadata": {
        "colab": {
          "base_uri": "https://localhost:8080/"
        },
        "id": "No1_S4CPv-rD",
        "outputId": "53f85857-0869-47f1-d7bc-c9c69d7a1dd0"
      },
      "execution_count": null,
      "outputs": [
        {
          "output_type": "stream",
          "name": "stderr",
          "text": [
            "Some layers from the model checkpoint at /content/drive/MyDrive/AI_text Detection/LLM AI Text_Detection finetuned were not used when initializing TFBertForSequenceClassification: ['dropout_113']\n",
            "- This IS expected if you are initializing TFBertForSequenceClassification from the checkpoint of a model trained on another task or with another architecture (e.g. initializing a BertForSequenceClassification model from a BertForPreTraining model).\n",
            "- This IS NOT expected if you are initializing TFBertForSequenceClassification from the checkpoint of a model that you expect to be exactly identical (initializing a BertForSequenceClassification model from a BertForSequenceClassification model).\n",
            "All the layers of TFBertForSequenceClassification were initialized from the model checkpoint at /content/drive/MyDrive/AI_text Detection/LLM AI Text_Detection finetuned.\n",
            "If your task is similar to the task the model of the checkpoint was trained on, you can already use TFBertForSequenceClassification for predictions without further training.\n"
          ]
        }
      ]
    },
    {
      "cell_type": "code",
      "source": [
        "def encode(texts, tokenizer, max_length=128):\n",
        "    return tokenizer(texts, truncation=True, padding=True, max_length=max_length, return_tensors=\"tf\")"
      ],
      "metadata": {
        "id": "OSu-v2dfwDDj"
      },
      "execution_count": null,
      "outputs": []
    },
    {
      "cell_type": "code",
      "source": [
        "hgt=[\"Its BJP'S arrogance which took it down\",\"Now no more questions are raised on the EVMs, fairness of the elections because the opposition is satisfied with the results. And yet, Modi is being termed as incumbent.Seriously?????\",\"I don’t get the whole North South thing. Where does Maharashtra, Goa or Gujarat come in that equation? Goa is extremely rich state per capita and Gujarat and Maharashtra contribute more to the Indian GDP than the so called “South”. The whole North vs South is a manufactured divide.\",\"It's a wake up call for BJP and Modiji for calling Rahul Gandhi pappu who is now LoP and will soon become PM\"]"
      ],
      "metadata": {
        "id": "0ovZmDv5wR5d"
      },
      "execution_count": null,
      "outputs": []
    },
    {
      "cell_type": "code",
      "source": [
        "mgt=[\"It's BJP's arrogance that brought about its downfall. They forgot that true leadership is about serving the people, not just holding power.\",\"The opposition's sudden acceptance of election results conveniently overlooks their previous concerns about EVMs. But calling Modi the incumbent? The hypocrisy is astounding.\",\"Why pit North against South when states like Maharashtra, Goa, and Gujarat are powerhouse economies in their own right? Let's not fall into the trap of divisive narratives and celebrate India's diversity and collective progress.\",\"The BJP and Modi branding Rahul Gandhi as 'pappu' has backfired spectacularly. As the Leader of the Opposition and possibly the next Prime Minister, he has proven his political resilience. It's a lesson in not underestimating your rivals in the political arena.\"]"
      ],
      "metadata": {
        "id": "ownJID5NxPG6"
      },
      "execution_count": null,
      "outputs": []
    },
    {
      "cell_type": "code",
      "source": [
        "len(hgt)"
      ],
      "metadata": {
        "colab": {
          "base_uri": "https://localhost:8080/"
        },
        "id": "tgJHRuX3yKZF",
        "outputId": "bdbbeb96-9ab5-4283-882f-d340a5a66868"
      },
      "execution_count": null,
      "outputs": [
        {
          "output_type": "execute_result",
          "data": {
            "text/plain": [
              "4"
            ]
          },
          "metadata": {},
          "execution_count": 6
        }
      ]
    },
    {
      "cell_type": "code",
      "source": [
        "len(mgt)"
      ],
      "metadata": {
        "colab": {
          "base_uri": "https://localhost:8080/"
        },
        "id": "QyqDc1M1yL3g",
        "outputId": "9b29766e-85b7-4f03-d035-406e1a2a9400"
      },
      "execution_count": null,
      "outputs": [
        {
          "output_type": "execute_result",
          "data": {
            "text/plain": [
              "5"
            ]
          },
          "metadata": {},
          "execution_count": 7
        }
      ]
    },
    {
      "cell_type": "code",
      "source": [
        "hgt_tk=encode(hgt,tokenizer)\n",
        "mgt_tk=encode(mgt,tokenizer)"
      ],
      "metadata": {
        "id": "v-K1-_8iyNNE"
      },
      "execution_count": null,
      "outputs": []
    },
    {
      "cell_type": "code",
      "source": [
        "outputs = model(hgt_tk)\n",
        "\n",
        "# Extract embeddings from BERT model\n",
        "last_hidden_states = outputs.hidden_states[-1]\n",
        "\n",
        "# Optional: You might want to average or pool the embeddings if you have multiple tokens.\n",
        "# For example, average pooling across the tokens\n",
        "embeddings_hgt = tf.reduce_mean(last_hidden_states, axis=1)\n",
        "\n",
        "# Now 'embeddings' contains the contextual embeddings for your input text\n",
        "print(\"Embeddings:\")\n",
        "print(embeddings_hgt)\n",
        "\n",
        "# If you also want the predictions, you can still do that:\n",
        "logits = outputs.logits  # Get the logits\n",
        "predictions = tf.nn.softmax(logits, axis=1)  # Apply softmax to get probabilities\n",
        "predicted_labels_hgt = tf.argmax(predictions, axis=1)  # Get the predicted label\n",
        "\n",
        "# Print predictions\n",
        "print(\"\\nPredictions:\",predicted_labels_hgt)"
      ],
      "metadata": {
        "colab": {
          "base_uri": "https://localhost:8080/"
        },
        "id": "HiNsGF-byRQB",
        "outputId": "91898389-8143-4530-a3a5-debab6d016af"
      },
      "execution_count": null,
      "outputs": [
        {
          "output_type": "stream",
          "name": "stdout",
          "text": [
            "Embeddings:\n",
            "tf.Tensor(\n",
            "[[-0.3725744  -0.3428307  -0.07860593 ...  0.04767249  0.11650288\n",
            "   0.18307431]\n",
            " [-0.30837214 -0.02058048  0.535788   ... -0.08661807  0.11196058\n",
            "  -0.01554496]\n",
            " [-0.09040654 -0.17442293  0.19279476 ... -0.16192776  0.22980733\n",
            "  -0.02242679]\n",
            " [-0.253711   -0.15820195  0.53250724 ... -0.05758077  0.0517088\n",
            "  -0.2641295 ]], shape=(4, 768), dtype=float32)\n",
            "\n",
            "Predictions: tf.Tensor([0 0 0 0], shape=(4,), dtype=int64)\n"
          ]
        }
      ]
    },
    {
      "cell_type": "code",
      "source": [
        "outputs = model(mgt_tk)\n",
        "\n",
        "# Extract embeddings from BERT model\n",
        "last_hidden_states = outputs.hidden_states[-1]\n",
        "\n",
        "# Optional: You might want to average or pool the embeddings if you have multiple tokens.\n",
        "# For example, average pooling across the tokens\n",
        "embeddings_mgt = tf.reduce_mean(last_hidden_states, axis=1)\n",
        "\n",
        "# Now 'embeddings' contains the contextual embeddings for your input text\n",
        "print(\"Embeddings:\")\n",
        "print(embeddings_mgt)\n",
        "\n",
        "# If you also want the predictions, you can still do that:\n",
        "logits = outputs.logits  # Get the logits\n",
        "predictions = tf.nn.softmax(logits, axis=1)  # Apply softmax to get probabilities\n",
        "predicted_labels_mgt = tf.argmax(predictions, axis=1)  # Get the predicted label\n",
        "\n",
        "# Print predictions\n",
        "print(\"\\nPredictions:\",predicted_labels_mgt)"
      ],
      "metadata": {
        "colab": {
          "base_uri": "https://localhost:8080/"
        },
        "id": "NPVEM8WQybBR",
        "outputId": "017f3713-441b-407f-d7f6-9fd0a485854b"
      },
      "execution_count": null,
      "outputs": [
        {
          "output_type": "stream",
          "name": "stdout",
          "text": [
            "Embeddings:\n",
            "tf.Tensor(\n",
            "[[-0.15454556 -0.14369364 -0.06464013 ...  0.07235932 -0.24491997\n",
            "   0.29594642]\n",
            " [-0.11001968  0.14202607  0.20220703 ...  0.34773722 -0.16022326\n",
            "   0.24549364]\n",
            " [-0.03206826 -0.03671855 -0.15744795 ... -0.04024084 -0.3651497\n",
            "  -0.06460084]\n",
            " [-0.24579266 -0.16909346 -0.01604954 ...  0.12979165 -0.32481655\n",
            "  -0.11484284]], shape=(4, 768), dtype=float32)\n",
            "\n",
            "Predictions: tf.Tensor([1 1 1 1], shape=(4,), dtype=int64)\n"
          ]
        }
      ]
    },
    {
      "cell_type": "code",
      "source": [
        "embeddings=tf.concat([embeddings_hgt,embeddings_mgt],axis=0)"
      ],
      "metadata": {
        "id": "BncQ3Aj1y4p1"
      },
      "execution_count": null,
      "outputs": []
    },
    {
      "cell_type": "code",
      "source": [],
      "metadata": {
        "id": "8sqylpIAzHwj"
      },
      "execution_count": null,
      "outputs": []
    },
    {
      "cell_type": "code",
      "source": [
        "from sklearn.decomposition import PCA\n",
        "pca=PCA(n_components=2)\n",
        "embeddings_2d=pca.fit_transform(embeddings)\n",
        "print(embeddings_2d)"
      ],
      "metadata": {
        "colab": {
          "base_uri": "https://localhost:8080/"
        },
        "id": "M9nN4fkZyoBW",
        "outputId": "242f1850-a1ca-45bc-b99a-2296387d522e"
      },
      "execution_count": null,
      "outputs": [
        {
          "output_type": "stream",
          "name": "stdout",
          "text": [
            "[[-2.40322174  3.80999134]\n",
            " [-5.39929748 -0.49381125]\n",
            " [-1.18961972 -2.45960141]\n",
            " [-6.87166128 -1.58719534]\n",
            " [ 2.66167474  1.97834012]\n",
            " [ 1.62055156  1.39631398]\n",
            " [ 7.35805257 -1.18167179]\n",
            " [ 4.22352136 -1.46236564]]\n"
          ]
        }
      ]
    },
    {
      "cell_type": "code",
      "source": [
        "from sklearn.preprocessing import StandardScaler\n",
        "scaler=StandardScaler()\n",
        "embeddings_scaled=scaler.fit_transform(embeddings_2d)"
      ],
      "metadata": {
        "id": "VchJqAYNy77G"
      },
      "execution_count": null,
      "outputs": []
    },
    {
      "cell_type": "code",
      "source": [
        "import matplotlib.pyplot as plt\n",
        "plt.figure(figsize=(10, 8))\n",
        "plt.scatter(embeddings_scaled[:,0],embeddings_scaled[:,1],c=[0,0,0,0,1,1,1,1])\n",
        "plt.show()"
      ],
      "metadata": {
        "colab": {
          "base_uri": "https://localhost:8080/",
          "height": 676
        },
        "id": "TAy7NyY4zA0X",
        "outputId": "a9646069-d322-4c43-aea2-bca015be4392"
      },
      "execution_count": null,
      "outputs": [
        {
          "output_type": "display_data",
          "data": {
            "text/plain": [
              "<Figure size 1000x800 with 1 Axes>"
            ],
            "image/png": "[encoded data removed]"
          },
          "metadata": {}
        }
      ]
    },
    {
      "cell_type": "code",
      "source": [
        "plt.scatter(embeddings_scaled[:,0],embeddings_scaled[:,1],c=[0,0,0,0,1,1,1,1])\n",
        "plt.scatter(embeddings_sample_2d_scaled[0,0],embeddings_scaled[0,1],c='red')\n",
        "plt.show()"
      ],
      "metadata": {
        "colab": {
          "base_uri": "https://localhost:8080/",
          "height": 431
        },
        "id": "uYTgLvhWzDrl",
        "outputId": "237459ea-8072-4793-a286-05270a25a1cf"
      },
      "execution_count": null,
      "outputs": [
        {
          "output_type": "display_data",
          "data": {
            "text/plain": [
              "<Figure size 640x480 with 1 Axes>"
            ],
            "image/png": "[encoded data removed]"
          },
          "metadata": {}
        }
      ]
    },
    {
      "cell_type": "code",
      "source": [
        "plt.scatter(embeddings_scaled[0,0],embeddings_scaled[0,1],c='purple')\n",
        "plt.scatter(embeddings_scaled[4,0],embeddings_scaled[4,1],c='purple')\n",
        "plt.scatter(embeddings_scaled[1,0],embeddings_scaled[1,1],c='red')\n",
        "plt.scatter(embeddings_scaled[5,0],embeddings_scaled[5,1],c='red')\n",
        "plt.scatter(embeddings_scaled[2,0],embeddings_scaled[2,1],c='yellow')\n",
        "plt.scatter(embeddings_scaled[6,0],embeddings_scaled[6,1],c='yellow')\n",
        "plt.scatter(embeddings_scaled[3,0],embeddings_scaled[3,1],c='green')\n",
        "plt.scatter(embeddings_scaled[7,0],embeddings_scaled[7,1],c='green')\n",
        "plt.show()"
      ],
      "metadata": {
        "colab": {
          "base_uri": "https://localhost:8080/",
          "height": 431
        },
        "id": "2ormpL41zVxg",
        "outputId": "6e4a5443-4de8-4994-cc05-91882ee6209e"
      },
      "execution_count": null,
      "outputs": [
        {
          "output_type": "display_data",
          "data": {
            "text/plain": [
              "<Figure size 640x480 with 1 Axes>"
            ],
            "image/png": "[encoded data removed]"
          },
          "metadata": {}
        }
      ]
    },
    {
      "cell_type": "code",
      "source": [
        "sample_text=[\"The BJP's mocking of Rahul Gandhi as 'pappu' now seems shortsighted. As the Leader of the Opposition and a potential future PM, he has emerged as a formidable force in Indian politics. It's a clear reminder of the volatility and unpredictability of political dynamics.\",\"The BJP's dismissive 'pappu' tag for Rahul Gandhi is now coming back to haunt them. As the new Leader of the Opposition and a rising political figure, he commands significant influence. It serves as a cautionary tale against underestimating opponents in politics.\",\"The BJP's ridicule of Rahul Gandhi as 'pappu' appears to have underestimated his political acumen. Now, as the Leader of the Opposition and a potential PM, he stands as a formidable challenger. It underscores the volatility of political fortunes and the need for careful political strategy.\",\"Calling Rahul Gandhi 'pappu' was a strategic misstep for BJP and Modi. As the Leader of the Opposition and a prospective Prime Minister, he has garnered widespread support. It highlights the importance of respectful discourse in political rivalries.\"\n",
        "\n",
        "\"The BJP's ridicule of Rahul Gandhi as 'pappu' appears to have underestimated his political acumen. Now, as the Leader of the Opposition and a potential PM, he stands as a formidable challenger. It underscores the volatility of political fortunes and the need for careful political strategy.\",\"Calling Rahul Gandhi 'pappu' now seems like a miscalculation for BJP and Modi. As the Leader of the Opposition and potentially the future Prime Minister, his political stature is undeniable. It's a reminder that underestimating your opponent can have significant consequences in politics.\"\n",
        "]\n",
        "sample_tk=encode(sample_text,tokenizer)\n",
        "outputs = model(sample_tk)\n",
        "\n",
        "# Extract embeddings from BERT model\n",
        "last_hidden_states = outputs.hidden_states[-1]\n",
        "\n",
        "# Optional: You might want to average or pool the embeddings if you have multiple tokens.\n",
        "# For example, average pooling across the tokens\n",
        "embeddings_sample = tf.reduce_mean(last_hidden_states, axis=1)\n",
        "\n",
        "# Now 'embeddings' contains the contextual embeddings for your input text\n",
        "print(\"Embeddings:\")\n",
        "print(embeddings_sample)\n",
        "\n",
        "# If you also want the predictions, you can still do that:\n",
        "logits = outputs.logits  # Get the logits\n",
        "predictions = tf.nn.softmax(logits, axis=1)  # Apply softmax to get probabilities\n",
        "predicted_labels_sample = tf.argmax(predictions, axis=1)  # Get the predicted label\n",
        "\n",
        "# Print predictions\n",
        "print(\"\\nPredictions:\",predicted_labels_sample)"
      ],
      "metadata": {
        "colab": {
          "base_uri": "https://localhost:8080/"
        },
        "id": "IJQzzltl9_5O",
        "outputId": "bf59ab49-21ca-4d0e-f96a-3822b8d6f080"
      },
      "execution_count": null,
      "outputs": [
        {
          "output_type": "stream",
          "name": "stdout",
          "text": [
            "Embeddings:\n",
            "tf.Tensor(\n",
            "[[-4.0541914e-01 -7.6674081e-02 -1.5185001e-01 ...  1.8862723e-01\n",
            "  -5.9447587e-01  1.7219046e-01]\n",
            " [-1.9915126e-01  3.5649915e-03  3.0433476e-02 ...  2.5363478e-01\n",
            "  -5.1704580e-01  7.2263703e-02]\n",
            " [-5.3470767e-01 -5.7947148e-02 -1.5699217e-01 ...  9.8603822e-02\n",
            "  -6.3686734e-01  1.2073065e-01]\n",
            " [-5.6653601e-01 -2.5899228e-02 -3.1930834e-01 ...  1.1840515e-01\n",
            "  -8.0465353e-01  4.2006670e-04]\n",
            " [-1.5775397e-01  1.0154935e-02  3.1412657e-02 ...  1.9385006e-01\n",
            "  -3.2531109e-01  1.2352821e-01]], shape=(5, 768), dtype=float32)\n",
            "\n",
            "Predictions: tf.Tensor([1 1 1 1 1], shape=(5,), dtype=int64)\n"
          ]
        }
      ]
    },
    {
      "cell_type": "code",
      "source": [
        "embeddings_sample_2d=pca.transform(embeddings_sample)\n",
        "embeddings_sample_2d_scaled=scaler.transform(embeddings_sample_2d)\n",
        "print(embeddings_sample_2d_scaled)"
      ],
      "metadata": {
        "colab": {
          "base_uri": "https://localhost:8080/"
        },
        "id": "y2pi5nrT-lCI",
        "outputId": "9758bdcc-58cf-46c3-fdc8-fbb337ccbf1c"
      },
      "execution_count": null,
      "outputs": [
        {
          "output_type": "stream",
          "name": "stdout",
          "text": [
            "[[ 1.23408373  0.1885674 ]\n",
            " [ 1.13853283  0.23947232]\n",
            " [ 1.35348078  0.07705233]\n",
            " [ 1.98904296 -0.72602335]\n",
            " [ 0.60706627  0.09569974]]\n"
          ]
        }
      ]
    },
    {
      "cell_type": "code",
      "source": [
        "plt.scatter(embeddings_sample_2d_scaled[:,0],embeddings_sample_2d_scaled[:,1],c='red')\n",
        "plt.scatter(embeddings_scaled[7,0],embeddings_scaled[7,1],c='red')\n",
        "plt.scatter(embeddings_scaled[:7,0],embeddings_scaled[:7,1],c=[0,0,0,0,1,1,1])\n",
        "plt.scatter(embeddings_scaled[3,0],embeddings_scaled[3,1],c='red')\n",
        "plt.show()"
      ],
      "metadata": {
        "colab": {
          "base_uri": "https://localhost:8080/",
          "height": 431
        },
        "id": "6wtkoxUr-xzM",
        "outputId": "eda2d2ee-3e5f-4752-dd23-2702ab0de08a"
      },
      "execution_count": null,
      "outputs": [
        {
          "output_type": "display_data",
          "data": {
            "text/plain": [
              "<Figure size 640x480 with 1 Axes>"
            ],
            "image/png": "[encoded data removed]"
          },
          "metadata": {}
        }
      ]
    },
    {
      "cell_type": "code",
      "source": [
        "sample_text=[\"Ha! That would be hilarious. Tekkz schooling someone completely new to the competitive scene    Could you imagine the skill gap?  It would be a fun way to see Tekkz have to explain the mechanics in a whole new light.  Maybe Speed could even surprise us with some hidden talent!  #TekkzsBootcamp  #SpeedUpThePace\"]\n",
        "sample_tk=encode(sample_text,tokenizer)\n",
        "outputs = model(sample_tk)\n",
        "\n",
        "# Extract embeddings from BERT model\n",
        "last_hidden_states = outputs.hidden_states[-1]\n",
        "\n",
        "# Optional: You might want to average or pool the embeddings if you have multiple tokens.\n",
        "# For example, average pooling across the tokens\n",
        "embeddings_sample = tf.reduce_mean(last_hidden_states, axis=1)\n",
        "\n",
        "# Now 'embeddings' contains the contextual embeddings for your input text\n",
        "\n",
        "# If you also want the predictions, you can still do that:\n",
        "logits = outputs.logits  # Get the logits\n",
        "predictions = tf.nn.softmax(logits, axis=1)  # Apply softmax to get probabilities\n",
        "predicted_labels_sample = tf.argmax(predictions, axis=1)  # Get the predicted label\n",
        "\n",
        "# Print predictions\n",
        "print(\"\\nPredictions:\",predicted_labels_sample)"
      ],
      "metadata": {
        "id": "Gn1uxr0F_oBO",
        "colab": {
          "base_uri": "https://localhost:8080/"
        },
        "outputId": "241e0038-0d49-4c13-8873-afb0fcdb52b8"
      },
      "execution_count": null,
      "outputs": [
        {
          "output_type": "stream",
          "name": "stdout",
          "text": [
            "\n",
            "Predictions: tf.Tensor([0], shape=(1,), dtype=int64)\n"
          ]
        }
      ]
    },
    {
      "cell_type": "code",
      "source": [
        "embeddings_sample_2d=pca.transform(embeddings_sample)\n",
        "embeddings_sample_2d_scaled=scaler.transform(embeddings_sample_2d)\n",
        "print(embeddings_sample_2d_scaled)"
      ],
      "metadata": {
        "colab": {
          "base_uri": "https://localhost:8080/"
        },
        "id": "iyiBkTLF7Ysm",
        "outputId": "575b07bb-f9ac-418f-afe0-c670094bdb4f"
      },
      "execution_count": null,
      "outputs": [
        {
          "output_type": "stream",
          "name": "stdout",
          "text": [
            "[[-1.49861887 -1.5603747 ]]\n"
          ]
        }
      ]
    },
    {
      "cell_type": "code",
      "source": [
        "string1 = \"Python\"\n",
        "string2 = \"Programming\"\n",
        "result = string1 + \" \" + string2"
      ],
      "metadata": {
        "id": "8EYFed-K7wSU"
      },
      "execution_count": null,
      "outputs": []
    },
    {
      "cell_type": "code",
      "source": [],
      "metadata": {
        "id": "l2KjEkMz8QbH"
      },
      "execution_count": null,
      "outputs": []
    },
    {
      "cell_type": "code",
      "source": [
        "from transformers import GPT2Tokenizer, GPT2LMHeadModel\n",
        "\n",
        "# Initialize the tokenizer and model\n",
        "tokenizer = GPT2Tokenizer.from_pretrained('gpt2')\n",
        "model = GPT2LMHeadModel.from_pretrained('gpt2')\n",
        "\n",
        "# Tokenize input text\n",
        "input_text = \"Once upon a time\"\n",
        "inputs = tokenizer(input_text, return_tensors='pt')\n",
        "\n",
        "# Generate text\n",
        "outputs = model.generate(inputs['input_ids'], max_length=100, num_return_sequences=1)\n",
        "generated_text = tokenizer.decode(outputs[0], skip_special_tokens=True)\n",
        "\n",
        "print(generated_text)"
      ],
      "metadata": {
        "colab": {
          "base_uri": "https://localhost:8080/",
          "height": 415,
          "referenced_widgets": [
            "f7aaf3ab3ec243ed9edb0b8540f889f3",
            "ee25e950f6f54a69b87ac6eb34dacce0",
            "fc23dcf98b4f407a90a655f7ea8ff9b5",
            "9d99568c49d04b4183931d20b8552261",
            "5d6c5c396adc44b8883f525887f79491",
            "269d94b7a2ae4b18b5316a7f9e39a1fb",
            "949161665cca44c595303e0990681524",
            "00b0e89e9c9a4fc8a66a76422327e50a",
            "9ed7e32b0bbf42acbbde2a49a33c5417",
            "9f9d6cd7550c4546b44a2e07f50d7da2",
            "a548fe1bbc6c42a59fdf8dc66eea37de",
            "e73e8c10ec4c4261acdb2fdd6c61da1c",
            "ffe01b70315845e181b905d98160bf4e",
            "6c2fbf70332a4f2f9ffa1f8a49ab2fa4",
            "6da7699b85884fcda17b729137c1b952",
            "d5a098128be84c379ce90143f5b02952",
            "d22ec0fc50024541af177e268d9d76d3",
            "979692db537d4757b8cfa23f0a109ab2",
            "fc39b532812c478ea6c6ad51e8001d29",
            "c378024984364b6c84a2073ad805e696",
            "35db9f0e58774a9d9904bec48cb967b5",
            "b1e47ee5c9b049c29b1a83919b9844ee",
            "ba3ad86a51974d73915476b0b6bb7484",
            "30f41ca4726d431aab94218d92d84644",
            "e6cb20b103a04e4e85d0c8ff4f9c04c8",
            "ff69568e7d7d4fa9bf77b0af47a86f5d",
            "745d5dbfa09b485487ddf5505dcde09d",
            "02fb0c3e37d0408c954cfd5ddc298457",
            "95bdf7851baf4d71a6fb641993210caa",
            "e8ef300ccab8421b97348fe076aaf2e6",
            "f82ba7de50d046ff9788d107dc87f6b6",
            "532df6d12ec54b9c999d606da7bcb34d",
            "224a39be0c794fe0867c268a31fc02ba",
            "4853a1329b2946769043f3d2d45e505b",
            "ee12201fd7d64b75a75e0014d8a01673",
            "94ce88ef1c7b4d9f967721bb71f33341",
            "d2e1a14d1c3d4bb0be9464e4d21e28c6",
            "3f9bd08c6d514132b0fab0ebe3469c3d",
            "f003ed45e266402b8da3088a45e36620",
            "e434ed5f476e411da75725d21fbedb20",
            "f83ba40d3f634aa899765901ad187dce",
            "f2df8fff11594e1cb1b4a21691e4f847",
            "9bc6325fc0654279bd19a7b68bdfa922",
            "fde0089545db458a92103fe887e07722",
            "05196891422548de98acd807e7bffdff",
            "904f1a9e3b134e1fbe9cb8880fcab23d",
            "15a49511901f4090be82858dc743ab75",
            "9163c3bff35e45d7ad7239c77face4b7",
            "759eeade39cc4018abff8eace8cfd951",
            "41aaa579590c4a42846a398649bf73c4",
            "872dea17509a4131b63a37b5a35db039",
            "82068779acfa43608160156188d4e8ae",
            "cece8c93a3124997a54f09bb275737f8",
            "4970bb1c440444bb80e1c30ccbd44c50",
            "e6a185a75fa94ea59c561d3720d31f6f",
            "ff7a965620fe4efaabb3ce9370f85a3c",
            "9982a783d5e84fbd8b0079bced0102b4",
            "7666532772934b809056ab601b5a8caa",
            "44f3898fa6c04a59be467a66e917875c",
            "15248c8d507c4401aa4c8194425ddac1",
            "71b6df7dbab54d76b4914f24d160c0ce",
            "af79a9847b404c55a43927465ce13192",
            "aa1ce722aab642828c760b02a5fbceb8",
            "51faa6335064479eb51aa96c02453cf6",
            "7727a1f46ab34b91afa1a3a01a48aaee",
            "13e577fb415e45aea454bc614586f415",
            "00d02506172246a9b2ea5e3765d45f8b",
            "78d9f1bd59dc4fd19e2801d049333e2a",
            "d745298b82e74aa2b4dfedf7286664e1",
            "696863870e18405f9179294bc7e355f9",
            "0490105abaf04cc8ad6a0273241da755",
            "4605cc3e78c14a478ac829b1f6a3356e",
            "8c765a3621084afaa72366f5b71af21d",
            "bcf76b1b109c43e99a9c6feb119de834",
            "705a4998142a4f95a31c9121e7313daa",
            "1339009ba36d4130ac7e08b68bd2d512",
            "b12cca6c8305484b9d8ed3dc81fbd683"
          ]
        },
        "id": "Efi86gCyg9H4",
        "outputId": "ce6cbec2-7547-4d3f-97b0-03b07a88e361"
      },
      "execution_count": null,
      "outputs": [
        {
          "output_type": "stream",
          "name": "stderr",
          "text": [
            "/usr/local/lib/python3.10/dist-packages/huggingface_hub/utils/_token.py:89: UserWarning: \n",
            "The secret `HF_TOKEN` does not exist in your Colab secrets.\n",
            "To authenticate with the Hugging Face Hub, create a token in your settings tab (https://huggingface.co/settings/tokens), set it as secret in your Google Colab and restart your session.\n",
            "You will be able to reuse this secret in all of your notebooks.\n",
            "Please note that authentication is recommended but still optional to access public models or datasets.\n",
            "  warnings.warn(\n"
          ]
        },
        {
          "output_type": "display_data",
          "data": {
            "text/plain": [
              "tokenizer_config.json:   0%|          | 0.00/26.0 [00:00<?, ?B/s]"
            ],
            "application/vnd.jupyter.widget-view+json": {
              "version_major": 2,
              "version_minor": 0,
              "model_id": "f7aaf3ab3ec243ed9edb0b8540f889f3"
            }
          },
          "metadata": {}
        },
        {
          "output_type": "display_data",
          "data": {
            "text/plain": [
              "vocab.json:   0%|          | 0.00/1.04M [00:00<?, ?B/s]"
            ],
            "application/vnd.jupyter.widget-view+json": {
              "version_major": 2,
              "version_minor": 0,
              "model_id": "e73e8c10ec4c4261acdb2fdd6c61da1c"
            }
          },
          "metadata": {}
        },
        {
          "output_type": "display_data",
          "data": {
            "text/plain": [
              "merges.txt:   0%|          | 0.00/456k [00:00<?, ?B/s]"
            ],
            "application/vnd.jupyter.widget-view+json": {
              "version_major": 2,
              "version_minor": 0,
              "model_id": "ba3ad86a51974d73915476b0b6bb7484"
            }
          },
          "metadata": {}
        },
        {
          "output_type": "display_data",
          "data": {
            "text/plain": [
              "tokenizer.json:   0%|          | 0.00/1.36M [00:00<?, ?B/s]"
            ],
            "application/vnd.jupyter.widget-view+json": {
              "version_major": 2,
              "version_minor": 0,
              "model_id": "4853a1329b2946769043f3d2d45e505b"
            }
          },
          "metadata": {}
        },
        {
          "output_type": "display_data",
          "data": {
            "text/plain": [
              "config.json:   0%|          | 0.00/665 [00:00<?, ?B/s]"
            ],
            "application/vnd.jupyter.widget-view+json": {
              "version_major": 2,
              "version_minor": 0,
              "model_id": "05196891422548de98acd807e7bffdff"
            }
          },
          "metadata": {}
        },
        {
          "output_type": "display_data",
          "data": {
            "text/plain": [
              "model.safetensors:   0%|          | 0.00/548M [00:00<?, ?B/s]"
            ],
            "application/vnd.jupyter.widget-view+json": {
              "version_major": 2,
              "version_minor": 0,
              "model_id": "ff7a965620fe4efaabb3ce9370f85a3c"
            }
          },
          "metadata": {}
        },
        {
          "output_type": "display_data",
          "data": {
            "text/plain": [
              "generation_config.json:   0%|          | 0.00/124 [00:00<?, ?B/s]"
            ],
            "application/vnd.jupyter.widget-view+json": {
              "version_major": 2,
              "version_minor": 0,
              "model_id": "00d02506172246a9b2ea5e3765d45f8b"
            }
          },
          "metadata": {}
        },
        {
          "output_type": "stream",
          "name": "stderr",
          "text": [
            "The attention mask and the pad token id were not set. As a consequence, you may observe unexpected behavior. Please pass your input's `attention_mask` to obtain reliable results.\n",
            "Setting `pad_token_id` to `eos_token_id`:50256 for open-end generation.\n",
            "The attention mask is not set and cannot be inferred from input because pad token is same as eos token.As a consequence, you may observe unexpected behavior. Please pass your input's `attention_mask` to obtain reliable results.\n"
          ]
        },
        {
          "output_type": "stream",
          "name": "stdout",
          "text": [
            "Once upon a time, the world was a place of great beauty and great danger. The world was a place of great danger, and the world was a place of great danger. The world was a place of great danger, and the world was a\n"
          ]
        }
      ]
    },
    {
      "cell_type": "code",
      "source": [
        "outputs = model.generate(inputs['input_ids'], max_length=20, num_return_sequences=1)\n",
        "generated_text = tokenizer.decode(outputs[0], skip_special_tokens=True)\n",
        "print(generated_text)"
      ],
      "metadata": {
        "colab": {
          "base_uri": "https://localhost:8080/"
        },
        "id": "87q0BBkbg9KH",
        "outputId": "8094f0e4-b26f-4ea3-c86f-b89d01b4aad2"
      },
      "execution_count": null,
      "outputs": [
        {
          "output_type": "stream",
          "name": "stderr",
          "text": [
            "The attention mask and the pad token id were not set. As a consequence, you may observe unexpected behavior. Please pass your input's `attention_mask` to obtain reliable results.\n",
            "Setting `pad_token_id` to `eos_token_id`:50256 for open-end generation.\n"
          ]
        },
        {
          "output_type": "stream",
          "name": "stdout",
          "text": [
            "Once upon a time, the world was a place of great beauty and great danger. The world was\n"
          ]
        }
      ]
    },
    {
      "cell_type": "code",
      "source": [
        "outputs = model.generate(inputs['input_ids'], attention_mask=inputs.get('attention_mask', None), max_length=50, num_return_sequences=1)\n",
        "generated_text = tokenizer.decode(outputs[0], skip_special_tokens=True)\n",
        "print(generated_text)\n",
        "print(outputs)"
      ],
      "metadata": {
        "colab": {
          "base_uri": "https://localhost:8080/"
        },
        "id": "aLwhXnCqhTlN",
        "outputId": "7ca5da83-e6bf-4f49-e95d-0939037e765c"
      },
      "execution_count": null,
      "outputs": [
        {
          "output_type": "stream",
          "name": "stderr",
          "text": [
            "Setting `pad_token_id` to `eos_token_id`:50256 for open-end generation.\n"
          ]
        },
        {
          "output_type": "stream",
          "name": "stdout",
          "text": [
            "Once upon a time, the world was a place of great beauty and great danger. The world was a place of great danger, and the world was a place of great danger. The world was a place of great danger, and the world was a\n",
            "tensor([[7454, 2402,  257,  640,   11,  262,  995,  373,  257, 1295,  286, 1049,\n",
            "         8737,  290, 1049, 3514,   13,  383,  995,  373,  257, 1295,  286, 1049,\n",
            "         3514,   11,  290,  262,  995,  373,  257, 1295,  286, 1049, 3514,   13,\n",
            "          383,  995,  373,  257, 1295,  286, 1049, 3514,   11,  290,  262,  995,\n",
            "          373,  257]])\n"
          ]
        }
      ]
    },
    {
      "cell_type": "code",
      "source": [
        "outputs.shape"
      ],
      "metadata": {
        "colab": {
          "base_uri": "https://localhost:8080/"
        },
        "id": "mMNyEf2jhixY",
        "outputId": "c93b4b1f-b1bb-4360-d9eb-072500eb4318"
      },
      "execution_count": null,
      "outputs": [
        {
          "output_type": "execute_result",
          "data": {
            "text/plain": [
              "torch.Size([1, 50])"
            ]
          },
          "metadata": {},
          "execution_count": 9
        }
      ]
    },
    {
      "cell_type": "code",
      "source": [
        "import spacy\n",
        "from transformers import MarianMTModel, MarianTokenizer\n",
        "\n",
        "# Function to ensure the spaCy model is downloaded\n",
        "def load_spacy_model():\n",
        "    try:\n",
        "        nlp = spacy.load('es_core_news_sm')\n",
        "    except OSError:\n",
        "        print(\"Downloading spaCy's Spanish model...\")\n",
        "        spacy.cli.download('es_core_news_sm')\n",
        "        nlp = spacy.load('es_core_news_sm')\n",
        "    return nlp\n",
        "\n",
        "# Load spaCy model\n",
        "nlp = load_spacy_model()\n",
        "\n",
        "# Load pre-trained translation model and tokenizer\n",
        "model_name = 'Helsinki-NLP/opus-mt-en-es'\n",
        "tokenizer = MarianTokenizer.from_pretrained(model_name)\n",
        "translation_model = MarianMTModel.from_pretrained(model_name)\n",
        "\n",
        "def translate_and_analyze(text):\n",
        "    # Step 1: Translate English to Spanish\n",
        "    inputs = tokenizer(text, return_tensors=\"pt\", padding=True)\n",
        "    translated_tokens = translation_model.generate(**inputs)\n",
        "    translated_text = tokenizer.decode(translated_tokens[0], skip_special_tokens=True)\n",
        "\n",
        "    # Step 2: Perform grammatical analysis on the translated text\n",
        "    doc = nlp(translated_text)\n",
        "\n",
        "    # Step 3: Extract grammatical information\n",
        "    analysis = []\n",
        "    for token in doc:\n",
        "        analysis.append({\n",
        "            'text': token.text,\n",
        "            'lemma': token.lemma_,\n",
        "            'pos': token.pos_,\n",
        "            'tag': token.tag_,\n",
        "            'dep': token.dep_,\n",
        "            'head': token.head.text\n",
        "        })\n",
        "\n",
        "    return translated_text, analysis\n",
        "\n",
        "# Example usage\n",
        "english_text = \"The quick brown fox jumps over the lazy dog.\"\n",
        "spanish_translation, grammar_analysis = translate_and_analyze(english_text)\n",
        "\n",
        "print(f\"Translation: {spanish_translation}\")\n",
        "print(\"Grammatical Structure:\")\n",
        "for word_info in grammar_analysis:\n",
        "    print(word_info)"
      ],
      "metadata": {
        "colab": {
          "base_uri": "https://localhost:8080/"
        },
        "id": "V9g4DblLiKAu",
        "outputId": "016acaad-b929-48d1-892d-3a48a4e00370"
      },
      "execution_count": null,
      "outputs": [
        {
          "output_type": "stream",
          "name": "stdout",
          "text": [
            "Downloading spaCy's Spanish model...\n",
            "\u001b[38;5;2m✔ Download and installation successful\u001b[0m\n",
            "You can now load the package via spacy.load('es_core_news_sm')\n",
            "\u001b[38;5;3m⚠ Restart to reload dependencies\u001b[0m\n",
            "If you are in a Jupyter or Colab notebook, you may need to restart Python in\n",
            "order to load all the package's dependencies. You can do this by selecting the\n",
            "'Restart kernel' or 'Restart runtime' option.\n",
            "Translation: El zorro marrón salta sobre el perro perezoso.\n",
            "Grammatical Structure:\n",
            "{'text': 'El', 'lemma': 'el', 'pos': 'DET', 'tag': 'DET', 'dep': 'det', 'head': 'zorro'}\n",
            "{'text': 'zorro', 'lemma': 'zorro', 'pos': 'NOUN', 'tag': 'NOUN', 'dep': 'ROOT', 'head': 'zorro'}\n",
            "{'text': 'marrón', 'lemma': 'marrón', 'pos': 'ADJ', 'tag': 'ADJ', 'dep': 'amod', 'head': 'zorro'}\n",
            "{'text': 'salta', 'lemma': 'salta', 'pos': 'PROPN', 'tag': 'PROPN', 'dep': 'appos', 'head': 'zorro'}\n",
            "{'text': 'sobre', 'lemma': 'sobre', 'pos': 'ADP', 'tag': 'ADP', 'dep': 'case', 'head': 'perro'}\n",
            "{'text': 'el', 'lemma': 'el', 'pos': 'DET', 'tag': 'DET', 'dep': 'det', 'head': 'perro'}\n",
            "{'text': 'perro', 'lemma': 'perro', 'pos': 'NOUN', 'tag': 'NOUN', 'dep': 'nmod', 'head': 'zorro'}\n",
            "{'text': 'perezoso', 'lemma': 'perezoso', 'pos': 'ADJ', 'tag': 'ADJ', 'dep': 'amod', 'head': 'perro'}\n",
            "{'text': '.', 'lemma': '.', 'pos': 'PUNCT', 'tag': 'PUNCT', 'dep': 'punct', 'head': 'zorro'}\n"
          ]
        }
      ]
    },
    {
      "cell_type": "code",
      "source": [
        "python -m spacy download es_core_news_sm"
      ],
      "metadata": {
        "colab": {
          "base_uri": "https://localhost:8080/",
          "height": 106
        },
        "id": "gTKAkS2kOFh4",
        "outputId": "5bc8a1ed-ffe3-4788-a917-c3810f0fa887"
      },
      "execution_count": null,
      "outputs": [
        {
          "output_type": "error",
          "ename": "SyntaxError",
          "evalue": "invalid syntax (<ipython-input-2-05597d53c2bd>, line 1)",
          "traceback": [
            "\u001b[0;36m  File \u001b[0;32m\"<ipython-input-2-05597d53c2bd>\"\u001b[0;36m, line \u001b[0;32m1\u001b[0m\n\u001b[0;31m    python -m spacy download es_core_news_sm\u001b[0m\n\u001b[0m              ^\u001b[0m\n\u001b[0;31mSyntaxError\u001b[0m\u001b[0;31m:\u001b[0m invalid syntax\n"
          ]
        }
      ]
    },
    {
      "cell_type": "code",
      "source": [],
      "metadata": {
        "id": "_R6rAwEAOb7T"
      },
      "execution_count": null,
      "outputs": []
    }
  ]
}